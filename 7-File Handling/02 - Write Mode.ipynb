{
 "cells": [
  {
   "cell_type": "markdown",
   "id": "1b8a3457",
   "metadata": {},
   "source": [
    "# Writing Text File (Write Mode)\n",
    "\n",
    "FileHandling2.txt is Empty File..."
   ]
  },
  {
   "cell_type": "code",
   "execution_count": 4,
   "id": "26060027",
   "metadata": {},
   "outputs": [
    {
     "name": "stdout",
     "output_type": "stream",
     "text": [
      "I am writing into file using File Handling in PY\n"
     ]
    }
   ],
   "source": [
    "# 1 - Writing String in Text File\n",
    "# w stands for write mode\n",
    "# everytime it rewrites the existing file\n",
    "\n",
    "\n",
    "file = open(\"FileHandling2.txt\", \"w\")\n",
    "file.write(\"I am writing into file using File Handling in PY\")  \n",
    "file.close()\n",
    "\n",
    "# reading the contents of the file\n",
    "file = open(\"FileHandling2.txt\", \"r\")\n",
    "print(file.read())\n",
    "file.close()"
   ]
  },
  {
   "cell_type": "code",
   "execution_count": 5,
   "id": "69ab9839",
   "metadata": {},
   "outputs": [
    {
     "name": "stdout",
     "output_type": "stream",
     "text": [
      "This is line 1\n",
      "This is line 2\n",
      "This is line 3\n",
      "\n"
     ]
    }
   ],
   "source": [
    "# 2 - Writing List of StringLines in Text File\n",
    "# /n stands for new line\n",
    "# only nested iterable objects work, not work for non-iterable objects\n",
    "\n",
    "file = open(\"FileHandling2.txt\", \"w\")\n",
    "file.writelines([\"This is line 1\\n\", \"This is line 2\\n\", \"This is line 3\\n\"])\n",
    "file.close()\n",
    "\n",
    "# reading the contents of the file\n",
    "file = open(\"FileHandling2.txt\", \"r\")\n",
    "print(file.read())\n",
    "file.close()"
   ]
  },
  {
   "cell_type": "code",
   "execution_count": null,
   "id": "58413398",
   "metadata": {},
   "outputs": [],
   "source": []
  }
 ],
 "metadata": {
  "kernelspec": {
   "display_name": "Python 3",
   "language": "python",
   "name": "python3"
  },
  "language_info": {
   "codemirror_mode": {
    "name": "ipython",
    "version": 3
   },
   "file_extension": ".py",
   "mimetype": "text/x-python",
   "name": "python",
   "nbconvert_exporter": "python",
   "pygments_lexer": "ipython3",
   "version": "3.8.8"
  }
 },
 "nbformat": 4,
 "nbformat_minor": 5
}
