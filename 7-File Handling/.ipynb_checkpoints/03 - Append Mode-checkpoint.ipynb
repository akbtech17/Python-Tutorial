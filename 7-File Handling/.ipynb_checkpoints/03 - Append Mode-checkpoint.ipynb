{
 "cells": [
  {
   "cell_type": "markdown",
   "id": "1b8a3457",
   "metadata": {},
   "source": [
    "# Appending Text (Append Mode)\n",
    "\n",
    "FileHandling3.txt contains->\n",
    "\n",
    "This is Pre-Existing Text./n"
   ]
  },
  {
   "cell_type": "code",
   "execution_count": 3,
   "id": "26060027",
   "metadata": {},
   "outputs": [
    {
     "name": "stdout",
     "output_type": "stream",
     "text": [
      "This is Pre-Existing Text.\n",
      "Appending this String\n"
     ]
    }
   ],
   "source": [
    "# 1 - Appending string in Text File\n",
    "# a stands for append mode\n",
    "# everytime it appends the text in existing file\n",
    "\n",
    "file = open(\"FileHandling3.txt\", \"a\")\n",
    "file.write(\"Appending this String\")  \n",
    "file.close()\n",
    "\n",
    "# reading the contents of the file\n",
    "file = open(\"FileHandling3.txt\", \"r\")\n",
    "print(file.read())\n",
    "file.close()"
   ]
  },
  {
   "cell_type": "code",
   "execution_count": 5,
   "id": "69ab9839",
   "metadata": {},
   "outputs": [
    {
     "name": "stdout",
     "output_type": "stream",
     "text": [
      "This is Pre-Existing Text.\n",
      "Appending this String\n",
      "This is line 1\n",
      "This is line 2\n",
      "This is line 3\n",
      "\n"
     ]
    }
   ],
   "source": [
    "# 2 - Appending List of StringLines in Text File\n",
    "# /n stands for new line\n",
    "# only nested iterable objects work, not work for non-iterable objects\n",
    "\n",
    "file = open(\"FileHandling3.txt\", \"a\")\n",
    "file.writelines([\"\\nThis is line 1\\n\", \"This is line 2\\n\", \"This is line 3\\n\"])\n",
    "file.close()\n",
    "\n",
    "# reading the contents of the file\n",
    "file = open(\"FileHandling3.txt\", \"r\")\n",
    "print(file.read())\n",
    "file.close()"
   ]
  },
  {
   "cell_type": "code",
   "execution_count": null,
   "id": "58413398",
   "metadata": {},
   "outputs": [],
   "source": []
  }
 ],
 "metadata": {
  "kernelspec": {
   "display_name": "Python 3",
   "language": "python",
   "name": "python3"
  },
  "language_info": {
   "codemirror_mode": {
    "name": "ipython",
    "version": 3
   },
   "file_extension": ".py",
   "mimetype": "text/x-python",
   "name": "python",
   "nbconvert_exporter": "python",
   "pygments_lexer": "ipython3",
   "version": "3.8.8"
  }
 },
 "nbformat": 4,
 "nbformat_minor": 5
}
