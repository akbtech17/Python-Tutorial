{
 "cells": [
  {
   "cell_type": "markdown",
   "id": "b36e5eaa",
   "metadata": {},
   "source": [
    "# Reading Text File (Read Mode)\n",
    "\n",
    "FileHandling.txt contains ->\n",
    "\n",
    "\n",
    "This is first line.\n",
    "\n",
    "This is second line.\n",
    "\n",
    "This is third line."
   ]
  },
  {
   "cell_type": "code",
   "execution_count": 12,
   "id": "8181686a",
   "metadata": {},
   "outputs": [
    {
     "name": "stdout",
     "output_type": "stream",
     "text": [
      "This is first line.\n",
      "This is second line.\n",
      "This is third line.\n",
      "Pointer is at EOF!, hence no OUTPUT \n"
     ]
    }
   ],
   "source": [
    "# 1 - reading full text file\n",
    "\n",
    "file = open(\"FileHandling.txt\", \"r\")\n",
    "print(file.read())\n",
    "print(\"Pointer is at EOF!, hence no OUTPUT\", file.read())    \n",
    "# it will not print anything, since our ptr is at eof(last location of our file)\n",
    "\n",
    "file.close()   # we need to close the resource when not in use"
   ]
  },
  {
   "cell_type": "code",
   "execution_count": 13,
   "id": "a43ce6fb",
   "metadata": {},
   "outputs": [
    {
     "name": "stdout",
     "output_type": "stream",
     "text": [
      "This is first line.\n",
      "\n",
      "This is second line.\n",
      "\n",
      "This is third line.\n",
      "Pointer is at EOF!, hence no OUTPUT \n"
     ]
    }
   ],
   "source": [
    "# 2 - reading lines of text file\n",
    "\n",
    "file = open(\"FileHandling.txt\", \"r\")\n",
    "print(file.readline())   # print 1st line\n",
    "print(file.readline())   # print 2nd line\n",
    "print(file.readline())   # print 3rd line\n",
    "print(\"Pointer is at EOF!, hence no OUTPUT\", file.readline())    \n",
    "file.close()\n",
    "\n",
    "\n",
    "\n",
    "# print(file.read(10))   # upto 10 chars\n",
    "# print(file.readline(10))   # upto 10 chars\n",
    "# print(file.readlines(10))\n",
    "# upto 10 chars, if first object in a list contains l<= 10char,\n",
    "# it will print whole object"
   ]
  },
  {
   "cell_type": "code",
   "execution_count": 16,
   "id": "03f300a0",
   "metadata": {},
   "outputs": [
    {
     "name": "stdout",
     "output_type": "stream",
     "text": [
      "['This is first line.\\n', 'This is second line.\\n', 'This is third line.']\n",
      "Pointer is at EOF!, hence empty list []\n"
     ]
    }
   ],
   "source": [
    "# 3 - reading lines of text file and returning each line\n",
    "# as list of tokens\n",
    "\n",
    "# /n means new line char\n",
    "\n",
    "file = open(\"FileHandling.txt\", \"r\")\n",
    "print(file.readlines())   # print list of lines(tokens/objects)\n",
    "print(\"Pointer is at EOF!, hence empty list\", file.readlines())    \n",
    "file.close()"
   ]
  },
  {
   "cell_type": "code",
   "execution_count": 17,
   "id": "89a961b1",
   "metadata": {},
   "outputs": [
    {
     "name": "stdout",
     "output_type": "stream",
     "text": [
      "This \n"
     ]
    }
   ],
   "source": [
    "# 4 - reading certain number of chars from text file\n",
    "\n",
    "file = open(\"FileHandling.txt\", \"r\")\n",
    "print(file.read(5))   # read only first 5 chars  \n",
    "file.close()"
   ]
  },
  {
   "cell_type": "code",
   "execution_count": 18,
   "id": "bca33ba1",
   "metadata": {},
   "outputs": [
    {
     "name": "stdout",
     "output_type": "stream",
     "text": [
      "This \n"
     ]
    }
   ],
   "source": [
    "# 5 - reading certain number of chars from text file (using readline)\n",
    "\n",
    "file = open(\"FileHandling.txt\", \"r\")\n",
    "print(file.readline(5))   # read only first 5 chars  \n",
    "file.close()"
   ]
  },
  {
   "cell_type": "code",
   "execution_count": 27,
   "id": "5fa11c66",
   "metadata": {},
   "outputs": [
    {
     "name": "stdout",
     "output_type": "stream",
     "text": [
      "['This is first line.\\n']\n",
      "['This is first line.\\n', 'This is second line.\\n']\n"
     ]
    }
   ],
   "source": [
    "# 6 - reading certain number of chars from text file (using readlines)\n",
    "# it will display first token/object of list till the char count is <= len(list[0])\n",
    "\n",
    "file = open(\"FileHandling.txt\", \"r\")\n",
    "print(file.readlines(19))   # read first object/token in the list of lines  \n",
    "file.close()\n",
    "\n",
    "file = open(\"FileHandling.txt\", \"r\")\n",
    "print(file.readlines(20))   # read first and second object/token in the list of lines  \n",
    "file.close()"
   ]
  },
  {
   "cell_type": "code",
   "execution_count": 29,
   "id": "55301915",
   "metadata": {},
   "outputs": [
    {
     "name": "stdout",
     "output_type": "stream",
     "text": [
      "This is first line.\n",
      "This is second line.\n",
      "This is third line.\n",
      "This is first line.\n",
      "This is second line.\n",
      "This is third line.\n"
     ]
    }
   ],
   "source": [
    "# 7 - We can store the read file in ref variable, to refer this later in our program\n",
    "#     this ensures only one read for a file\n",
    "\n",
    "file = open(\"FileHandling.txt\", \"r\")\n",
    "var = file.read()        # stored the read object in variable\n",
    "print(var)               # can use the var multiple times\n",
    "print(var)\n",
    "\n",
    "file.close()   \n",
    "# print(file.read())    # error"
   ]
  },
  {
   "cell_type": "code",
   "execution_count": 31,
   "id": "fb66b9d1",
   "metadata": {},
   "outputs": [
    {
     "name": "stdout",
     "output_type": "stream",
     "text": [
      "initial idx :  0\n",
      "This is first line.\n",
      "\n",
      "idx after reading one line :  20\n",
      "This is second line.\n",
      "\n",
      "idx after reading two lines :  41\n",
      "reading file after resetting pointer :  This is first line.\n",
      "\n"
     ]
    }
   ],
   "source": [
    "# 8 - Reading files multiple time by setting/resetting file pointer\n",
    "\n",
    "file = open(\"FileHandling.txt\", \"r\")\n",
    "\n",
    "# tell the idx/location(real-time) of pointer in our file\n",
    "print(\"initial idx : \", file.tell())                 \n",
    "\n",
    "print(file.readline())\n",
    "print(\"idx after reading one line : \", file.tell())\n",
    "\n",
    "print(file.readline())\n",
    "print(\"idx after reading two lines : \", file.tell())\n",
    "\n",
    "# reset/set ptr to any specific idx\n",
    "file.seek(0)         \n",
    "print(\"reading file after resetting pointer : \", file.readline())\n"
   ]
  },
  {
   "cell_type": "code",
   "execution_count": 36,
   "id": "d54d692a",
   "metadata": {},
   "outputs": [
    {
     "name": "stdout",
     "output_type": "stream",
     "text": [
      "First Method\n",
      "This is first line.\n",
      "This is second line.\n",
      "This is third line.\n",
      "\n",
      "\n",
      "Second Method\n",
      "This is first line.\n",
      "This is second line.\n",
      "This is third line.\n"
     ]
    }
   ],
   "source": [
    "# 9 - Last flavour of reading file, using with keyword\n",
    "# priority - to close our opened resources\n",
    "\n",
    "print(\"First Method\")\n",
    "\n",
    "# normal reading of file\n",
    "file = open(\"FileHandling.txt\", \"r\")\n",
    "print(file.read())\n",
    "\n",
    "# there might be some code here which can cause execption/error\n",
    "# and our file may stay open only....to resolve this we use with keyword\n",
    "\n",
    "file.close()\n",
    "\n",
    "\n",
    "\n",
    "\n",
    "\n",
    "print(\"\\n\\nSecond Method\")\n",
    "with open(\"FileHandling.txt\", \"r\") as file: \n",
    "    data = file.read()        # reading file\n",
    "    print(data)               # accessing file\n",
    "\n",
    "    # is hi scope me file open rhegi\n",
    "    # yaha exception/error aa skta hai, toh ho skta hai fir file close na ho\n",
    "    \n",
    "    # print(0/0)    <- exception\n",
    "    \n",
    "    # file.close() - it is not required to define explicitly\n",
    "    # isliye hum with use krte hai ki automatic file close hojay\n",
    "    # auto close - (kyuki apne aaap scope se bahar jate hi file band hojaygi)\n",
    "\n",
    "    \n",
    "    \n",
    "# print(file.read)   # yha pe access nhi ho paygi file\n"
   ]
  },
  {
   "cell_type": "code",
   "execution_count": null,
   "id": "c91df17e",
   "metadata": {},
   "outputs": [],
   "source": []
  }
 ],
 "metadata": {
  "kernelspec": {
   "display_name": "Python 3",
   "language": "python",
   "name": "python3"
  },
  "language_info": {
   "codemirror_mode": {
    "name": "ipython",
    "version": 3
   },
   "file_extension": ".py",
   "mimetype": "text/x-python",
   "name": "python",
   "nbconvert_exporter": "python",
   "pygments_lexer": "ipython3",
   "version": "3.8.8"
  }
 },
 "nbformat": 4,
 "nbformat_minor": 5
}
