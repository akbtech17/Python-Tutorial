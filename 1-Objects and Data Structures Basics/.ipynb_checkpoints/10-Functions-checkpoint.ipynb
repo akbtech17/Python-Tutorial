{
 "cells": [
  {
   "cell_type": "markdown",
   "id": "cbbc02a9",
   "metadata": {},
   "source": [
    "# Functions\n"
   ]
  },
  {
   "cell_type": "code",
   "execution_count": 38,
   "id": "15dd2adf",
   "metadata": {},
   "outputs": [],
   "source": [
    "# 1 - python is dynamically typed language, snake casing is used to name the function\n",
    "# 2 - no-returntype, insteac of return type we use def keyword (define)\n",
    "# 3 - to indicate body we use colon, no braces,\n",
    "# 4 - do not use TAB, use 4 spaces instead (indentation)\n",
    "# 5 - after function body, give two lines of spaces "
   ]
  },
  {
   "cell_type": "code",
   "execution_count": 6,
   "id": "66f82cda",
   "metadata": {},
   "outputs": [
    {
     "name": "stdout",
     "output_type": "stream",
     "text": [
      "printing from funciton body 2 3\n",
      "5\n"
     ]
    }
   ],
   "source": [
    "# no need of mentioning returntype, used def instead, because python is Dynamically Typed Language\n",
    "# : to start the body\n",
    "# to define the scope of fn, use 4 space (dont use TAB), indentation\n",
    "\n",
    "def name_of_the_function(num1, num2):\n",
    "    '''\n",
    "    multi;ine string to explain the function\n",
    "    '''\n",
    "    print(\"printing from funciton body {} {}\".format(num1, num2))\n",
    "    return num1+num2\n",
    "# 1st line space\n",
    "# 2nd line space\n",
    "\n",
    "\n",
    "storeResult = add(2, 3)\n",
    "print(storeResult)"
   ]
  },
  {
   "cell_type": "code",
   "execution_count": 8,
   "id": "bb0ffba2",
   "metadata": {},
   "outputs": [
    {
     "name": "stdout",
     "output_type": "stream",
     "text": [
      "printing hello world from function body\n",
      "printing hello world from function body\n",
      "printing hello world from function body\n",
      "printing hello world from function body\n"
     ]
    }
   ],
   "source": [
    "# void-type function\n",
    "def printHelloWorld():\n",
    "    print(\"printing hello world from function body\")\n",
    "    \n",
    "\n",
    "printHelloWorld()"
   ]
  },
  {
   "cell_type": "code",
   "execution_count": 10,
   "id": "153f3b6d",
   "metadata": {},
   "outputs": [
    {
     "name": "stdout",
     "output_type": "stream",
     "text": [
      "10\n"
     ]
    }
   ],
   "source": [
    "# return-type function\n",
    "def returnNum():\n",
    "    return 10\n",
    "    \n",
    "\n",
    "var = returnNum()\n",
    "print(var)\n",
    "                               # OR\n",
    "print(returnVal())"
   ]
  },
  {
   "cell_type": "code",
   "execution_count": 18,
   "id": "c0aa0964",
   "metadata": {},
   "outputs": [
    {
     "name": "stdout",
     "output_type": "stream",
     "text": [
      "8\n",
      "8.7\n",
      "anshul bansal\n"
     ]
    },
    {
     "ename": "TypeError",
     "evalue": "paraFunction() missing 1 required positional argument: 'val2'",
     "output_type": "error",
     "traceback": [
      "\u001b[1;31m---------------------------------------------------------------------------\u001b[0m",
      "\u001b[1;31mTypeError\u001b[0m                                 Traceback (most recent call last)",
      "\u001b[1;32m<ipython-input-18-cf7d42ad5a9b>\u001b[0m in \u001b[0;36m<module>\u001b[1;34m\u001b[0m\n\u001b[0;32m      7\u001b[0m \u001b[0mprint\u001b[0m\u001b[1;33m(\u001b[0m\u001b[0mparaFunction\u001b[0m\u001b[1;33m(\u001b[0m\u001b[1;36m5.5\u001b[0m\u001b[1;33m,\u001b[0m\u001b[1;36m3.2\u001b[0m\u001b[1;33m)\u001b[0m\u001b[1;33m)\u001b[0m\u001b[1;33m\u001b[0m\u001b[1;33m\u001b[0m\u001b[0m\n\u001b[0;32m      8\u001b[0m \u001b[0mprint\u001b[0m\u001b[1;33m(\u001b[0m\u001b[0mparaFunction\u001b[0m\u001b[1;33m(\u001b[0m\u001b[1;34m\"anshul \"\u001b[0m\u001b[1;33m,\u001b[0m\u001b[1;34m\"bansal\"\u001b[0m\u001b[1;33m)\u001b[0m\u001b[1;33m)\u001b[0m\u001b[1;33m\u001b[0m\u001b[1;33m\u001b[0m\u001b[0m\n\u001b[1;32m----> 9\u001b[1;33m \u001b[0mprint\u001b[0m\u001b[1;33m(\u001b[0m\u001b[0mparaFunction\u001b[0m\u001b[1;33m(\u001b[0m\u001b[1;36m10\u001b[0m\u001b[1;33m)\u001b[0m\u001b[1;33m)\u001b[0m\u001b[1;33m\u001b[0m\u001b[1;33m\u001b[0m\u001b[0m\n\u001b[0m",
      "\u001b[1;31mTypeError\u001b[0m: paraFunction() missing 1 required positional argument: 'val2'"
     ]
    }
   ],
   "source": [
    "# it is the benefit of using def\n",
    "def paraFunction(val1, val2):\n",
    "    return val1+val2\n",
    "\n",
    "\n",
    "print(paraFunction(5,3))\n",
    "print(paraFunction(5.5,3.2))\n",
    "print(paraFunction(\"anshul \",\"bansal\"))\n",
    "print(paraFunction(10))\n"
   ]
  },
  {
   "cell_type": "code",
   "execution_count": 24,
   "id": "ff80cea2",
   "metadata": {},
   "outputs": [
    {
     "name": "stdout",
     "output_type": "stream",
     "text": [
      "bansalanshul\n"
     ]
    }
   ],
   "source": [
    "def food(p1,p2):\n",
    "    return p2+p1\n",
    "    \n",
    "print(food(\"anshul\",\"bansal\"))\n",
    "\n",
    "# 1- we cant pass, 0 or 3 args, we have to pass exactly 2 arg\n",
    "# 2- args are always passed sequence wise only (as default)"
   ]
  },
  {
   "cell_type": "code",
   "execution_count": 23,
   "id": "c4eb4ef6",
   "metadata": {},
   "outputs": [
    {
     "name": "stdout",
     "output_type": "stream",
     "text": [
      "Value1 is 50\n",
      "Value2 is Hello\n",
      "Value1 is Hello\n",
      "Value2 is 50\n"
     ]
    }
   ],
   "source": [
    "def paraFunctionOther(value1,value2):\n",
    "    print(\"Value1 is\", value1)\n",
    "    print(\"Value2 is\", value2)\n",
    "    \n",
    "    \n",
    "paraFunctionOther(50,\"Hello\")\n",
    "paraFunctionOther(value2=50,value1=\"Hello\")"
   ]
  },
  {
   "cell_type": "code",
   "execution_count": 26,
   "id": "dc3f360d",
   "metadata": {},
   "outputs": [
    {
     "name": "stdout",
     "output_type": "stream",
     "text": [
      "Value1 is 50\n",
      "Value1 is anshul\n"
     ]
    }
   ],
   "source": [
    "# default function, setting default arguement\n",
    "# funciton signature should mathc - (funciton name + parameters matching)\n",
    "def paraFunctionNext(value1=50):\n",
    "    print(\"Value1 is\", value1)\n",
    "    \n",
    "    \n",
    "paraFunctionNext()\n",
    "paraFunctionNext(\"anshul\")"
   ]
  },
  {
   "cell_type": "code",
   "execution_count": 30,
   "id": "91792161",
   "metadata": {},
   "outputs": [
    {
     "name": "stdout",
     "output_type": "stream",
     "text": [
      "age is (10,)\n",
      "age is (10, 20, 30, 40)\n"
     ]
    }
   ],
   "source": [
    "# taking tuple as parameter\n",
    "def paraFunctionNext(*age):\n",
    "    print(\"age is\", age)\n",
    "    \n",
    "    \n",
    "paraFunctionNext(10)                  # <- meaning, why comma\n",
    "paraFunctionNext(10,20,30,40)\n"
   ]
  },
  {
   "cell_type": "code",
   "execution_count": 31,
   "id": "c65fbc5c",
   "metadata": {},
   "outputs": [
    {
     "name": "stdout",
     "output_type": "stream",
     "text": [
      "number are  1\n",
      "values are  (2, 3, 4)\n"
     ]
    }
   ],
   "source": [
    "def fn(numbers=10, *values):\n",
    "    print(\"number are \", numbers)\n",
    "    print(\"values are \", values)\n",
    "    \n",
    "\n",
    "fn(1,2,3,4)"
   ]
  },
  {
   "cell_type": "code",
   "execution_count": 35,
   "id": "a51ff72e",
   "metadata": {},
   "outputs": [
    {
     "name": "stdout",
     "output_type": "stream",
     "text": [
      "number are  10\n",
      "values are  (1, 2, 3, 4)\n"
     ]
    }
   ],
   "source": [
    "def fn(*values,numbers=10):\n",
    "    print(\"number are \", numbers)\n",
    "    print(\"values are \", values)\n",
    "    \n",
    "\n",
    "fn(1,2,3,4)"
   ]
  },
  {
   "cell_type": "code",
   "execution_count": 36,
   "id": "cf84a7d4",
   "metadata": {},
   "outputs": [
    {
     "ename": "TypeError",
     "evalue": "fn() missing 1 required keyword-only argument: 'numbers'",
     "output_type": "error",
     "traceback": [
      "\u001b[1;31m---------------------------------------------------------------------------\u001b[0m",
      "\u001b[1;31mTypeError\u001b[0m                                 Traceback (most recent call last)",
      "\u001b[1;32m<ipython-input-36-c11939f7c9aa>\u001b[0m in \u001b[0;36m<module>\u001b[1;34m\u001b[0m\n\u001b[0;32m      4\u001b[0m \u001b[1;33m\u001b[0m\u001b[0m\n\u001b[0;32m      5\u001b[0m \u001b[1;33m\u001b[0m\u001b[0m\n\u001b[1;32m----> 6\u001b[1;33m \u001b[0mfn\u001b[0m\u001b[1;33m(\u001b[0m\u001b[1;36m1\u001b[0m\u001b[1;33m,\u001b[0m\u001b[1;36m2\u001b[0m\u001b[1;33m,\u001b[0m\u001b[1;36m3\u001b[0m\u001b[1;33m,\u001b[0m\u001b[1;36m4\u001b[0m\u001b[1;33m)\u001b[0m\u001b[1;33m\u001b[0m\u001b[1;33m\u001b[0m\u001b[0m\n\u001b[0m",
      "\u001b[1;31mTypeError\u001b[0m: fn() missing 1 required keyword-only argument: 'numbers'"
     ]
    }
   ],
   "source": [
    "def fn(*values,numbers):\n",
    "    print(\"number are \", numbers)\n",
    "    print(\"values are \", values)\n",
    "    \n",
    "\n",
    "fn(1,2,3,4)"
   ]
  },
  {
   "cell_type": "code",
   "execution_count": 44,
   "id": "150e855b",
   "metadata": {},
   "outputs": [
    {
     "name": "stdout",
     "output_type": "stream",
     "text": [
      "number are  4\n",
      "values are  (1, 2, 3)\n"
     ]
    }
   ],
   "source": [
    "def fn(*values,numbers):\n",
    "    print(\"number are \", numbers)\n",
    "    print(\"values are \", values)\n",
    "    \n",
    "\n",
    "fn(1,2,3,numbers=4)"
   ]
  },
  {
   "cell_type": "code",
   "execution_count": 34,
   "id": "80626843",
   "metadata": {},
   "outputs": [
    {
     "ename": "SyntaxError",
     "evalue": "invalid syntax (<ipython-input-34-98d747fb52ac>, line 1)",
     "output_type": "error",
     "traceback": [
      "\u001b[1;36m  File \u001b[1;32m\"<ipython-input-34-98d747fb52ac>\"\u001b[1;36m, line \u001b[1;32m1\u001b[0m\n\u001b[1;33m    def fn(*values,*numbers=(1,2,3)):\u001b[0m\n\u001b[1;37m                   ^\u001b[0m\n\u001b[1;31mSyntaxError\u001b[0m\u001b[1;31m:\u001b[0m invalid syntax\n"
     ]
    }
   ],
   "source": [
    "def fn(*values,*numbers=(1,2,3)):\n",
    "    print(\"number are \", numbers)\n",
    "    print(\"values are \", values)\n",
    "    \n",
    "\n",
    "fn(1,2,3,4)"
   ]
  },
  {
   "cell_type": "code",
   "execution_count": 48,
   "id": "88e98e8c",
   "metadata": {},
   "outputs": [
    {
     "name": "stdout",
     "output_type": "stream",
     "text": [
      "Four\n"
     ]
    }
   ],
   "source": [
    "# why.......................\n",
    "# it will invoke the neraest defined function\n",
    "\n",
    "\n",
    "def oneFun():\n",
    "    print(\"One\")\n",
    "\n",
    "    \n",
    "def oneFun():\n",
    "    print(\"Two\")\n",
    "\n",
    "    \n",
    "def oneFun():\n",
    "    print(\"Three\")\n",
    "\n",
    "    \n",
    "def oneFun():\n",
    "    print(\"Four\")\n",
    "\n",
    "    \n",
    "oneFun()"
   ]
  },
  {
   "cell_type": "code",
   "execution_count": 50,
   "id": "80b9e6de",
   "metadata": {},
   "outputs": [],
   "source": [
    "# declaring a funciton\n",
    "\n",
    "def fun():\n",
    "    pass\n",
    "    \n",
    "fun()"
   ]
  },
  {
   "cell_type": "code",
   "execution_count": 52,
   "id": "4aee94ef",
   "metadata": {},
   "outputs": [
    {
     "name": "stdout",
     "output_type": "stream",
     "text": [
      "anshul\n",
      "None\n"
     ]
    }
   ],
   "source": [
    "def fun():\n",
    "    print(\"anshul\")\n",
    "    \n",
    "    \n",
    "funReturn = fun()   # assignment is making call, first it wiill resolve the function call to know what is have to assign\n",
    "print(funReturn)"
   ]
  },
  {
   "cell_type": "code",
   "execution_count": 56,
   "id": "a19739da",
   "metadata": {},
   "outputs": [
    {
     "name": "stdout",
     "output_type": "stream",
     "text": [
      "150\n"
     ]
    }
   ],
   "source": [
    "def fun(num1,num2):\n",
    "    return num1 + num2\n",
    "    \n",
    "    \n",
    "funReturn = fun                # adding another reference to the function, \n",
    "print(funReturn(50,100))"
   ]
  },
  {
   "cell_type": "code",
   "execution_count": null,
   "id": "c0a2567a",
   "metadata": {},
   "outputs": [],
   "source": []
  }
 ],
 "metadata": {
  "kernelspec": {
   "display_name": "Python 3",
   "language": "python",
   "name": "python3"
  },
  "language_info": {
   "codemirror_mode": {
    "name": "ipython",
    "version": 3
   },
   "file_extension": ".py",
   "mimetype": "text/x-python",
   "name": "python",
   "nbconvert_exporter": "python",
   "pygments_lexer": "ipython3",
   "version": "3.8.8"
  }
 },
 "nbformat": 4,
 "nbformat_minor": 5
}
