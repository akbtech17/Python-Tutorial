{
 "cells": [
  {
   "cell_type": "code",
   "execution_count": 14,
   "id": "77c88018",
   "metadata": {},
   "outputs": [
    {
     "name": "stdout",
     "output_type": "stream",
     "text": [
      "enter your name - anshul\n",
      "enter your name - bansal\n",
      "given name is bansal\n"
     ]
    }
   ],
   "source": [
    "# using input funciton()\n",
    "\n",
    "nameIs = input(\"enter your name - \")\n",
    "print(\"given name is\", nameIs)"
   ]
  },
  {
   "cell_type": "code",
   "execution_count": null,
   "id": "26fc7f41",
   "metadata": {},
   "outputs": [],
   "source": [
    "# 1 - Type Conversion is the conversion of object from one data type to another data type.\n",
    "# 2 - Implicit Type Conversion is automatically performed by the Python interpreter.\n",
    "# 3 - Python avoids the loss of data in Implicit Type Conversion.\n",
    "# 4 - Explicit Type Conversion is also called Type Casting, the data types of objects are converted using predefined functions by the user.\n",
    "# 5 - In Type Casting, loss of data may occur as we enforce the object to a specific data type.\n",
    "# 6 - Only 3 functions are available for Explicit Type Casting. (int(), float(), str())"
   ]
  },
  {
   "cell_type": "code",
   "execution_count": 8,
   "id": "e1e1d374",
   "metadata": {},
   "outputs": [
    {
     "name": "stdout",
     "output_type": "stream",
     "text": [
      "enter the value of num1 - 45\n",
      "enter the value of num2 - 45\n",
      "num1 + num2 is  90\n"
     ]
    }
   ],
   "source": [
    "# default input is in form of String\n",
    "# int() type casting\n",
    "\n",
    "num1 = int(input(\"enter the value of num1 - \"))       # typecasting using int function\n",
    "num2 = int(input(\"enter the value of num2 - \"))       # typecasting using int function\n",
    "\n",
    "print(\"num1 + num2 is \", num1+num2)"
   ]
  },
  {
   "cell_type": "code",
   "execution_count": 9,
   "id": "cd1bcce1",
   "metadata": {},
   "outputs": [
    {
     "name": "stdout",
     "output_type": "stream",
     "text": [
      "enter the value of num1 - 14.6\n",
      "enter the value of num2 - 56.3\n",
      "num1 + num2 is  70.89999999999999\n"
     ]
    }
   ],
   "source": [
    "# No Double\n",
    "# float type casting\n",
    "\n",
    "num1 = float(input(\"enter the value of num1 - \"))       # typecasting using float function\n",
    "num2 = float(input(\"enter the value of num2 - \"))       # typecasting using flaot function\n",
    "\n",
    "print(\"num1 + num2 is \", num1+num2)"
   ]
  },
  {
   "cell_type": "code",
   "execution_count": 15,
   "id": "d7068804",
   "metadata": {},
   "outputs": [
    {
     "name": "stdout",
     "output_type": "stream",
     "text": [
      "enter your name - anshul\n",
      "given name is anshul\n"
     ]
    }
   ],
   "source": [
    "# str() - default \n",
    "\n",
    "nameIs = str(input(\"enter your name - \"))\n",
    "print(\"given name is\", nameIs)"
   ]
  },
  {
   "cell_type": "code",
   "execution_count": null,
   "id": "dcbd4d40",
   "metadata": {},
   "outputs": [],
   "source": []
  }
 ],
 "metadata": {
  "kernelspec": {
   "display_name": "Python 3",
   "language": "python",
   "name": "python3"
  },
  "language_info": {
   "codemirror_mode": {
    "name": "ipython",
    "version": 3
   },
   "file_extension": ".py",
   "mimetype": "text/x-python",
   "name": "python",
   "nbconvert_exporter": "python",
   "pygments_lexer": "ipython3",
   "version": "3.8.8"
  }
 },
 "nbformat": 4,
 "nbformat_minor": 5
}
