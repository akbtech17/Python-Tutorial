{
 "cells": [
  {
   "cell_type": "markdown",
   "id": "db67bdfc",
   "metadata": {},
   "source": [
    "# String\n",
    "1-> Strings are sequence of characters.\n",
    "\n",
    "2-> Strings are ordered sequences so we can perform indexing and slicing on Strings\n",
    "\n",
    "3-> Strings are IMMUTABLE!!!"
   ]
  },
  {
   "cell_type": "code",
   "execution_count": 22,
   "id": "98ff784c",
   "metadata": {},
   "outputs": [
    {
     "name": "stdout",
     "output_type": "stream",
     "text": [
      "hello im printing the string directly\n",
      "again printing wihtout storing in variable\n",
      "this is single quotted string\n",
      "this is double quoted string\n",
      "we can have 'single quotted string inside' the double quotted string\n",
      "length of string is :  68 \n",
      "\n",
      "\n",
      "this is\n",
      "multiline\n",
      "string\n"
     ]
    }
   ],
   "source": [
    "# Strings -> sequence of char\n",
    "# Ordered Sequences -> indexing, sicing can be performed\n",
    "\n",
    "print('hello im printing the string directly')\n",
    "print(\"again printing wihtout storing in variable\")\n",
    "\n",
    "string1 = 'this is single quotted string'\n",
    "string2 = \"this is double quoted string\"\n",
    "\n",
    "print(string1)\n",
    "print(string2)\n",
    "\n",
    "quote_string = \"we can have 'single quotted string inside' the double quotted string\"\n",
    "print(quote_string)\n",
    "\n",
    "# length of string\n",
    "print(\"length of string is : \", len(string3), \"\\n\\n\")\n",
    "\n",
    "# multilevel string using 3 single quotes\n",
    "print('''this is\n",
    "multiline\n",
    "string''')"
   ]
  },
  {
   "cell_type": "markdown",
   "id": "c8a24f7e",
   "metadata": {},
   "source": [
    "# Escape Sequence\n"
   ]
  },
  {
   "cell_type": "code",
   "execution_count": 10,
   "id": "a704dbc5",
   "metadata": {},
   "outputs": [
    {
     "name": "stdout",
     "output_type": "stream",
     "text": [
      "hello \n",
      " world\n",
      "hello \t space\n"
     ]
    }
   ],
   "source": [
    "# \\n is escape sequence for next line\n",
    "print('hello \\n world')\n",
    "\n",
    "# \\t is for space\n",
    "print('hello \\t space')"
   ]
  },
  {
   "cell_type": "markdown",
   "id": "a79063bd",
   "metadata": {},
   "source": [
    "# Indexing\n",
    "there can pe +ve as well as -ve indexes in python"
   ]
  },
  {
   "cell_type": "code",
   "execution_count": 21,
   "id": "0e46e1e8",
   "metadata": {},
   "outputs": [
    {
     "name": "stdout",
     "output_type": "stream",
     "text": [
      "Anshul\n",
      "A\n",
      "l\n",
      "l\n",
      "A\n"
     ]
    }
   ],
   "source": [
    "my_string = \"Anshul\"\n",
    "print(my_string)\n",
    "\n",
    "# +index, -index\n",
    "print(my_string[0])    # A\n",
    "print(my_string[5])    # l\n",
    "print(my_string[-1])   # l\n",
    "print(my_string[-6])   # l"
   ]
  },
  {
   "cell_type": "code",
   "execution_count": 29,
   "id": "dc3311fe",
   "metadata": {},
   "outputs": [
    {
     "name": "stdout",
     "output_type": "stream",
     "text": [
      "1768735958768\n",
      "1768735328176\n",
      "1768735171568\n",
      "1768735328240\n",
      "1768735351856\n",
      "\n",
      "\n",
      "\n",
      "False\n"
     ]
    }
   ],
   "source": [
    "# there are different displacements in each char's ids, \n",
    "# that means they are not stored in contigous blocks of memory.\n",
    "\n",
    "nameIs = \"Anshul\"\n",
    "print(id(nameIs[0]))\n",
    "print(id(nameIs[1]))\n",
    "print(id(nameIs[2]))\n",
    "print(id(nameIs[3]))\n",
    "print(id(nameIs[4]))\n",
    "\n",
    "print(\"\\n\\n\")\n",
    "\n",
    "\n",
    "# why the id of the string object differs from the id of first char\n",
    "print(nameIs is nameIs[0])"
   ]
  },
  {
   "cell_type": "markdown",
   "id": "255ffa3d",
   "metadata": {},
   "source": [
    "# Slicing\n",
    "1-> [start : stop : step], stop char is excluded always!!!\n",
    "\n",
    "2-> [start : ]\n",
    "\n",
    "3-> [start : stop]\n",
    "\n",
    "4-> [start : stop : step]"
   ]
  },
  {
   "cell_type": "code",
   "execution_count": 43,
   "id": "7291bb3c",
   "metadata": {},
   "outputs": [
    {
     "name": "stdout",
     "output_type": "stream",
     "text": [
      "Sumedha\n",
      "Sumedha\n",
      "Sum\n",
      "Smda\n",
      "Sume\n",
      "Sm\n",
      "Smda\n",
      "Smda\n",
      "ahdemuS\n",
      "ahdemuS\n"
     ]
    }
   ],
   "source": [
    "nameOther = \"Sumedha\"\n",
    "print(nameOther[0:])\n",
    "print(nameOther[::])\n",
    "print(nameOther[: 3:])\n",
    "print(nameOther[:: 2])\n",
    "\n",
    "print(nameOther[0: 4])         # stop char is excluded\n",
    "print(nameOther[0: 4: 2])      # step char is 2 means 1 char is skipped\n",
    "print(nameOther[0:: 2])        # if end value is skipped, default is full length\n",
    "print(nameOther[:: 2])         # if end value is skipped, default is full length\n",
    "print(nameOther[:: -1])        # if skipped string is reversed\n",
    "print(nameOther[-1: -8: -1])   # default for reverse of string"
   ]
  },
  {
   "cell_type": "markdown",
   "id": "f0ff65c3",
   "metadata": {},
   "source": [
    "# Immutability"
   ]
  },
  {
   "cell_type": "code",
   "execution_count": 45,
   "id": "2c9d2d75",
   "metadata": {
    "scrolled": true
   },
   "outputs": [
    {
     "name": "stdout",
     "output_type": "stream",
     "text": [
      "Pnshul\n"
     ]
    }
   ],
   "source": [
    "name = \"Anshul\"\n",
    "# name[0] = 'P'  ->  will give an error, we cant do this\n",
    "\n",
    "# to do this, we hace to use concatenation of strings\n",
    "last_letters = name[1::]\n",
    "req_string = 'P' + last_letters\n",
    "\n",
    "print(req_string)"
   ]
  },
  {
   "cell_type": "markdown",
   "id": "dbbb9eb9",
   "metadata": {},
   "source": [
    "# Concatenation"
   ]
  },
  {
   "cell_type": "code",
   "execution_count": 46,
   "id": "8068b743",
   "metadata": {},
   "outputs": [
    {
     "name": "stdout",
     "output_type": "stream",
     "text": [
      "this is my stringthis is concatenated string\n"
     ]
    }
   ],
   "source": [
    "my_string = \"this is my string\"\n",
    "con_string = \"this is concatenated string\"\n",
    "\n",
    "my_string += con_string\n",
    "print(my_string)"
   ]
  },
  {
   "cell_type": "code",
   "execution_count": 47,
   "id": "26b1f40c",
   "metadata": {},
   "outputs": [
    {
     "name": "stdout",
     "output_type": "stream",
     "text": [
      "aaaaa\n"
     ]
    }
   ],
   "source": [
    "# string multiplication\n",
    "newString = \"a\"\n",
    "newString *= 5\n",
    "print(newString)"
   ]
  },
  {
   "cell_type": "markdown",
   "id": "225b3314",
   "metadata": {},
   "source": [
    "# String Formatting -> .format()"
   ]
  },
  {
   "cell_type": "code",
   "execution_count": 31,
   "id": "b8c3d5db",
   "metadata": {},
   "outputs": [
    {
     "name": "stdout",
     "output_type": "stream",
     "text": [
      "first name is Amit last name is Pandey\n",
      "last name is Pandey first name is Amit\n"
     ]
    }
   ],
   "source": [
    "# without using string formatting, if we have to change the sequence of the string passed,\n",
    "# it becomes very difficult\n",
    "\n",
    "fName = \"Amit\"\n",
    "lName = \"Pandey\"\n",
    "\n",
    "print(\"first name is \" + fName + \" last name is \" + lName)\n",
    "print(\"last name is \" + lName + \" first name is \" + fName)"
   ]
  },
  {
   "cell_type": "code",
   "execution_count": 59,
   "id": "edbdff5b",
   "metadata": {},
   "outputs": [
    {
     "name": "stdout",
     "output_type": "stream",
     "text": [
      "first name is Amit and last name is Pandey \n",
      "first name is Pandey and last name is Amit \n"
     ]
    }
   ],
   "source": [
    "# string formatting - .format() method\n",
    "\n",
    "print(\"first name is {} and last name is {} \".format(fName, lName))\n",
    "print(\"first name is {} and last name is {} \".format(lName, fName))\n"
   ]
  },
  {
   "cell_type": "code",
   "execution_count": 35,
   "id": "45ee7265",
   "metadata": {},
   "outputs": [
    {
     "name": "stdout",
     "output_type": "stream",
     "text": [
      "first name is anand and last name is anish \n",
      "first name is anish and last name is anand \n"
     ]
    }
   ],
   "source": [
    "# we can refer different args depending upon refered variables\n",
    "print(\"first name is {1} and last name is {0} \".format(\"anish\", \"anand\"))\n",
    "print(\"first name is {0} and last name is {1} \".format(\"anish\", \"anand\"))"
   ]
  },
  {
   "cell_type": "code",
   "execution_count": 36,
   "id": "f23a2566",
   "metadata": {},
   "outputs": [
    {
     "name": "stdout",
     "output_type": "stream",
     "text": [
      "first name is anish and last name is anand \n"
     ]
    }
   ],
   "source": [
    "# we can have custom attributes for arguement values\n",
    "print(\"first name is {t} and last name is {r} \".format(t=\"anish\", r=\"anand\"))"
   ]
  },
  {
   "cell_type": "code",
   "execution_count": 65,
   "id": "f0096ff9",
   "metadata": {},
   "outputs": [
    {
     "name": "stdout",
     "output_type": "stream",
     "text": [
      "14.285714285714286\n",
      "The result was 14.286\n"
     ]
    }
   ],
   "source": [
    "# float formatting\n",
    "# {value :widht.precision f}\n",
    "\n",
    "result = 100/7\n",
    "print(result)\n",
    "\n",
    "# change the level of precision, and width\n",
    "# width - define total number of digits in the result\n",
    "print(\"The result was {r:1.3f}\".format(r=result)) "
   ]
  },
  {
   "cell_type": "markdown",
   "id": "d6f7978f",
   "metadata": {},
   "source": [
    "# Methods"
   ]
  },
  {
   "cell_type": "code",
   "execution_count": 49,
   "id": "3f2d110a",
   "metadata": {},
   "outputs": [
    {
     "name": "stdout",
     "output_type": "stream",
     "text": [
      "shubh\n",
      "SHUBH\n"
     ]
    }
   ],
   "source": [
    "# upper and lowercase methods\n",
    "lCase = \"ShUbH\"\n",
    "print(lCase.lower())\n",
    "print(lCase.upper())"
   ]
  },
  {
   "cell_type": "code",
   "execution_count": 38,
   "id": "83c13056",
   "metadata": {},
   "outputs": [
    {
     "name": "stdout",
     "output_type": "stream",
     "text": [
      "Anshul Anish\n"
     ]
    }
   ],
   "source": [
    "# replace\n",
    "replaceStr = \"Priyam Anish\"\n",
    "newReplacedStr = replaceStr.replace(\"Priyam\", \"Anshul\")\n",
    "print(newReplacedStr)"
   ]
  },
  {
   "cell_type": "code",
   "execution_count": 40,
   "id": "a0f35b08",
   "metadata": {},
   "outputs": [
    {
     "name": "stdout",
     "output_type": "stream",
     "text": [
      "21\n"
     ]
    }
   ],
   "source": [
    "# length of the string\n",
    "print(len(\"length of this string\"))"
   ]
  },
  {
   "cell_type": "code",
   "execution_count": 58,
   "id": "ce49212d",
   "metadata": {},
   "outputs": [
    {
     "name": "stdout",
     "output_type": "stream",
     "text": [
      "['hi', 'this', 'is', 'a', 'string']\n",
      "['hi', 'this', 'is', 'string', '2']\n"
     ]
    }
   ],
   "source": [
    "# split method - returns the list of tokens\n",
    "str = \"hi this is a string\"\n",
    "print(str.split())  \n",
    "\n",
    "str2 = \"hi.this.is.string.2\"\n",
    "print(str2.split('.'))  # we can pass deliminators as args"
   ]
  },
  {
   "cell_type": "code",
   "execution_count": null,
   "id": "9df8ef12",
   "metadata": {},
   "outputs": [],
   "source": []
  }
 ],
 "metadata": {
  "kernelspec": {
   "display_name": "Python 3",
   "language": "python",
   "name": "python3"
  },
  "language_info": {
   "codemirror_mode": {
    "name": "ipython",
    "version": 3
   },
   "file_extension": ".py",
   "mimetype": "text/x-python",
   "name": "python",
   "nbconvert_exporter": "python",
   "pygments_lexer": "ipython3",
   "version": "3.8.8"
  }
 },
 "nbformat": 4,
 "nbformat_minor": 5
}
