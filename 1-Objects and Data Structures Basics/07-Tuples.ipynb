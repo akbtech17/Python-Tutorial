{
 "cells": [
  {
   "cell_type": "markdown",
   "id": "cbbc02a9",
   "metadata": {},
   "source": [
    "# Tuple\n",
    "1-> Tuples are ORDERED sequence of that can hold VARIETY of object types.\n",
    "\n",
    "2-> We can perform indexing and slicing on Tuples\n",
    "\n",
    "3-> Tuples can be NESTED!!!\n",
    "\n",
    "4-> Immutable"
   ]
  },
  {
   "cell_type": "code",
   "execution_count": 28,
   "id": "66f82cda",
   "metadata": {},
   "outputs": [
    {
     "name": "stdout",
     "output_type": "stream",
     "text": [
      "(1, 2, 3, 4, 5)\n",
      "('apple', 12, 2.4)\n",
      "1\n",
      "(5, 4, 3, 2, 1)\n",
      "o\n",
      "u\n",
      "u\n",
      "\n",
      "\n",
      "length of the list 2\n"
     ]
    }
   ],
   "source": [
    "# empty tuple ????????????????? why not\n",
    "emp_tup = ()\n",
    "\n",
    "# homogenous data\n",
    "tup1 = (1, 2, 3, 4, 5)\n",
    "print(tup1)\n",
    "\n",
    "# heterogenous data\n",
    "tup2 = (\"apple\", 12, 2.4)\n",
    "print(tup2)\n",
    "\n",
    "# accesing, index \n",
    "tup3 = (1, 2, 3, 4, 5)\n",
    "print(tup3[0])\n",
    "print(tup3[::-1])\n",
    "\n",
    "listMore = [\"Pyhton\", \"Java\", \"JS\"]\n",
    "print(listMore[0][4])  # o\n",
    "\n",
    "nested_tuple = (\"Pyhton\", \"Java\", \"JS\", (\"Anshul\", 4, 5))  # nested tuples\n",
    "print(nested_tuple[3][0][4])  # u\n",
    "print(nested_tuple[3][0][-2])  # u\n",
    "\n",
    "# length\n",
    "print(\"\\n\\nlength of the list\", len(tup))\n"
   ]
  },
  {
   "cell_type": "markdown",
   "id": "c368f4ac",
   "metadata": {},
   "source": [
    "# Indexing\n"
   ]
  },
  {
   "cell_type": "code",
   "execution_count": 11,
   "id": "2f1b36f7",
   "metadata": {},
   "outputs": [
    {
     "name": "stdout",
     "output_type": "stream",
     "text": [
      "\n",
      "\n",
      "Indexing\n",
      "1\n",
      "5\n"
     ]
    }
   ],
   "source": [
    "# indexing\n",
    "tup = (1, 2, 3, 4, 5)\n",
    "print(\"\\n\\nIndexing\")\n",
    "print(tup[0])\n",
    "print(tup[-1])"
   ]
  },
  {
   "cell_type": "markdown",
   "id": "3ec6a630",
   "metadata": {},
   "source": [
    "# Slicing\n",
    "1-> [start : stop : step], stop char is excluded always!!!\n",
    "\n",
    "2-> [start : ]\n",
    "\n",
    "3-> [start : stop]\n",
    "\n",
    "4-> [start : stop : step]"
   ]
  },
  {
   "cell_type": "code",
   "execution_count": 10,
   "id": "c4ffb98d",
   "metadata": {},
   "outputs": [
    {
     "name": "stdout",
     "output_type": "stream",
     "text": [
      "\n",
      "\n",
      "Slicing\n",
      "(5, 4, 3, 2, 1)\n",
      "(1, 3, 5)\n"
     ]
    }
   ],
   "source": [
    "# slicing\n",
    "tup = (1, 2, 3, 4, 5)\n",
    "print(\"\\n\\nSlicing\")\n",
    "print(tup[::-1])\n",
    "print(tup[::2])"
   ]
  },
  {
   "cell_type": "markdown",
   "id": "ddc06caa",
   "metadata": {},
   "source": [
    "# Concatenation"
   ]
  },
  {
   "cell_type": "code",
   "execution_count": 25,
   "id": "2603639c",
   "metadata": {},
   "outputs": [
    {
     "name": "stdout",
     "output_type": "stream",
     "text": [
      "\n",
      "\n",
      "Concatenation\n",
      "(1, 2, 3, 4)\n"
     ]
    }
   ],
   "source": [
    "# concatenation\n",
    "tup = (1,2)\n",
    "tup2 = (3,4)\n",
    "print(\"\\n\\nConcatenation\")\n",
    "print(tup + tup2)\n",
    "\n",
    "# print(tup - tup2)              not possible"
   ]
  },
  {
   "cell_type": "markdown",
   "id": "8e0347c6",
   "metadata": {},
   "source": [
    "# Immutable"
   ]
  },
  {
   "cell_type": "code",
   "execution_count": 17,
   "id": "fc786299",
   "metadata": {
    "scrolled": true
   },
   "outputs": [
    {
     "name": "stdout",
     "output_type": "stream",
     "text": [
      "(1, 2, 3, 4, 5)\n"
     ]
    }
   ],
   "source": [
    "tup = (1, 2, 3, 4, 5)\n",
    "# tup[0] = \"anshul\"         we cant do this, it will give an error\n",
    "\n",
    "print(my_list)"
   ]
  },
  {
   "cell_type": "markdown",
   "id": "0845d8c3",
   "metadata": {},
   "source": [
    "# Methods"
   ]
  },
  {
   "cell_type": "code",
   "execution_count": 29,
   "id": "c212642c",
   "metadata": {},
   "outputs": [
    {
     "name": "stdout",
     "output_type": "stream",
     "text": [
      "3\n"
     ]
    }
   ],
   "source": [
    "# count\n",
    "tup = (10, 20, 30, 40, 50, 50, 50)\n",
    "print(tup.count(50))"
   ]
  },
  {
   "cell_type": "code",
   "execution_count": 30,
   "id": "4ae465e0",
   "metadata": {},
   "outputs": [
    {
     "name": "stdout",
     "output_type": "stream",
     "text": [
      "4\n"
     ]
    }
   ],
   "source": [
    "# index\n",
    "tup = (10, 20, 30, 40, 50, 50, 50)\n",
    "print(tup.index(50))"
   ]
  },
  {
   "cell_type": "markdown",
   "id": "32ad9815",
   "metadata": {},
   "source": [
    "# ID"
   ]
  },
  {
   "cell_type": "code",
   "execution_count": 31,
   "id": "e926a043",
   "metadata": {},
   "outputs": [
    {
     "name": "stdout",
     "output_type": "stream",
     "text": [
      "False\n",
      "1575929140992\n",
      "1575927943488\n",
      "True\n",
      "140725472077616\n",
      "140725472077616\n"
     ]
    }
   ],
   "source": [
    "tup = (1, 2, 3)\n",
    "tup2 = (1, 2, 3)\n",
    "\n",
    "print(tup is tup2)    # why it is not same\n",
    "print(id(tup))\n",
    "print(id(tup2))\n",
    "\n",
    "tup = (1)\n",
    "tup2 = (1)\n",
    "\n",
    "print(tup is tup2)    # it is same becuase it contains singleton object inside it\n",
    "print(id(tup))\n",
    "print(id(tup2))"
   ]
  },
  {
   "cell_type": "markdown",
   "id": "6081ea11",
   "metadata": {},
   "source": [
    "# Tuple with List"
   ]
  },
  {
   "cell_type": "code",
   "execution_count": 21,
   "id": "212568d7",
   "metadata": {},
   "outputs": [
    {
     "name": "stdout",
     "output_type": "stream",
     "text": [
      "(1, 2, 3, [1, 2, 3])\n",
      "(1, 2, 3, [10, 2, 3])\n"
     ]
    }
   ],
   "source": [
    "tup_with_list = (1, 2, 3, [1, 2, 3])\n",
    "print(tup_with_list)\n",
    "\n",
    "tup_with_list[3][0] = 10\n",
    "print(tup_with_list)"
   ]
  }
 ],
 "metadata": {
  "kernelspec": {
   "display_name": "Python 3",
   "language": "python",
   "name": "python3"
  },
  "language_info": {
   "codemirror_mode": {
    "name": "ipython",
    "version": 3
   },
   "file_extension": ".py",
   "mimetype": "text/x-python",
   "name": "python",
   "nbconvert_exporter": "python",
   "pygments_lexer": "ipython3",
   "version": "3.8.8"
  }
 },
 "nbformat": 4,
 "nbformat_minor": 5
}
