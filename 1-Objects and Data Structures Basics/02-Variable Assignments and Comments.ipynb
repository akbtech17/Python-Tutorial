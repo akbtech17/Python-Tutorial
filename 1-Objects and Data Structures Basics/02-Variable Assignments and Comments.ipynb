{
 "cells": [
  {
   "cell_type": "markdown",
   "id": "db249d46",
   "metadata": {},
   "source": [
    "# PEP 8"
   ]
  },
  {
   "cell_type": "code",
   "execution_count": null,
   "id": "b80b8d5f",
   "metadata": {},
   "outputs": [],
   "source": [
    "# pep8 is style of writing python syntaxes, rules"
   ]
  },
  {
   "cell_type": "markdown",
   "id": "b7a5c6dc",
   "metadata": {},
   "source": [
    "# Python uses dynamic typing, that means we can reasign vairaibles to different dataypes"
   ]
  },
  {
   "cell_type": "code",
   "execution_count": 7,
   "id": "cbf30cd4",
   "metadata": {},
   "outputs": [
    {
     "name": "stdout",
     "output_type": "stream",
     "text": [
      "2 <class 'int'>\n",
      "aatmic <class 'str'>\n"
     ]
    }
   ],
   "source": [
    "my_dogs = 2\n",
    "print(my_dogs, type(my_dogs))\n",
    "my_dogs = \"aatmic\"\n",
    "print(my_dogs, type(my_dogs))"
   ]
  },
  {
   "cell_type": "markdown",
   "id": "2a05a6ff",
   "metadata": {},
   "source": [
    "# Defining Variables"
   ]
  },
  {
   "cell_type": "code",
   "execution_count": 8,
   "id": "e64933fb",
   "metadata": {},
   "outputs": [
    {
     "name": "stdout",
     "output_type": "stream",
     "text": [
      "10\n"
     ]
    }
   ],
   "source": [
    "# there should be an appropriate gap in between operators and operands, otherwise we eill get warnings\n",
    "\n",
    "a = 10\n",
    "print(a)"
   ]
  },
  {
   "cell_type": "markdown",
   "id": "e38863a0",
   "metadata": {},
   "source": [
    "# Comments"
   ]
  },
  {
   "cell_type": "code",
   "execution_count": 9,
   "id": "5fce0cfa",
   "metadata": {},
   "outputs": [],
   "source": [
    "# this is the way to write single line comment"
   ]
  },
  {
   "cell_type": "code",
   "execution_count": null,
   "id": "9774c0e4",
   "metadata": {},
   "outputs": [],
   "source": [
    "# rules and important points for writing a comment\n",
    "# 1-> there are no multiline comments in python\n",
    "# 2-> after # there should be a space then comment\n",
    "# 3-> there should be two empty lines before and after each comment"
   ]
  }
 ],
 "metadata": {
  "kernelspec": {
   "display_name": "Python 3",
   "language": "python",
   "name": "python3"
  },
  "language_info": {
   "codemirror_mode": {
    "name": "ipython",
    "version": 3
   },
   "file_extension": ".py",
   "mimetype": "text/x-python",
   "name": "python",
   "nbconvert_exporter": "python",
   "pygments_lexer": "ipython3",
   "version": "3.8.8"
  }
 },
 "nbformat": 4,
 "nbformat_minor": 5
}
