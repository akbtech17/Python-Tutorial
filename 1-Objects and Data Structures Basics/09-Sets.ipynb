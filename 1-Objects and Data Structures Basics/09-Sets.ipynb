{
 "cells": [
  {
   "cell_type": "markdown",
   "id": "cbbc02a9",
   "metadata": {},
   "source": [
    "# Sets\n"
   ]
  },
  {
   "cell_type": "code",
   "execution_count": 38,
   "id": "15dd2adf",
   "metadata": {},
   "outputs": [],
   "source": [
    "# 1 - Sets are Unordered Collection of Unique Elements, ie there can be only one representative for one object \n",
    "# 2 - Set is defined using {} braces \n",
    "# 3 - Indexing is not avialable, thats why Unordered Collection\n",
    "# 4 - Sets are Immutable\n",
    "# 5 - Sets can have Heterogenous Objects too\n",
    "# 6 - Duplication is not allowed\n",
    "# 7 - + operator is not defined for Sets\n",
    "# 8 - some methods (union, intersection, difference ,symmetric_difference - opposite of intersection)\n",
    "# 9 - also, add, remove, clear, del, copy\n",
    "# 1 - | - for union\n",
    "# 2 - & - insersection\n",
    "# 3 - ^ - symm_difference"
   ]
  },
  {
   "cell_type": "code",
   "execution_count": 8,
   "id": "66f82cda",
   "metadata": {},
   "outputs": [
    {
     "name": "stdout",
     "output_type": "stream",
     "text": [
      "{1, 2, 3, 4, 5}\n",
      "{1, 'Python', 1.2}\n",
      "{1, 2, 3, 4, 5}\n"
     ]
    }
   ],
   "source": [
    "# creation\n",
    "sets = {1, 2, 3, 4, 5}\n",
    "print(sets)\n",
    "\n",
    "# heterogenous\n",
    "sets2 = {1, 1.2, \"Python\"}\n",
    "print(sets2)\n",
    "\n",
    "# duplication\n",
    "sets3 = {1, 2, 3, 4, 5, 2, 2, 3}\n",
    "print(sets3)\n",
    "\n",
    "# sets3[0] = 200                    # IMMUTABLE and No Indexing -> Unordered"
   ]
  },
  {
   "cell_type": "code",
   "execution_count": 11,
   "id": "65653de7",
   "metadata": {},
   "outputs": [
    {
     "name": "stdout",
     "output_type": "stream",
     "text": [
      "{1, 2, 3}\n",
      "{4, 5, 6}\n"
     ]
    }
   ],
   "source": [
    "setOne = {1, 2, 3}\n",
    "print(setOne)\n",
    "\n",
    "setTwo = {4, 5, 6}\n",
    "print(setTwo)\n",
    "\n",
    "# setFinal = setOne + setTwo                     # error, + operator is not defined for sets\n",
    "# print(setFinal)"
   ]
  },
  {
   "cell_type": "markdown",
   "id": "bc2c338f",
   "metadata": {},
   "source": [
    "# Accessing"
   ]
  },
  {
   "cell_type": "code",
   "execution_count": 62,
   "id": "f1ae3280",
   "metadata": {},
   "outputs": [],
   "source": [
    "# no index\n",
    "# no subset - no slicing\n",
    "# set is subset of itself\n",
    "# no direct accesing"
   ]
  },
  {
   "cell_type": "markdown",
   "id": "8e0347c6",
   "metadata": {},
   "source": [
    "# Immutable"
   ]
  },
  {
   "cell_type": "code",
   "execution_count": null,
   "id": "fc786299",
   "metadata": {
    "scrolled": true
   },
   "outputs": [],
   "source": []
  },
  {
   "cell_type": "markdown",
   "id": "0845d8c3",
   "metadata": {},
   "source": [
    "# Methods"
   ]
  },
  {
   "cell_type": "code",
   "execution_count": 41,
   "id": "c212642c",
   "metadata": {},
   "outputs": [
    {
     "name": "stdout",
     "output_type": "stream",
     "text": [
      "{1, 2, 3, 4, 5}\n",
      "{4, 5, 6}\n",
      "{8, 7}\n",
      "{1, 2, 3, 4, 5, 6, 7, 8}\n"
     ]
    }
   ],
   "source": [
    "setOne = {1, 2, 3, 4, 5}\n",
    "print(setOne)\n",
    "\n",
    "setTwo = {4, 5, 6}\n",
    "print(setTwo)\n",
    "\n",
    "setThree = {7, 8}\n",
    "print(setThree)\n",
    "\n",
    "setFinal = setOne.union(setTwo).union(setThree)      # union method\n",
    "print(setFinal)"
   ]
  },
  {
   "cell_type": "code",
   "execution_count": 15,
   "id": "6f15549a",
   "metadata": {},
   "outputs": [
    {
     "name": "stdout",
     "output_type": "stream",
     "text": [
      "{1, 2, 3, 4, 5}\n",
      "{4, 5, 6}\n",
      "{4, 5}\n"
     ]
    }
   ],
   "source": [
    "setOne = {1, 2, 3, 4, 5}\n",
    "print(setOne)\n",
    "\n",
    "setTwo = {4, 5, 6}\n",
    "print(setTwo)\n",
    "\n",
    "setFinal = setOne.intersection(setTwo)              # intersection method\n",
    "print(setFinal)"
   ]
  },
  {
   "cell_type": "code",
   "execution_count": 19,
   "id": "922ff1d9",
   "metadata": {},
   "outputs": [
    {
     "name": "stdout",
     "output_type": "stream",
     "text": [
      "{1, 2, 3, 4, 5}\n",
      "{2, 4, 5, 6}\n",
      "{6}\n"
     ]
    }
   ],
   "source": [
    "setOne = {1, 2, 3, 4, 5}\n",
    "print(setOne)\n",
    "\n",
    "setTwo = {4, 5, 6, 2}\n",
    "print(setTwo)\n",
    "\n",
    "setFinal = setTwo.difference(setOne)              # difference method set2 - set1\n",
    "print(setFinal)"
   ]
  },
  {
   "cell_type": "code",
   "execution_count": 20,
   "id": "15b4d5dc",
   "metadata": {},
   "outputs": [
    {
     "name": "stdout",
     "output_type": "stream",
     "text": [
      "{1, 2, 3, 4, 5}\n",
      "{2, 4, 5, 6}\n",
      "{1, 3, 6}\n"
     ]
    }
   ],
   "source": [
    "setOne = {1, 2, 3, 4, 5}\n",
    "print(setOne)\n",
    "\n",
    "setTwo = {4, 5, 6, 2}\n",
    "print(setTwo)\n",
    "\n",
    "setFinal = setTwo.symmetric_difference(setOne)     # symmetric-difference - opposite of intersection\n",
    "print(setFinal)"
   ]
  },
  {
   "cell_type": "code",
   "execution_count": 24,
   "id": "7c28204f",
   "metadata": {},
   "outputs": [
    {
     "name": "stdout",
     "output_type": "stream",
     "text": [
      "{1, 2, 3, 4, 5}\n",
      "{2, 4, 5, 6}\n",
      "{1, 3, 6}\n"
     ]
    }
   ],
   "source": [
    "setOne = {1, 2, 3, 4, 5}\n",
    "print(setOne)\n",
    "\n",
    "setTwo = {4, 5, 6, 2}\n",
    "print(setTwo)\n",
    "\n",
    "setTwo.symmetric_difference_update(setOne)     # symmetric-difference - opposite of intersection\n",
    "print(setTwo)                                  # setTwo will be updated\n",
    "\n",
    "# used only we want that our raw data keep intact"
   ]
  },
  {
   "cell_type": "code",
   "execution_count": 29,
   "id": "3708a0d9",
   "metadata": {},
   "outputs": [
    {
     "name": "stdout",
     "output_type": "stream",
     "text": [
      "{1, 2, 3, 4, 5}\n",
      "{1, 2, 3, 4, 5, 'anshul'}\n"
     ]
    }
   ],
   "source": [
    "# add\n",
    "setNew = {1, 2, 3, 4, 5}\n",
    "print(setNew)\n",
    "\n",
    "setNew.add(\"anshul\")\n",
    "print(setNew)"
   ]
  },
  {
   "cell_type": "code",
   "execution_count": 30,
   "id": "f4fe923a",
   "metadata": {},
   "outputs": [
    {
     "name": "stdout",
     "output_type": "stream",
     "text": [
      "{1, 2, 3, 4, 5}\n",
      "{1, 2, 4, 5}\n"
     ]
    }
   ],
   "source": [
    "# remove\n",
    "setNew = {1, 2, 3, 4, 5}\n",
    "print(setNew)\n",
    "\n",
    "setNew.remove(3)\n",
    "print(setNew)"
   ]
  },
  {
   "cell_type": "code",
   "execution_count": 35,
   "id": "83b1a262",
   "metadata": {},
   "outputs": [
    {
     "name": "stdout",
     "output_type": "stream",
     "text": [
      "{1, 2, 3, 4, 5}\n",
      "{2, 3, 4, 5}\n"
     ]
    }
   ],
   "source": [
    "# pop - random element is popped, search how it works...???!??!?!?\n",
    "setNew = {1, 2, 3, 4, 5}\n",
    "print(setNew)\n",
    "setNew.pop()\n",
    "print(setNew)"
   ]
  },
  {
   "cell_type": "code",
   "execution_count": 36,
   "id": "c8d2ab2f",
   "metadata": {},
   "outputs": [
    {
     "name": "stdout",
     "output_type": "stream",
     "text": [
      "{1, 2, 3, 4, 5}\n",
      "set()\n"
     ]
    }
   ],
   "source": [
    "# clear\n",
    "setNew = {1, 2, 3, 4, 5}\n",
    "print(setNew)\n",
    "setNew.clear()\n",
    "print(setNew)"
   ]
  },
  {
   "cell_type": "code",
   "execution_count": 48,
   "id": "5979bc2b",
   "metadata": {},
   "outputs": [
    {
     "name": "stdout",
     "output_type": "stream",
     "text": [
      "{1, 2, 3, 4, 5, 6, 7, 8}\n",
      "{3}\n",
      "{1, 2, 3, 6, 8}\n"
     ]
    }
   ],
   "source": [
    "setsOld = {1, 2, 3, 4, 5}\n",
    "setsAncient = {3, 4, 5, 6, 7}\n",
    "anotherSet = {7, 8, 3}\n",
    "\n",
    "setsUnion = setsOld | setsAncient | anotherSet     # union using operator (OR)\n",
    "print(setsUnion)\n",
    "\n",
    "setInter = setsOld & setsAncient & anotherSet      # intersection\n",
    "print(setInter)\n",
    "\n",
    "setSymDiff = setsOld ^ setsAncient ^ anotherSet    # Symmetric Difference\n",
    "print(setSymDiff)"
   ]
  },
  {
   "cell_type": "code",
   "execution_count": 53,
   "id": "fa19cc9f",
   "metadata": {},
   "outputs": [
    {
     "ename": "NameError",
     "evalue": "name 'setsOld' is not defined",
     "output_type": "error",
     "traceback": [
      "\u001b[1;31m---------------------------------------------------------------------------\u001b[0m",
      "\u001b[1;31mNameError\u001b[0m                                 Traceback (most recent call last)",
      "\u001b[1;32m<ipython-input-53-dfa9cde0b917>\u001b[0m in \u001b[0;36m<module>\u001b[1;34m\u001b[0m\n\u001b[0;32m      1\u001b[0m \u001b[0msetsOld\u001b[0m \u001b[1;33m=\u001b[0m \u001b[1;33m{\u001b[0m\u001b[1;36m1\u001b[0m\u001b[1;33m,\u001b[0m \u001b[1;36m2\u001b[0m\u001b[1;33m,\u001b[0m \u001b[1;36m3\u001b[0m\u001b[1;33m,\u001b[0m \u001b[1;36m4\u001b[0m\u001b[1;33m,\u001b[0m \u001b[1;36m5\u001b[0m\u001b[1;33m}\u001b[0m\u001b[1;33m\u001b[0m\u001b[1;33m\u001b[0m\u001b[0m\n\u001b[0;32m      2\u001b[0m \u001b[1;32mdel\u001b[0m \u001b[0msetsOld\u001b[0m\u001b[1;33m\u001b[0m\u001b[1;33m\u001b[0m\u001b[0m\n\u001b[1;32m----> 3\u001b[1;33m \u001b[0mprint\u001b[0m\u001b[1;33m(\u001b[0m\u001b[0msetsOld\u001b[0m\u001b[1;33m)\u001b[0m\u001b[1;33m\u001b[0m\u001b[1;33m\u001b[0m\u001b[0m\n\u001b[0m",
      "\u001b[1;31mNameError\u001b[0m: name 'setsOld' is not defined"
     ]
    }
   ],
   "source": [
    "# del operator\n",
    "setsOld = {1, 2, 3, 4, 5}\n",
    "del setsOld\n",
    "print(setsOld)"
   ]
  },
  {
   "cell_type": "code",
   "execution_count": 54,
   "id": "a4b0d2a8",
   "metadata": {},
   "outputs": [
    {
     "name": "stdout",
     "output_type": "stream",
     "text": [
      "{1, 2, 3}\n"
     ]
    }
   ],
   "source": [
    "# copy method\n",
    "setOne = {1, 2, 3}\n",
    "setCopy = setOne.copy()\n",
    "\n",
    "print(setCopy)"
   ]
  }
 ],
 "metadata": {
  "kernelspec": {
   "display_name": "Python 3",
   "language": "python",
   "name": "python3"
  },
  "language_info": {
   "codemirror_mode": {
    "name": "ipython",
    "version": 3
   },
   "file_extension": ".py",
   "mimetype": "text/x-python",
   "name": "python",
   "nbconvert_exporter": "python",
   "pygments_lexer": "ipython3",
   "version": "3.8.8"
  }
 },
 "nbformat": 4,
 "nbformat_minor": 5
}
