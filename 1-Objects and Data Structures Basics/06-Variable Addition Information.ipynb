{
 "cells": [
  {
   "cell_type": "code",
   "execution_count": 11,
   "id": "e986b97a",
   "metadata": {},
   "outputs": [
    {
     "name": "stdout",
     "output_type": "stream",
     "text": [
      "30\n",
      "HelloHi\n",
      "15.2\n"
     ]
    }
   ],
   "source": [
    "print(10 + 20)                     # 30\n",
    "print(\"Hello\" + \"Hi\")              # HelloHi\n",
    "\n",
    "# can concatenate string not int\n",
    "\n",
    "# print(\"Hello\" + 10)              # error   - java Hello10\n",
    "# print(20 + \"Hi\")                 # error   - java 20Hi\n",
    "# print(10 + 20 + \"hi\")            # error   - java 30hi\n",
    "# print(\"Hello\" + 10 + 20)         # error   - java Hello1020\n",
    "\n",
    "# print(10.22 + \"Hello\")           # error\n",
    "print(10.2 + 5)                    # different datatypes - addition"
   ]
  },
  {
   "cell_type": "code",
   "execution_count": null,
   "id": "71f5d5d0",
   "metadata": {},
   "outputs": [],
   "source": []
  }
 ],
 "metadata": {
  "kernelspec": {
   "display_name": "Python 3",
   "language": "python",
   "name": "python3"
  },
  "language_info": {
   "codemirror_mode": {
    "name": "ipython",
    "version": 3
   },
   "file_extension": ".py",
   "mimetype": "text/x-python",
   "name": "python",
   "nbconvert_exporter": "python",
   "pygments_lexer": "ipython3",
   "version": "3.8.8"
  }
 },
 "nbformat": 4,
 "nbformat_minor": 5
}
