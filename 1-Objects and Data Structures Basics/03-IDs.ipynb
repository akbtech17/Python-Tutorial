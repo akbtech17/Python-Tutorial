{
 "cells": [
  {
   "cell_type": "markdown",
   "id": "a15db44d",
   "metadata": {},
   "source": [
    "# Numbers"
   ]
  },
  {
   "cell_type": "code",
   "execution_count": 2,
   "id": "07beac45",
   "metadata": {},
   "outputs": [
    {
     "name": "stdout",
     "output_type": "stream",
     "text": [
      "True\n"
     ]
    }
   ],
   "source": [
    "num1 = 2\n",
    "num2 = 2\n",
    "print(num1 is num2) # id is same"
   ]
  },
  {
   "cell_type": "code",
   "execution_count": 3,
   "id": "86c079b9",
   "metadata": {},
   "outputs": [
    {
     "name": "stdout",
     "output_type": "stream",
     "text": [
      "False\n"
     ]
    }
   ],
   "source": [
    "num1 = 257\n",
    "num2 = 257\n",
    "print(num1 is num2) # id is not same"
   ]
  },
  {
   "cell_type": "markdown",
   "id": "3d169878",
   "metadata": {},
   "source": [
    "# Strings"
   ]
  },
  {
   "cell_type": "code",
   "execution_count": 5,
   "id": "4dac0367",
   "metadata": {},
   "outputs": [
    {
     "name": "stdout",
     "output_type": "stream",
     "text": [
      "True\n"
     ]
    }
   ],
   "source": [
    "name1 = \"anshul\"\n",
    "name2 = \"anshul\"\n",
    "print(name1 is name2) # id is same"
   ]
  },
  {
   "cell_type": "code",
   "execution_count": 6,
   "id": "f3ea769e",
   "metadata": {},
   "outputs": [
    {
     "name": "stdout",
     "output_type": "stream",
     "text": [
      "False\n"
     ]
    }
   ],
   "source": [
    "name1 = \"anshul bansal\"\n",
    "name2 = \"anshul bansal\"\n",
    "print(name1 is name2) # id is not same"
   ]
  },
  {
   "cell_type": "markdown",
   "id": "c468ba4d",
   "metadata": {},
   "source": [
    "# Floating"
   ]
  },
  {
   "cell_type": "code",
   "execution_count": 7,
   "id": "13318bc4",
   "metadata": {},
   "outputs": [
    {
     "name": "stdout",
     "output_type": "stream",
     "text": [
      "False\n"
     ]
    }
   ],
   "source": [
    "f1 = 20.3\n",
    "f2 = 20.3\n",
    "print(f1 is f2) # id is not same"
   ]
  },
  {
   "cell_type": "markdown",
   "id": "60d923ae",
   "metadata": {},
   "source": [
    "# Boolean"
   ]
  },
  {
   "cell_type": "code",
   "execution_count": 9,
   "id": "613c5188",
   "metadata": {},
   "outputs": [
    {
     "name": "stdout",
     "output_type": "stream",
     "text": [
      "True\n"
     ]
    }
   ],
   "source": [
    "b1 = 1\n",
    "b2 = 1\n",
    "print(b1 is b2) # id is same"
   ]
  },
  {
   "cell_type": "code",
   "execution_count": 10,
   "id": "df56fffd",
   "metadata": {},
   "outputs": [
    {
     "name": "stdout",
     "output_type": "stream",
     "text": [
      "True\n"
     ]
    }
   ],
   "source": [
    "b1 = 0\n",
    "b2 = 0\n",
    "print(b1 is b2) # id is same"
   ]
  }
 ],
 "metadata": {
  "kernelspec": {
   "display_name": "Python 3",
   "language": "python",
   "name": "python3"
  },
  "language_info": {
   "codemirror_mode": {
    "name": "ipython",
    "version": 3
   },
   "file_extension": ".py",
   "mimetype": "text/x-python",
   "name": "python",
   "nbconvert_exporter": "python",
   "pygments_lexer": "ipython3",
   "version": "3.8.8"
  }
 },
 "nbformat": 4,
 "nbformat_minor": 5
}
