{
 "cells": [
  {
   "cell_type": "markdown",
   "id": "cbbc02a9",
   "metadata": {},
   "source": [
    "# Lists\n",
    "1-> Lists are ORDERED sequence of that can hold VARIETY of object types.\n",
    "\n",
    "2-> We can perform indexing and slicing on Lists\n",
    "\n",
    "3-> Lists can be NESTED!!!\n",
    "\n",
    "4-> Mutable"
   ]
  },
  {
   "cell_type": "code",
   "execution_count": 21,
   "id": "66f82cda",
   "metadata": {},
   "outputs": [
    {
     "name": "stdout",
     "output_type": "stream",
     "text": [
      "[1, 2, 3, 4, 5]\n",
      "['apple', 12, 2.4]\n",
      "1\n",
      "[5, 4, 3, 2, 1]\n",
      "o\n",
      "u\n",
      "u\n",
      "\n",
      "\n",
      "length of the list 5\n"
     ]
    }
   ],
   "source": [
    "# empty list\n",
    "emp_list = []\n",
    "\n",
    "# homogenous data\n",
    "my_list = [1, 2, 3, 4, 5]\n",
    "print(my_list)\n",
    "\n",
    "# heterogenous data\n",
    "list2 = [\"apple\", 12, 2.4]\n",
    "print(list2)\n",
    "\n",
    "# accesing\n",
    "numberList = [1, 2, 3, 4, 5]\n",
    "print(numberList[0])\n",
    "print(numberList[::-1])\n",
    "\n",
    "listMore = [\"Pyhton\", \"Java\", \"JS\"]\n",
    "print(listMore[0][4])  # o\n",
    "\n",
    "listMore2 = [\"Pyhton\", \"Java\", \"JS\", [\"Anshul\", 4, 5]]  # nested list\n",
    "print(listMore2[3][0][4])  # u\n",
    "print(listMore2[3][0][-2])  # u\n",
    "\n",
    "# length\n",
    "print(\"\\n\\nlength of the list\", len(numberList))\n"
   ]
  },
  {
   "cell_type": "markdown",
   "id": "c368f4ac",
   "metadata": {},
   "source": [
    "# Indexing\n"
   ]
  },
  {
   "cell_type": "code",
   "execution_count": 15,
   "id": "2f1b36f7",
   "metadata": {},
   "outputs": [
    {
     "name": "stdout",
     "output_type": "stream",
     "text": [
      "\n",
      "\n",
      "Indexing\n",
      "1\n",
      "5\n"
     ]
    }
   ],
   "source": [
    "# indexing\n",
    "print(\"\\n\\nIndexing\")\n",
    "print(numberList[0])\n",
    "print(numberList[-1])"
   ]
  },
  {
   "cell_type": "markdown",
   "id": "3ec6a630",
   "metadata": {},
   "source": [
    "# Slicing\n",
    "1-> [start : stop : step], stop char is excluded always!!!\n",
    "\n",
    "2-> [start : ]\n",
    "\n",
    "3-> [start : stop]\n",
    "\n",
    "4-> [start : stop : step]"
   ]
  },
  {
   "cell_type": "code",
   "execution_count": 16,
   "id": "c4ffb98d",
   "metadata": {},
   "outputs": [
    {
     "name": "stdout",
     "output_type": "stream",
     "text": [
      "\n",
      "\n",
      "Slicing\n",
      "[5, 4, 3, 2, 1]\n",
      "[1, 3, 5]\n"
     ]
    }
   ],
   "source": [
    "# slicing\n",
    "print(\"\\n\\nSlicing\")\n",
    "print(numberList[::-1])\n",
    "print(numberList[::2])"
   ]
  },
  {
   "cell_type": "markdown",
   "id": "ddc06caa",
   "metadata": {},
   "source": [
    "# Concatenation"
   ]
  },
  {
   "cell_type": "code",
   "execution_count": 18,
   "id": "2603639c",
   "metadata": {},
   "outputs": [
    {
     "name": "stdout",
     "output_type": "stream",
     "text": [
      "\n",
      "\n",
      "Concatenation\n",
      "[1, 2, 3, 4, 5, 1, 2, 3, 4, 5]\n"
     ]
    }
   ],
   "source": [
    "# concatenation\n",
    "print(\"\\n\\nConcatenation\")\n",
    "print(numberList+numberList)"
   ]
  },
  {
   "cell_type": "markdown",
   "id": "8e0347c6",
   "metadata": {},
   "source": [
    "# Mutable"
   ]
  },
  {
   "cell_type": "code",
   "execution_count": 20,
   "id": "fc786299",
   "metadata": {
    "scrolled": true
   },
   "outputs": [
    {
     "name": "stdout",
     "output_type": "stream",
     "text": [
      "['anshul', 2, 3, 4, 5]\n"
     ]
    }
   ],
   "source": [
    "my_list = [1, 2, 3, 4, 5]\n",
    "my_list[0] = \"anshul\"\n",
    "\n",
    "print(my_list)"
   ]
  },
  {
   "cell_type": "markdown",
   "id": "0845d8c3",
   "metadata": {},
   "source": [
    "# Methods"
   ]
  },
  {
   "cell_type": "code",
   "execution_count": 22,
   "id": "c212642c",
   "metadata": {},
   "outputs": [
    {
     "name": "stdout",
     "output_type": "stream",
     "text": [
      "[10, 20, 30, 40, 50, 60]\n"
     ]
    }
   ],
   "source": [
    "# append\n",
    "listNew = [10, 20, 30, 40, 50]\n",
    "listNew.append(60)\n",
    "print(listNew)"
   ]
  },
  {
   "cell_type": "code",
   "execution_count": 23,
   "id": "4ae465e0",
   "metadata": {},
   "outputs": [
    {
     "name": "stdout",
     "output_type": "stream",
     "text": [
      "['Kajol', 'Aatmic', 'Varun', 'Lochan']\n"
     ]
    }
   ],
   "source": [
    "# insert - void return type\n",
    "nameList = [\"Kajol\", \"Varun\", \"Lochan\"]\n",
    "# nameList.insert(-1, \"Aatmic\")\n",
    "nameList.insert(1, \"Aatmic\")\n",
    "print(nameList)"
   ]
  },
  {
   "cell_type": "code",
   "execution_count": 27,
   "id": "7a0823bc",
   "metadata": {},
   "outputs": [
    {
     "name": "stdout",
     "output_type": "stream",
     "text": [
      "['Kajol', 'Varun']\n",
      "Varun\n",
      "['Kajol', 'Lochan']\n"
     ]
    }
   ],
   "source": [
    "# delete items - pop() method - return the popped item\n",
    "nameList = [\"Kajol\", \"Varun\", \"Lochan\"]\n",
    "nameList.pop()\n",
    "print(nameList)\n",
    "\n",
    "popped_item = nameList.pop()\n",
    "print(popped_item)\n",
    "\n",
    "nameList = [\"Kajol\", \"Varun\", \"Lochan\"]\n",
    "nameList.pop(1);   # we can pass index, reverse index also works \n",
    "print(nameList)"
   ]
  },
  {
   "cell_type": "code",
   "execution_count": 30,
   "id": "db0496c9",
   "metadata": {},
   "outputs": [
    {
     "name": "stdout",
     "output_type": "stream",
     "text": [
      "5\n"
     ]
    }
   ],
   "source": [
    "# length method - int return value\n",
    "listNew = [10, 20, 30, 40, 50]\n",
    "print(len(listNew))"
   ]
  },
  {
   "cell_type": "code",
   "execution_count": 29,
   "id": "f053f205",
   "metadata": {},
   "outputs": [
    {
     "name": "stdout",
     "output_type": "stream",
     "text": [
      "['a', 'b', 'c', 'e', 'x']\n"
     ]
    }
   ],
   "source": [
    "# sort method - void return type\n",
    "new_list =  ['a', 'e', 'x', 'b', 'c']\n",
    "new_list.sort()\n",
    "print(new_list)"
   ]
  },
  {
   "cell_type": "code",
   "execution_count": 31,
   "id": "01c37308",
   "metadata": {},
   "outputs": [
    {
     "name": "stdout",
     "output_type": "stream",
     "text": [
      "[5, 4, 3, 2, 1]\n"
     ]
    }
   ],
   "source": [
    "# reverse method (in-place) - void return type\n",
    "new_list =  [1, 2, 3, 4, 5]\n",
    "new_list.reverse()\n",
    "print(new_list)"
   ]
  },
  {
   "cell_type": "code",
   "execution_count": 32,
   "id": "86862465",
   "metadata": {},
   "outputs": [
    {
     "name": "stdout",
     "output_type": "stream",
     "text": [
      "[90, 9, 12, 15]\n",
      "True\n",
      "[10, 9, 12, 25]\n",
      "False\n"
     ]
    }
   ],
   "source": [
    "# copy using = operator - shallow copy\n",
    "# listOne = AD101\n",
    "# ListCopy = AD101\n",
    "listOne = [10, 9, 12, 15]\n",
    "listCopy = listOne\n",
    "listCopy[0] = 90\n",
    "print(listCopy)\n",
    "print(listCopy is listOne)  # shared the same memory\n",
    "\n",
    "\n",
    "# copy() method - deep copy\n",
    "# listTwo = AD101\n",
    "# ListCopyTwo = AD10X ... new List is created, older one is not referred\n",
    "\n",
    "listTwo = [10, 9, 12, 25]\n",
    "# listCopyTwo = listTwo\n",
    "listCopyTwo = listTwo.copy()\n",
    "print(listCopyTwo)\n",
    "print(listTwo is listCopyTwo) # different object is maintained here"
   ]
  },
  {
   "cell_type": "code",
   "execution_count": 33,
   "id": "b84192b3",
   "metadata": {},
   "outputs": [
    {
     "name": "stdout",
     "output_type": "stream",
     "text": [
      "[11, 22, 33, 44, 55, 66, 77, 80]\n",
      "[]\n",
      "['a', 'n', 'm', 'o', 'l']\n"
     ]
    }
   ],
   "source": [
    "# extend - it accepts an iterable object - inplace - void return type\n",
    "valueList = [11, 22, 33, 44, 55]\n",
    "valueList.extend([66, 77, 80])\n",
    "print(valueList)\n",
    "\n",
    "valueL = []\n",
    "print(valueL)\n",
    "valueL.extend(\"anmol\")\n",
    "print(valueL)"
   ]
  },
  {
   "cell_type": "code",
   "execution_count": 6,
   "id": "8b3ebd96",
   "metadata": {},
   "outputs": [
    {
     "name": "stdout",
     "output_type": "stream",
     "text": [
      "[11, 22, 44, 55]\n",
      "[44, 55]\n"
     ]
    }
   ],
   "source": [
    "# using del keyword\n",
    "listRemDel = [11, 22, 33, 44, 55]\n",
    "del listRemDel[2]\n",
    "print(listRemDel)\n",
    "\n",
    "del listRemDel[0: 2]\n",
    "print(listRemDel)\n",
    "\n",
    "del listRemDel  # it will delete structure also\n",
    "# print(listRemDel)"
   ]
  },
  {
   "cell_type": "code",
   "execution_count": 3,
   "id": "e0390778",
   "metadata": {},
   "outputs": [
    {
     "name": "stdout",
     "output_type": "stream",
     "text": [
      "[]\n"
     ]
    }
   ],
   "source": [
    "# clear\n",
    "listRemDel = [11, 22, 33, 44, 55]\n",
    "listRemDel.clear()   # it doesnt delete structure\n",
    "print(listRemDel)"
   ]
  },
  {
   "cell_type": "markdown",
   "id": "e4f8aa93",
   "metadata": {},
   "source": [
    "# ID - why ???\n"
   ]
  },
  {
   "cell_type": "code",
   "execution_count": 4,
   "id": "c0c94c15",
   "metadata": {},
   "outputs": [
    {
     "name": "stdout",
     "output_type": "stream",
     "text": [
      "False\n"
     ]
    }
   ],
   "source": [
    "print(numberList is numberList[0])  # why???"
   ]
  },
  {
   "cell_type": "code",
   "execution_count": 3,
   "id": "886a7e05",
   "metadata": {},
   "outputs": [
    {
     "name": "stdout",
     "output_type": "stream",
     "text": [
      "140726127896368\n",
      "140726127896400\n",
      "140726127896432\n",
      "140726127896464\n",
      "140726127896496\n"
     ]
    }
   ],
   "source": [
    "# gaping of ids are not constant\n",
    "# there are different displacements in each elements ids, \n",
    "# that means they are not stored in contigous blocks of memory.\n",
    "print(id(numberList[0]))\n",
    "print(id(numberList[1]))\n",
    "print(id(numberList[2]))\n",
    "print(id(numberList[3]))\n",
    "print(id(numberList[4]))"
   ]
  },
  {
   "cell_type": "markdown",
   "id": "80905558",
   "metadata": {},
   "source": [
    "# List with Tuple\n"
   ]
  },
  {
   "cell_type": "code",
   "execution_count": 20,
   "id": "1195f177",
   "metadata": {},
   "outputs": [
    {
     "name": "stdout",
     "output_type": "stream",
     "text": [
      "[1, 2, 3, (1, 2, 3)]\n",
      "[1, 2, 100, (1, 2, 3)]\n"
     ]
    }
   ],
   "source": [
    "list_with_tup = [1, 2, 3, (1, 2, 3)]\n",
    "print(list_with_tup)\n",
    "\n",
    "# list_with_tup[3][0] = 10          we cant mutate the tuple\n",
    "list_with_tup[2] = 100\n",
    "print(list_with_tup)"
   ]
  },
  {
   "cell_type": "code",
   "execution_count": null,
   "id": "a06740d0",
   "metadata": {},
   "outputs": [],
   "source": []
  }
 ],
 "metadata": {
  "kernelspec": {
   "display_name": "Python 3",
   "language": "python",
   "name": "python3"
  },
  "language_info": {
   "codemirror_mode": {
    "name": "ipython",
    "version": 3
   },
   "file_extension": ".py",
   "mimetype": "text/x-python",
   "name": "python",
   "nbconvert_exporter": "python",
   "pygments_lexer": "ipython3",
   "version": "3.8.8"
  }
 },
 "nbformat": 4,
 "nbformat_minor": 5
}
