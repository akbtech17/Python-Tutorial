{
 "cells": [
  {
   "cell_type": "markdown",
   "id": "cbbc02a9",
   "metadata": {},
   "source": [
    "# Dictionaries\n",
    "\n"
   ]
  },
  {
   "cell_type": "code",
   "execution_count": 38,
   "id": "15dd2adf",
   "metadata": {},
   "outputs": [],
   "source": [
    "# 1 - dictionaries are unordered collection of pairs {key: value}, MUTABLE\n",
    "# 2 - {} parenthesis are used to define dictionary\n",
    "# 3 - Indexing, Slicing is not available, that is why NO ORDER IS MAINTAINED\n",
    "# 4 - we can have multi-values for one key\n",
    "# 5 - we can have hashable objects (objects which are not mutable eg : tuple) as a Key\n",
    "# 6 - nesting of list is available\n",
    "# 7 - accessing is done only by key, (no idx presesnt)\n",
    "# 8 - we can overwrite/update a value for any associated keys\n",
    "# 9 - we are not allowed to directly manipulate or update the key\n",
    "# 1 - methods avaiable - update(), copy(), keys(), values()\n",
    "# 2 - we can create an empty dictionary too,"
   ]
  },
  {
   "cell_type": "code",
   "execution_count": 7,
   "id": "66f82cda",
   "metadata": {},
   "outputs": [
    {
     "name": "stdout",
     "output_type": "stream",
     "text": [
      "{}\n",
      "{1: 100}\n",
      "{'anshul': 100}\n",
      "{'anshul': [1, 2, 3]}\n",
      "{(1, 2, 3): 'value'}\n",
      "{1: 'anhsul', 2: {'mango': 12}}\n",
      "\n",
      "\n",
      "length of the dictionary 1\n"
     ]
    }
   ],
   "source": [
    "# empty dictionary \n",
    "dic1 = {}     # {} parenthesis\n",
    "print(dic1)\n",
    "\n",
    "dic2 = {1 : 100}\n",
    "print(dic2)\n",
    "\n",
    "# key can be of any mutable object type\n",
    "dic3 = {\"anshul\" : 100}\n",
    "print(dic3)\n",
    "\n",
    "# one key with many values\n",
    "dic4 = {\"anshul\" : [1, 2, 3]}\n",
    "print(dic4)\n",
    "\n",
    "# multi-key - tuple is hashable (not changable) key\n",
    "dic5 = {(1, 2, 3): \"value\"}\n",
    "print(dic5)\n",
    "\n",
    "# dic6 = {[1, 2, 3]: \"value\"}      # error - un-hashable type LIST\n",
    "# print(dic6)\n",
    "\n",
    "\n",
    "# nesting of the dic - sub dic\n",
    "nested_dic = {1: \"anhsul\", 2: {\"mango\": 12}}\n",
    "print(nested_dic)\n",
    "\n",
    "\n",
    "# length\n",
    "print(\"\\n\\nlength of the dictionary\", len(dic5))\n"
   ]
  },
  {
   "cell_type": "markdown",
   "id": "bc2c338f",
   "metadata": {},
   "source": [
    "# Accessing"
   ]
  },
  {
   "cell_type": "code",
   "execution_count": 35,
   "id": "f1ae3280",
   "metadata": {},
   "outputs": [
    {
     "name": "stdout",
     "output_type": "stream",
     "text": [
      "{'key': 'Value', 'key3': 'Value2', 'Key2': 20}\n",
      "20\n",
      "{'key': 'Value2', 'Key2': 20}\n",
      "\n",
      "\n",
      "Multi-Value\n",
      "1\n",
      "2\n",
      "3\n",
      "\n",
      "\n",
      "Multi-Key\n",
      "value\n",
      "\n",
      "\n",
      "SubDic\n",
      "12\n"
     ]
    }
   ],
   "source": [
    "# indexing is not available - unordered - because of no indexing\n",
    "\n",
    "# float as key, we can use, but not recommended\n",
    "dic = {\"key\": \"Value\", \"key3\": \"Value2\", \"Key2\": 20}\n",
    "print(dic)\n",
    "\n",
    "print(dic[\"Key2\"])\n",
    "\n",
    "\n",
    "# similar keys with different values can be written - overwritten\n",
    "dic = {\"key\": \"Value\", \"key\": \"Value2\", \"Key2\": 20}\n",
    "print(dic)\n",
    "\n",
    "\n",
    "# one key with many values\n",
    "print(\"\\n\\nMulti-Value\")\n",
    "dic = {\"key\" : [1, 2, 3]}\n",
    "print(dic[\"key\"][0])     # 1\n",
    "print(dic[\"key\"][1])     # 2\n",
    "print(dic[\"key\"][2])     # 3\n",
    "\n",
    "# multi-key - tuple is hashable (not changable) key\n",
    "print(\"\\n\\nMulti-Key\")\n",
    "dic5 = {(1, 2, 3): \"value\"}\n",
    "print(dic5[(1, 2, 3)])\n",
    "\n",
    "# nesting of the dic - sub dic\n",
    "print(\"\\n\\nSubDic\")\n",
    "nested_dic = {1: \"anhsul\", 2: {\"mango\": 12}}\n",
    "print(nested_dic[2][\"mango\"])"
   ]
  },
  {
   "cell_type": "markdown",
   "id": "8e0347c6",
   "metadata": {},
   "source": [
    "# Mutable"
   ]
  },
  {
   "cell_type": "code",
   "execution_count": 44,
   "id": "fc786299",
   "metadata": {
    "scrolled": true
   },
   "outputs": [
    {
     "name": "stdout",
     "output_type": "stream",
     "text": [
      "{1: 'anshul', 2: 'prakhar', 3: 'anish'}\n",
      "{1: 'anshul', 2: 'prakhar', 3: 'anish', 4: 'amit'}\n",
      "{1: 'anshul', 2: 'prakhar', 3: 'ketu', 4: 'amit'}\n",
      "\n",
      "\n",
      "After Copy\n",
      "{1: 'anshul', 2: 'prakhar', 3: 'ketu', 4: 'amit'}\n"
     ]
    }
   ],
   "source": [
    "# updating value through keys only\n",
    "dic = {1: \"anshul\", 2: \"aatmic\", 3: \"anish\"}\n",
    "dic[2] = \"prakhar\"\n",
    "print(dic)\n",
    "\n",
    "# updating a key of some certain value\n",
    "# we cannot update key directly\n",
    "\n",
    "# update\n",
    "dic.update({4: \"amit\"})    # inserting pair\n",
    "print(dic)\n",
    "\n",
    "dic.update({3: \"ketu\"})    # updating pair\n",
    "print(dic)\n",
    "\n",
    "print(\"\\n\\nAfter Copy\")\n",
    "dic_copy = dic.copy()      # deep copy\n",
    "print(dic_copy)"
   ]
  },
  {
   "cell_type": "markdown",
   "id": "0845d8c3",
   "metadata": {},
   "source": [
    "# Methods"
   ]
  },
  {
   "cell_type": "code",
   "execution_count": 37,
   "id": "c212642c",
   "metadata": {},
   "outputs": [
    {
     "name": "stdout",
     "output_type": "stream",
     "text": [
      "{'key': 'Value', 5: 'Value2', 'Key2': 20}\n",
      "dict_keys(['key', 5, 'Key2'])\n",
      "dict_values(['Value', 'Value2', 20])\n"
     ]
    }
   ],
   "source": [
    "# Keys and Values Accesing\n",
    "dic = {\"key\": \"Value\", 5: \"Value2\", \"Key2\": 20}\n",
    "print(dic)\n",
    "\n",
    "print(dic.keys())     # keys are stored in form of LISTS\n",
    "print(dic.values())   # values are also stores in form of LISTS"
   ]
  },
  {
   "cell_type": "code",
   "execution_count": 48,
   "id": "6f15549a",
   "metadata": {},
   "outputs": [
    {
     "name": "stdout",
     "output_type": "stream",
     "text": [
      "{5: 'Value2', 'Key2': 20}\n",
      "{'key': 'Value', 5: 'Value2', 'Key2': 20}\n"
     ]
    }
   ],
   "source": [
    "# remove\n",
    "dic = {\"key\": \"Value\", 5: \"Value2\", \"Key2\": 20}\n",
    "\n",
    "dic.pop(\"key\")\n",
    "print(dic)\n",
    "\n",
    "# it will remove an arbitary pair\n",
    "dic = {\"key\": \"Value\", 5: \"Value2\", \"Key2\": 20, \"Key3\": 30}\n",
    "dic.popitem()\n",
    "print(dic)"
   ]
  },
  {
   "cell_type": "code",
   "execution_count": 49,
   "id": "922ff1d9",
   "metadata": {},
   "outputs": [
    {
     "name": "stdout",
     "output_type": "stream",
     "text": [
      "{}\n"
     ]
    }
   ],
   "source": [
    "# clear\n",
    "dic = {\"key\": \"Value\", 5: \"Value2\", \"Key2\": 20, \"Key3\": 30}\n",
    "dic.clear()\n",
    "print(dic)"
   ]
  },
  {
   "cell_type": "code",
   "execution_count": 50,
   "id": "15b4d5dc",
   "metadata": {},
   "outputs": [
    {
     "ename": "NameError",
     "evalue": "name 'dic' is not defined",
     "output_type": "error",
     "traceback": [
      "\u001b[1;31m---------------------------------------------------------------------------\u001b[0m",
      "\u001b[1;31mNameError\u001b[0m                                 Traceback (most recent call last)",
      "\u001b[1;32m<ipython-input-50-156fdf87426a>\u001b[0m in \u001b[0;36m<module>\u001b[1;34m\u001b[0m\n\u001b[0;32m      2\u001b[0m \u001b[0mdic\u001b[0m \u001b[1;33m=\u001b[0m \u001b[1;33m{\u001b[0m\u001b[1;34m\"key\"\u001b[0m\u001b[1;33m:\u001b[0m \u001b[1;34m\"Value\"\u001b[0m\u001b[1;33m,\u001b[0m \u001b[1;36m5\u001b[0m\u001b[1;33m:\u001b[0m \u001b[1;34m\"Value2\"\u001b[0m\u001b[1;33m,\u001b[0m \u001b[1;34m\"Key2\"\u001b[0m\u001b[1;33m:\u001b[0m \u001b[1;36m20\u001b[0m\u001b[1;33m,\u001b[0m \u001b[1;34m\"Key3\"\u001b[0m\u001b[1;33m:\u001b[0m \u001b[1;36m30\u001b[0m\u001b[1;33m}\u001b[0m\u001b[1;33m\u001b[0m\u001b[1;33m\u001b[0m\u001b[0m\n\u001b[0;32m      3\u001b[0m \u001b[1;32mdel\u001b[0m \u001b[0mdic\u001b[0m\u001b[1;33m\u001b[0m\u001b[1;33m\u001b[0m\u001b[0m\n\u001b[1;32m----> 4\u001b[1;33m \u001b[0mprint\u001b[0m\u001b[1;33m(\u001b[0m\u001b[0mdic\u001b[0m\u001b[1;33m)\u001b[0m\u001b[1;33m\u001b[0m\u001b[1;33m\u001b[0m\u001b[0m\n\u001b[0m",
      "\u001b[1;31mNameError\u001b[0m: name 'dic' is not defined"
     ]
    }
   ],
   "source": [
    "# delete\n",
    "dic = {\"key\": \"Value\", 5: \"Value2\", \"Key2\": 20, \"Key3\": 30}\n",
    "del dic\n",
    "print(dic)"
   ]
  },
  {
   "cell_type": "code",
   "execution_count": null,
   "id": "7c28204f",
   "metadata": {},
   "outputs": [],
   "source": []
  }
 ],
 "metadata": {
  "kernelspec": {
   "display_name": "Python 3",
   "language": "python",
   "name": "python3"
  },
  "language_info": {
   "codemirror_mode": {
    "name": "ipython",
    "version": 3
   },
   "file_extension": ".py",
   "mimetype": "text/x-python",
   "name": "python",
   "nbconvert_exporter": "python",
   "pygments_lexer": "ipython3",
   "version": "3.8.8"
  }
 },
 "nbformat": 4,
 "nbformat_minor": 5
}
