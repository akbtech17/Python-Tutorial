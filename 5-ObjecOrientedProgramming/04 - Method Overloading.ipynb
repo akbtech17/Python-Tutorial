{
 "cells": [
  {
   "cell_type": "code",
   "execution_count": 3,
   "id": "181caf62",
   "metadata": {},
   "outputs": [
    {
     "name": "stdout",
     "output_type": "stream",
     "text": [
      "fun2 is executed!\n",
      "10\n",
      "20\n"
     ]
    }
   ],
   "source": [
    "# method overloading\n",
    "class Parent:\n",
    "    def overloadedMethod(self,num1):\n",
    "        print(\"fun1 \", num1)\n",
    "\n",
    "    def overloadedMethod(self,num1,num2):\n",
    "        print(\"fun2 is executed!\")\n",
    "        print(num1)\n",
    "        print(num2)\n",
    "\n",
    "\n",
    "p1 = Parent()\n",
    "p1.overloadedMethod(10,20)\n",
    "\n",
    "\n",
    "# p1.overloadedMethod(10)          \n",
    "# it will not execute\n",
    "# as fun reference variable is overwritten by fun2 object"
   ]
  },
  {
   "cell_type": "code",
   "execution_count": null,
   "id": "8b7f1e80",
   "metadata": {},
   "outputs": [],
   "source": []
  }
 ],
 "metadata": {
  "kernelspec": {
   "display_name": "Python 3",
   "language": "python",
   "name": "python3"
  },
  "language_info": {
   "codemirror_mode": {
    "name": "ipython",
    "version": 3
   },
   "file_extension": ".py",
   "mimetype": "text/x-python",
   "name": "python",
   "nbconvert_exporter": "python",
   "pygments_lexer": "ipython3",
   "version": "3.8.8"
  }
 },
 "nbformat": 4,
 "nbformat_minor": 5
}
