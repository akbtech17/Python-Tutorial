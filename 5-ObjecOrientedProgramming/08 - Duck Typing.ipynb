{
 "cells": [
  {
   "cell_type": "code",
   "execution_count": null,
   "id": "b13a0225",
   "metadata": {},
   "outputs": [],
   "source": [
    "class plane:\n",
    "    def fly(self):\n",
    "        print(\"this is plane class\")\n",
    "\n",
    "class parrot:\n",
    "        def sing(self):\n",
    "            print(\"this is parrot class\")\n",
    "\n",
    "class fish:\n",
    "    def swim(self):\n",
    "        print(\"this is fish class\")\n",
    "\n",
    "\n",
    "\n",
    "air = plane()\n",
    "mittu = parrot()\n",
    "nemo = fish()\n",
    "\n",
    "# air.swim()\n",
    "# how to know, whether this object can access swim method or not,\n",
    "# we say, that this obj is of class plane, and it will only access the methods associated to class \n",
    "# plane"
   ]
  },
  {
   "cell_type": "code",
   "execution_count": 4,
   "id": "0caa7515",
   "metadata": {},
   "outputs": [
    {
     "name": "stdout",
     "output_type": "stream",
     "text": [
      "this is plane class\n",
      "self cannot access swim() method, 'plane' object has no attribute 'swim'\n",
      "self cannot access sing() method, 'plane' object has no attribute 'sing'\n"
     ]
    }
   ],
   "source": [
    "# Duck Typing is a type system used in dynamic languages. \n",
    "# For example, Python, Perl, Ruby, PHP, Javascript, etc. \n",
    "# where the type or the class of an object is less important than the method it defines. \n",
    "# Using Duck Typing, we do not check types at all. \n",
    "# Instead, we check for the presence of a given method or attribute.\n",
    "\n",
    "# “If it looks like a duck and quacks like a duck, it’s a duck”\n",
    "\n",
    "\n",
    "class plane:\n",
    "    def fly(self):\n",
    "        print(\"this is plane class\")\n",
    "\n",
    "class parrot:\n",
    "        def sing(self):\n",
    "            print(\"this is parrot class\")\n",
    "\n",
    "class fish:\n",
    "    def swim(self):\n",
    "        print(\"this is fish class\")\n",
    "\n",
    "\n",
    "def check_behaviour(self):\n",
    "    try:\n",
    "        self.fly()\n",
    "    except Exception as e:\n",
    "        print(\"self cannot access fly() method,\", e)\n",
    "        \n",
    "    try:\n",
    "        self.swim()\n",
    "    except Exception as e:\n",
    "        print(\"self cannot access swim() method,\", e)\n",
    "        \n",
    "    try:\n",
    "        self.sing()\n",
    "    except Exception as e:\n",
    "        print(\"self cannot access sing() method,\", e)\n",
    "   \n",
    "\n",
    "air = plane()\n",
    "mittu = parrot()\n",
    "nemo = fish()\n",
    "\n",
    "check_behaviour(air)"
   ]
  },
  {
   "cell_type": "code",
   "execution_count": null,
   "id": "48dc1b31",
   "metadata": {},
   "outputs": [],
   "source": []
  }
 ],
 "metadata": {
  "kernelspec": {
   "display_name": "Python 3",
   "language": "python",
   "name": "python3"
  },
  "language_info": {
   "codemirror_mode": {
    "name": "ipython",
    "version": 3
   },
   "file_extension": ".py",
   "mimetype": "text/x-python",
   "name": "python",
   "nbconvert_exporter": "python",
   "pygments_lexer": "ipython3",
   "version": "3.8.8"
  }
 },
 "nbformat": 4,
 "nbformat_minor": 5
}
