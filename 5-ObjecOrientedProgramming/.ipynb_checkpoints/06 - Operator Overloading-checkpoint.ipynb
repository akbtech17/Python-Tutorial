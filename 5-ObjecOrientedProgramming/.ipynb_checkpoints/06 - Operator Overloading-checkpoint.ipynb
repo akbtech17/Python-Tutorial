{
 "cells": [
  {
   "cell_type": "code",
   "execution_count": 1,
   "id": "b98a7be0",
   "metadata": {},
   "outputs": [
    {
     "ename": "TypeError",
     "evalue": "unsupported operand type(s) for +: 'MyClass' and 'MyClass'",
     "output_type": "error",
     "traceback": [
      "\u001b[1;31m---------------------------------------------------------------------------\u001b[0m",
      "\u001b[1;31mTypeError\u001b[0m                                 Traceback (most recent call last)",
      "\u001b[1;32m<ipython-input-1-14a4295ef205>\u001b[0m in \u001b[0;36m<module>\u001b[1;34m\u001b[0m\n\u001b[0;32m     11\u001b[0m \u001b[0mn2\u001b[0m \u001b[1;33m=\u001b[0m \u001b[0mMyClass\u001b[0m\u001b[1;33m(\u001b[0m\u001b[1;36m20\u001b[0m\u001b[1;33m)\u001b[0m\u001b[1;33m\u001b[0m\u001b[1;33m\u001b[0m\u001b[0m\n\u001b[0;32m     12\u001b[0m \u001b[1;33m\u001b[0m\u001b[0m\n\u001b[1;32m---> 13\u001b[1;33m \u001b[0mprint\u001b[0m\u001b[1;33m(\u001b[0m\u001b[0mn1\u001b[0m \u001b[1;33m+\u001b[0m \u001b[0mn2\u001b[0m\u001b[1;33m)\u001b[0m\u001b[1;33m\u001b[0m\u001b[1;33m\u001b[0m\u001b[0m\n\u001b[0m",
      "\u001b[1;31mTypeError\u001b[0m: unsupported operand type(s) for +: 'MyClass' and 'MyClass'"
     ]
    }
   ],
   "source": [
    "# error\n",
    "# because, the meaning of + operator is not defined for objects of MyClass\n",
    "# so compiler is confused, how to add these objects and what to print\n",
    "\n",
    "class MyClass:\n",
    "    def __init__(self, num):\n",
    "        self.num = num\n",
    "\n",
    "\n",
    "n1 = MyClass(10)\n",
    "n2 = MyClass(20)\n",
    "\n",
    "print(n1 + n2)"
   ]
  },
  {
   "cell_type": "code",
   "execution_count": 3,
   "id": "46a142a4",
   "metadata": {},
   "outputs": [
    {
     "name": "stdout",
     "output_type": "stream",
     "text": [
      "30\n",
      "-10\n"
     ]
    }
   ],
   "source": [
    "# to define the meaning for an operator is known as Operator Overloading\n",
    "# every operator is associated with some Method\n",
    "# 1 + __add__() - these methods starts with two underscores, also known as Dunder/Magic Methods\n",
    "# 2 - __sub__() \n",
    "\n",
    "\n",
    "# (self,other)\n",
    "# self is the first operand of the operation, obj n1\n",
    "# other is the second operand of the operation, obj n2\n",
    "\n",
    "\n",
    "class MyClass:\n",
    "    def __init__(self, num):\n",
    "        self.num = num\n",
    "        \n",
    "    def __add__(self,other):                \n",
    "        return self.num + other.num\n",
    "    \n",
    "    def __sub__(self,other):\n",
    "        return self.num - other.num\n",
    "    \n",
    "\n",
    "n1 = MyClass(10)\n",
    "n2 = MyClass(20)\n",
    "\n",
    "print(n1 + n2)\n",
    "print(n1 - n2)"
   ]
  },
  {
   "cell_type": "code",
   "execution_count": null,
   "id": "ea377c78",
   "metadata": {},
   "outputs": [],
   "source": []
  }
 ],
 "metadata": {
  "kernelspec": {
   "display_name": "Python 3",
   "language": "python",
   "name": "python3"
  },
  "language_info": {
   "codemirror_mode": {
    "name": "ipython",
    "version": 3
   },
   "file_extension": ".py",
   "mimetype": "text/x-python",
   "name": "python",
   "nbconvert_exporter": "python",
   "pygments_lexer": "ipython3",
   "version": "3.8.8"
  }
 },
 "nbformat": 4,
 "nbformat_minor": 5
}
