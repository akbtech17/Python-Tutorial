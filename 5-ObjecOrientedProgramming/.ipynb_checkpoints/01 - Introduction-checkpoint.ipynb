{
 "cells": [
  {
   "cell_type": "code",
   "execution_count": null,
   "id": "37909ef3",
   "metadata": {},
   "outputs": [],
   "source": [
    "# 1 - OOP allows us to create our own objects that have methods and attributes\n",
    "# 2 - Everything is stored in form of Objects in Pyhton\n",
    "# 3 - Methods are the functions defined in any Class"
   ]
  },
  {
   "cell_type": "code",
   "execution_count": 15,
   "id": "9c0bec7c",
   "metadata": {},
   "outputs": [
    {
     "name": "stdout",
     "output_type": "stream",
     "text": [
      "type of int variable  <class 'int'>\n",
      "type of non-empty list  <class 'list'>\n",
      "type of empty list  <class 'list'>\n",
      "type of non-empty tup  <class 'int'>\n",
      "type of empty tup  <class 'tuple'>\n",
      "type of non-empty set  <class 'set'>\n",
      "type of an empty set  <class 'dict'>\n",
      "type of an empty set  <class 'set'>\n",
      "type of non-empty dic  <class 'dict'>\n",
      "type of an empty dic  <class 'dict'>\n"
     ]
    }
   ],
   "source": [
    "# Everthing is Object in Python\n",
    "\n",
    "# now in place of variable -> value(element)\n",
    "# we will use term reference variable -> object\n",
    "var = 10\n",
    "print(\"type of int variable \", type(var))     # class type\n",
    "\n",
    "stringVal = \"anshul\"\n",
    "print(type(stringVal))\n",
    "\n",
    "lis = [1]\n",
    "print(\"type of non-empty list \", type(lis)) \n",
    "lisEmp = []\n",
    "print(\"type of empty list \", type(lisEmp))\n",
    "\n",
    "tup = (1)\n",
    "print(\"type of non-empty tup \", type(tup))    # why int\n",
    "tupEmp = ()\n",
    "print(\"type of empty tup \", type(tupEmp))\n",
    "\n",
    "myset = {1}\n",
    "print(\"type of non-empty set \", type(myset))  \n",
    "setEmp = {}\n",
    "print(\"type of an empty set \", type(setEmp))  # dict why?\n",
    "# creating empty set\n",
    "setEmp2 = set({})\n",
    "print(\"type of an empty set \", type(setEmp2)) # created using set() function\n",
    "\n",
    "dic = {1:\"anshul\"}\n",
    "print(\"type of non-empty dic \", type(dic))  \n",
    "dicEmp = {}\n",
    "print(\"type of an empty dic \", type(dicEmp))"
   ]
  },
  {
   "cell_type": "code",
   "execution_count": 24,
   "id": "1cb6a605",
   "metadata": {},
   "outputs": [
    {
     "name": "stdout",
     "output_type": "stream",
     "text": [
      "<class 'function'>\n",
      "<function display at 0x0000020C359A7550>\n",
      "2251462178128\n",
      "2251495184560\n",
      "i am a function\n"
     ]
    }
   ],
   "source": [
    "# even functions are object of class -> function\n",
    "\n",
    "def fun():\n",
    "    print(\"i am a function\")\n",
    "\n",
    "\n",
    "print(type(fun))         # class of object function\n",
    "print(display)           # reference to the object\n",
    "print(id(display))       # address of the object\n",
    "\n",
    "refToFun = fun           # passing reference to another placeholder\n",
    "\n",
    "print(id(refToFun))      # why id is not same here ????? \n",
    "refToFun()\n"
   ]
  },
  {
   "cell_type": "code",
   "execution_count": 20,
   "id": "068cd9f0",
   "metadata": {},
   "outputs": [
    {
     "name": "stdout",
     "output_type": "stream",
     "text": [
      "3\n",
      "[1, 2, 3, 4]\n"
     ]
    }
   ],
   "source": [
    "# difference between method and function\n",
    "\n",
    "tup = [1,2,3]\n",
    "print(len(tup))     # funciton\n",
    "\n",
    "tup.append(4)       # method\n",
    "print(tup)"
   ]
  },
  {
   "cell_type": "code",
   "execution_count": null,
   "id": "1ea039ed",
   "metadata": {},
   "outputs": [],
   "source": []
  }
 ],
 "metadata": {
  "kernelspec": {
   "display_name": "Python 3",
   "language": "python",
   "name": "python3"
  },
  "language_info": {
   "codemirror_mode": {
    "name": "ipython",
    "version": 3
   },
   "file_extension": ".py",
   "mimetype": "text/x-python",
   "name": "python",
   "nbconvert_exporter": "python",
   "pygments_lexer": "ipython3",
   "version": "3.8.8"
  }
 },
 "nbformat": 4,
 "nbformat_minor": 5
}
