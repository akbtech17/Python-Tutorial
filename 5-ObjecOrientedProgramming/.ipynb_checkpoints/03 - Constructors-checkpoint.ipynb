{
 "cells": [
  {
   "cell_type": "code",
   "execution_count": 2,
   "id": "fdece08d",
   "metadata": {},
   "outputs": [
    {
     "name": "stdout",
     "output_type": "stream",
     "text": [
      "this is our constructor\n",
      "this is our constructor\n",
      "this is our constructor\n",
      "Hi\n"
     ]
    }
   ],
   "source": [
    "class my_class:\n",
    "    def __init__(self):\n",
    "        print(\"this is our constructor\")\n",
    "\n",
    "    def fun(self):\n",
    "        print(\"Hi\")\n",
    "\n",
    "\n",
    "var = my_class()       # init function is called\n",
    "var1 = my_class()      # init funciton is called\n",
    "\n",
    "var1.__init__()        # __init__() method can be called explicitly, no const in Py\n",
    "var.fun()              # init funciton is called as normal function why?\n",
    "\n"
   ]
  },
  {
   "cell_type": "code",
   "execution_count": null,
   "id": "75e97fa9",
   "metadata": {},
   "outputs": [],
   "source": []
  }
 ],
 "metadata": {
  "kernelspec": {
   "display_name": "Python 3",
   "language": "python",
   "name": "python3"
  },
  "language_info": {
   "codemirror_mode": {
    "name": "ipython",
    "version": 3
   },
   "file_extension": ".py",
   "mimetype": "text/x-python",
   "name": "python",
   "nbconvert_exporter": "python",
   "pygments_lexer": "ipython3",
   "version": "3.8.8"
  }
 },
 "nbformat": 4,
 "nbformat_minor": 5
}
