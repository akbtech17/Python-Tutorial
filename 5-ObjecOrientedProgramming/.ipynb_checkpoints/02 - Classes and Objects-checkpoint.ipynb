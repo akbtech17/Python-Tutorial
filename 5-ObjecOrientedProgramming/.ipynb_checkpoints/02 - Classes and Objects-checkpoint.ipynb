{
 "cells": [
  {
   "cell_type": "code",
   "execution_count": 2,
   "id": "b00d681b",
   "metadata": {},
   "outputs": [
    {
     "name": "stdout",
     "output_type": "stream",
     "text": [
      "type of object  <class '__main__.NameOfTheClass'>\n",
      "type of class  <class 'type'>\n"
     ]
    }
   ],
   "source": [
    "# class is also an object of class type\n",
    "\n",
    "class NameOfTheClass:\n",
    "    pass\n",
    "\n",
    "\n",
    "obj = NameOfTheClass()\n",
    " \n",
    "print(\"type of object \", type(obj))               # type __main__.nameOfTheClass\n",
    "print(\"type of class \", type(NameOfTheClass))     # class type\n",
    "\n"
   ]
  },
  {
   "cell_type": "code",
   "execution_count": 9,
   "id": "aa99d611",
   "metadata": {},
   "outputs": [
    {
     "name": "stdout",
     "output_type": "stream",
     "text": [
      "Niwas\n",
      "Niwas\n",
      "type of an object is  <class '__main__.Home'>\n",
      "type of an object is  <class '__main__.Home'>\n",
      "type of a class is  <class 'type'>\n",
      "type of newly created class is <class 'type'>\n",
      "value in anshul :  <class '__main__.Home'>\n",
      "value in anshul name  Niwas\n"
     ]
    }
   ],
   "source": [
    "class Home:\n",
    "    name = \"Niwas\"\n",
    "    room = 2\n",
    "    kitchen = 1\n",
    "    # pass\n",
    "\n",
    "\n",
    "h1 = Home()                  # object 1\n",
    "h2 = Home()                  # object 2\n",
    "\n",
    "anshul = Home                # new class object has been created anshul \n",
    "\n",
    "h3 = anshul()\n",
    "\n",
    "print(h1.name)\n",
    "print(h2.name)\n",
    "\n",
    "print(\"type of an object is \", type(h1))               # __main__.Home\n",
    "print(\"type of an object is \", type(h3))               # __main__.Home   Why?\n",
    "\n",
    "print(\"type of a class is \", type(anshul))             # type\n",
    "print(\"type of newly created class is\", type(Home))    # type\n",
    "\n",
    "print(\"value in anshul : \", anshul)                   # __main__.Home\n",
    "print(\"value in anshul name \", anshul.name)           # how data member is accessed using className (static member ???)"
   ]
  },
  {
   "cell_type": "code",
   "execution_count": 10,
   "id": "2eb3e0f7",
   "metadata": {},
   "outputs": [
    {
     "name": "stdout",
     "output_type": "stream",
     "text": [
      "this is show method\n",
      "this is show method\n",
      "this is show function\n"
     ]
    }
   ],
   "source": [
    "# Meaning of Self, CLS ???\n",
    "\n",
    "# These Instance Methods are Staic or Not ???\n",
    "#       they are not static, because invoking static method do not require\n",
    "#       reference to the Instance, cls\n",
    "\n",
    "# Order of Exection of Python Program(Main Function where?) ?\n",
    "#       line by line execution, no main method, or as such entry point in Py\n",
    "\n",
    "# Instance Method vs CLass Method ? - \n",
    "#       Instance Method - can directly access Instance Variables/Methods\n",
    "#       Class Method - can directly access Class Variables/Methods\n",
    "\n",
    "class MyClass:\n",
    "    # instance method\n",
    "    def show(self):\n",
    "        print(\"this is show method\")\n",
    "\n",
    "    def displayZensar(self):\n",
    "        print(\"this is second method\")\n",
    "\n",
    "m1 = MyClass()\n",
    "m1.show()\n",
    "\n",
    "MyClass.show(MyClass)\n",
    "\n",
    "# so the method can be called by className and Object,\n",
    "# so the method is static or not"
   ]
  },
  {
   "cell_type": "code",
   "execution_count": null,
   "id": "55f444a2",
   "metadata": {},
   "outputs": [],
   "source": []
  }
 ],
 "metadata": {
  "kernelspec": {
   "display_name": "Python 3",
   "language": "python",
   "name": "python3"
  },
  "language_info": {
   "codemirror_mode": {
    "name": "ipython",
    "version": 3
   },
   "file_extension": ".py",
   "mimetype": "text/x-python",
   "name": "python",
   "nbconvert_exporter": "python",
   "pygments_lexer": "ipython3",
   "version": "3.8.8"
  }
 },
 "nbformat": 4,
 "nbformat_minor": 5
}
