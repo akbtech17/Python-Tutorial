{
 "cells": [
  {
   "cell_type": "code",
   "execution_count": 1,
   "id": "0e47eca0",
   "metadata": {},
   "outputs": [],
   "source": [
    "# normal class definition\n",
    "class AbstractClass:\n",
    "    pass\n",
    "\n",
    "\n",
    "obj = AbstractClass()"
   ]
  },
  {
   "cell_type": "code",
   "execution_count": 2,
   "id": "41627464",
   "metadata": {},
   "outputs": [],
   "source": [
    "# how to make class Abstract Class\n",
    "\n",
    "from abc import ABC\n",
    "\n",
    "# from abc(abstract class) package, import ABC (abstract class)\n",
    "# we implement abstract class using Inheritance\n",
    "# AbstractClass is Derived from ABC\n",
    "\n",
    "class AbstractClass(ABC):\n",
    "    pass\n",
    "\n",
    "\n",
    "obj = AbstractClass()"
   ]
  },
  {
   "cell_type": "code",
   "execution_count": 7,
   "id": "ffa35af8",
   "metadata": {},
   "outputs": [
    {
     "ename": "TypeError",
     "evalue": "Can't instantiate abstract class AbstractClass with abstract methods absmethod",
     "output_type": "error",
     "traceback": [
      "\u001b[1;31m---------------------------------------------------------------------------\u001b[0m",
      "\u001b[1;31mTypeError\u001b[0m                                 Traceback (most recent call last)",
      "\u001b[1;32m<ipython-input-7-6e166a47cf8c>\u001b[0m in \u001b[0;36m<module>\u001b[1;34m\u001b[0m\n\u001b[0;32m     10\u001b[0m \u001b[1;33m\u001b[0m\u001b[0m\n\u001b[0;32m     11\u001b[0m \u001b[1;33m\u001b[0m\u001b[0m\n\u001b[1;32m---> 12\u001b[1;33m \u001b[0mobj\u001b[0m \u001b[1;33m=\u001b[0m \u001b[0mAbstractClass\u001b[0m\u001b[1;33m(\u001b[0m\u001b[1;33m)\u001b[0m\u001b[1;33m\u001b[0m\u001b[1;33m\u001b[0m\u001b[0m\n\u001b[0m\u001b[0;32m     13\u001b[0m \u001b[1;31m# now the complete abstract class is created in Py\u001b[0m\u001b[1;33m\u001b[0m\u001b[1;33m\u001b[0m\u001b[1;33m\u001b[0m\u001b[0m\n\u001b[0;32m     14\u001b[0m \u001b[1;31m# now we cant instantiate AbstractClass\u001b[0m\u001b[1;33m\u001b[0m\u001b[1;33m\u001b[0m\u001b[1;33m\u001b[0m\u001b[0m\n",
      "\u001b[1;31mTypeError\u001b[0m: Can't instantiate abstract class AbstractClass with abstract methods absmethod"
     ]
    }
   ],
   "source": [
    "# how to define Abstract Method\n",
    "\n",
    "from abc import ABC,abstractmethod\n",
    "\n",
    "class AbstractClass(ABC):\n",
    "    @abstractmethod             # using method decoration/annotation\n",
    "    def absmethod(self):\n",
    "        pass\n",
    "\n",
    "\n",
    "\n",
    "obj = AbstractClass()\n",
    "# now the complete abstract class is created in Py\n",
    "# now we cant instantiate AbstractClass"
   ]
  },
  {
   "cell_type": "code",
   "execution_count": 12,
   "id": "af34d746",
   "metadata": {},
   "outputs": [
    {
     "ename": "TypeError",
     "evalue": "Can't instantiate abstract class Other with abstract methods absmethod",
     "output_type": "error",
     "traceback": [
      "\u001b[1;31m---------------------------------------------------------------------------\u001b[0m",
      "\u001b[1;31mTypeError\u001b[0m                                 Traceback (most recent call last)",
      "\u001b[1;32m<ipython-input-12-1cfcf7653a9a>\u001b[0m in \u001b[0;36m<module>\u001b[1;34m\u001b[0m\n\u001b[0;32m     13\u001b[0m \u001b[1;33m\u001b[0m\u001b[0m\n\u001b[0;32m     14\u001b[0m \u001b[1;33m\u001b[0m\u001b[0m\n\u001b[1;32m---> 15\u001b[1;33m \u001b[0mobj\u001b[0m \u001b[1;33m=\u001b[0m \u001b[0mOther\u001b[0m\u001b[1;33m(\u001b[0m\u001b[1;33m)\u001b[0m\u001b[1;33m\u001b[0m\u001b[1;33m\u001b[0m\u001b[0m\n\u001b[0m\u001b[0;32m     16\u001b[0m \u001b[1;31m# we cant create an object of derived class unless we define the abstract method in the derived class\u001b[0m\u001b[1;33m\u001b[0m\u001b[1;33m\u001b[0m\u001b[1;33m\u001b[0m\u001b[0m\n",
      "\u001b[1;31mTypeError\u001b[0m: Can't instantiate abstract class Other with abstract methods absmethod"
     ]
    }
   ],
   "source": [
    "from abc import ABC,abstractmethod\n",
    "\n",
    "class AbstractClass(ABC):\n",
    "    @abstractmethod            \n",
    "    def absmethod(self):\n",
    "        pass\n",
    "\n",
    "    \n",
    "class Other(AbstractClass):\n",
    "    pass\n",
    "\n",
    "\n",
    "obj = Other()\n",
    "# we cant create an object of derived class unless we define the abstract method in the derived class "
   ]
  },
  {
   "cell_type": "code",
   "execution_count": 9,
   "id": "c494342e",
   "metadata": {},
   "outputs": [
    {
     "name": "stdout",
     "output_type": "stream",
     "text": [
      "this is abstract method defined in child class of derived class\n"
     ]
    }
   ],
   "source": [
    "# how to define Abstract Method\n",
    "\n",
    "from abc import ABC,abstractmethod\n",
    "\n",
    "class AbstractClass(ABC):\n",
    "    @abstractmethod             # using method decoration/annotation\n",
    "    def absmethod(self):\n",
    "        pass\n",
    "\n",
    "# it is mandatory to define our abstract method, in every derived classes\n",
    "class Other(AbstractClass):\n",
    "    def absmethod(self):\n",
    "        print(\"this is abstract method defined in child class of derived class\")\n",
    "\n",
    "\n",
    "obj = Other()\n",
    "obj.absmethod()"
   ]
  },
  {
   "cell_type": "code",
   "execution_count": null,
   "id": "8c512c85",
   "metadata": {},
   "outputs": [],
   "source": []
  }
 ],
 "metadata": {
  "kernelspec": {
   "display_name": "Python 3",
   "language": "python",
   "name": "python3"
  },
  "language_info": {
   "codemirror_mode": {
    "name": "ipython",
    "version": 3
   },
   "file_extension": ".py",
   "mimetype": "text/x-python",
   "name": "python",
   "nbconvert_exporter": "python",
   "pygments_lexer": "ipython3",
   "version": "3.8.8"
  }
 },
 "nbformat": 4,
 "nbformat_minor": 5
}
