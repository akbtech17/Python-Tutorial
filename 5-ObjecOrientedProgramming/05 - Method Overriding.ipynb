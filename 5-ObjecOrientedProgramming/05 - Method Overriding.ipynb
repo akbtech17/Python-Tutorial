{
 "cells": [
  {
   "cell_type": "code",
   "execution_count": 2,
   "id": "daca4ce3",
   "metadata": {},
   "outputs": [
    {
     "name": "stdout",
     "output_type": "stream",
     "text": [
      "Child Func\n"
     ]
    }
   ],
   "source": [
    "# method overriding\n",
    "\n",
    "class Parent:\n",
    "    def fun(self):\n",
    "        print(\"Parent Fun\")\n",
    "\n",
    "\n",
    "class Child(Parent):\n",
    "    def fun(self):\n",
    "        print(\"Child Func\")\n",
    "\n",
    "\n",
    "obj = Child()\n",
    "obj.fun()               # parent method is overridden by Child method fun()"
   ]
  },
  {
   "cell_type": "code",
   "execution_count": 4,
   "id": "283f2f2a",
   "metadata": {},
   "outputs": [
    {
     "name": "stdout",
     "output_type": "stream",
     "text": [
      "Child Func\n"
     ]
    }
   ],
   "source": [
    "class Parent:\n",
    "    def fun(self, num):\n",
    "        print(\"Parent Fun\")\n",
    "\n",
    "\n",
    "class Child(Parent):\n",
    "    def fun(self):\n",
    "        print(\"Child Func\")\n",
    "\n",
    "\n",
    "obj = Child()\n",
    "obj.fun()          \n",
    "\n",
    "# it is not overloading, it is also overriding\n",
    "# overloading happens only in same class\n",
    "# overring needs atleast one inherited class"
   ]
  },
  {
   "cell_type": "code",
   "execution_count": null,
   "id": "dd67f92b",
   "metadata": {},
   "outputs": [],
   "source": []
  }
 ],
 "metadata": {
  "kernelspec": {
   "display_name": "Python 3",
   "language": "python",
   "name": "python3"
  },
  "language_info": {
   "codemirror_mode": {
    "name": "ipython",
    "version": 3
   },
   "file_extension": ".py",
   "mimetype": "text/x-python",
   "name": "python",
   "nbconvert_exporter": "python",
   "pygments_lexer": "ipython3",
   "version": "3.8.8"
  }
 },
 "nbformat": 4,
 "nbformat_minor": 5
}
