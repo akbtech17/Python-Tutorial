{
 "cells": [
  {
   "cell_type": "code",
   "execution_count": 41,
   "id": "b008ba38",
   "metadata": {},
   "outputs": [],
   "source": [
    "# 1-  Can we declare an objects in python, \n",
    "#     - NO"
   ]
  },
  {
   "cell_type": "code",
   "execution_count": 29,
   "id": "87571555",
   "metadata": {},
   "outputs": [
    {
     "name": "stdout",
     "output_type": "stream",
     "text": [
      "True\n",
      "False\n",
      "True\n",
      "False\n",
      "False\n",
      "True\n",
      "True\n",
      "2599347279808\n",
      "140735267678000\n",
      "False\n",
      "2599347279808\n",
      "2599346685632\n",
      "False\n"
     ]
    }
   ],
   "source": [
    "# 2 - ID\n",
    "\n",
    "# 2.1 - Why ids are different in IDLE and Pycharm\n",
    "\n",
    "# numbers\n",
    "num1 = 2\n",
    "num2 = 2\n",
    "print(num1 is num2) # id is same\n",
    "\n",
    "num1 = 257\n",
    "num2 = 257\n",
    "print(num1 is num2) # id is not same\n",
    "\n",
    "# strings\n",
    "name1 = \"anshul\"\n",
    "name2 = \"anshul\"\n",
    "print(name1 is name2) # id is same\n",
    "\n",
    "name1 = \"anshul bansal\"\n",
    "name2 = \"anshul bansal\"\n",
    "print(name1 is name2) # id is not same\n",
    "\n",
    "# float\n",
    "f1 = 20.3\n",
    "f2 = 20.3\n",
    "print(f1 is f2) # id is not same\n",
    "\n",
    "\n",
    "# boolean\n",
    "b1 = 1\n",
    "b2 = 1\n",
    "print(b1 is b2) # id is same\n",
    "\n",
    "b1 = 0\n",
    "b2 = 0\n",
    "print(b1 is b2) # id is same\n",
    "\n",
    "# tuple \n",
    "tup = (1 , 2)\n",
    "print(id(tup))\n",
    "print(id(tup[0]))\n",
    "\n",
    "print(tup is tup2)    # it is same becuase it contains singleton object inside it\n",
    "print(id(tup))\n",
    "print(id(tup2))\n",
    "\n",
    "nameIs = \"anshul\"\n",
    "# why the id of the string object differs from the id of first char\n",
    "print(nameIs is nameIs[0])"
   ]
  },
  {
   "cell_type": "code",
   "execution_count": 44,
   "id": "a28456c0",
   "metadata": {},
   "outputs": [
    {
     "name": "stdout",
     "output_type": "stream",
     "text": [
      "()\n",
      "<class 'tuple'>\n",
      "<class 'int'>\n",
      "<class 'tuple'>\n",
      "<class 'tuple'>\n"
     ]
    }
   ],
   "source": [
    "# how to create empty tuple?\n",
    "tup = ()\n",
    "print(tup)\n",
    "print(type(tup))\n",
    "\n",
    "# why?\n",
    "tup2 = (2)   # why int\n",
    "print(type(tup2))  \n",
    "\n",
    "tup3 = (2,)\n",
    "print(type(tup3))\n",
    "\n",
    "tup4 = tuple([1])\n",
    "print(type(tup4))"
   ]
  },
  {
   "cell_type": "code",
   "execution_count": 46,
   "id": "a8d0a6ab",
   "metadata": {
    "scrolled": true
   },
   "outputs": [
    {
     "ename": "TypeError",
     "evalue": "'dict' object is not callable",
     "output_type": "error",
     "traceback": [
      "\u001b[1;31m---------------------------------------------------------------------------\u001b[0m",
      "\u001b[1;31mTypeError\u001b[0m                                 Traceback (most recent call last)",
      "\u001b[1;32m<ipython-input-46-032f805bca94>\u001b[0m in \u001b[0;36m<module>\u001b[1;34m\u001b[0m\n\u001b[0;32m      5\u001b[0m \u001b[1;31m# print(type(s))\u001b[0m\u001b[1;33m\u001b[0m\u001b[1;33m\u001b[0m\u001b[1;33m\u001b[0m\u001b[0m\n\u001b[0;32m      6\u001b[0m \u001b[1;33m\u001b[0m\u001b[0m\n\u001b[1;32m----> 7\u001b[1;33m \u001b[0ms\u001b[0m \u001b[1;33m=\u001b[0m \u001b[0mset\u001b[0m\u001b[1;33m(\u001b[0m\u001b[1;33m[\u001b[0m\u001b[1;33m]\u001b[0m\u001b[1;33m)\u001b[0m\u001b[1;33m\u001b[0m\u001b[1;33m\u001b[0m\u001b[0m\n\u001b[0m\u001b[0;32m      8\u001b[0m \u001b[0mprint\u001b[0m\u001b[1;33m(\u001b[0m\u001b[0ms\u001b[0m\u001b[1;33m)\u001b[0m\u001b[1;33m\u001b[0m\u001b[1;33m\u001b[0m\u001b[0m\n\u001b[0;32m      9\u001b[0m \u001b[0mprint\u001b[0m\u001b[1;33m(\u001b[0m\u001b[0mtype\u001b[0m\u001b[1;33m(\u001b[0m\u001b[0ms\u001b[0m\u001b[1;33m)\u001b[0m\u001b[1;33m)\u001b[0m\u001b[1;33m\u001b[0m\u001b[1;33m\u001b[0m\u001b[0m\n",
      "\u001b[1;31mTypeError\u001b[0m: 'dict' object is not callable"
     ]
    }
   ],
   "source": [
    "# how to create empty set?\n",
    "\n",
    "# s = set()                  # its working in pycharm\n",
    "# print(s)\n",
    "# print(type(s))\n"
   ]
  },
  {
   "cell_type": "code",
   "execution_count": 27,
   "id": "54c0924f",
   "metadata": {},
   "outputs": [
    {
     "name": "stdout",
     "output_type": "stream",
     "text": [
      "{'a': 1, 'b': 2, 'c': 3, 'd': 4}\n",
      "<class 'dict'>\n"
     ]
    }
   ],
   "source": [
    "# how to create a dic using list of keys and values\n",
    "\n",
    "# iska answer\n",
    "\n",
    "L1 = ['a','b','c','d']\n",
    "L2 = [1,2,3,4]\n",
    "d = dict(zip(L1,L2))\n",
    "print(d)\n",
    "print(type(d))"
   ]
  },
  {
   "cell_type": "code",
   "execution_count": null,
   "id": "9bc976e8",
   "metadata": {},
   "outputs": [],
   "source": [
    "# define a function that can be called with 0 args\n",
    "# it should have 3 parameters, using default parameters not allowed\n",
    "\n",
    "def fn(num1,num2,num3):\n",
    "    \n"
   ]
  },
  {
   "cell_type": "code",
   "execution_count": null,
   "id": "cbddfe92",
   "metadata": {},
   "outputs": [],
   "source": [
    "# These Methods are Staic or Not ???\n",
    "#       they are not static, because invoking static method do not require\n",
    "#       reference to the Instance, cls\n",
    "\n",
    "# Order of Exection of Python Program(Main Function where?) ?\n",
    "#       line by line execution, no main method, or as such entry point in Py\n",
    "\n",
    "class MyClass:\n",
    "    # instance method\n",
    "    def show(self):\n",
    "        print(\"this is show method\")\n",
    "\n",
    "    def displayZensar(self):\n",
    "        print(\"this is second method\")\n",
    "\n",
    "m1 = MyClass()\n",
    "m1.show()\n",
    "\n",
    "MyClass.show(MyClass)\n",
    "\n",
    "# so the method can be called by className and Object,\n",
    "# so the method is static or not"
   ]
  },
  {
   "cell_type": "code",
   "execution_count": 40,
   "id": "6ced0cf0",
   "metadata": {},
   "outputs": [
    {
     "name": "stdout",
     "output_type": "stream",
     "text": [
      "this is our constructor\n",
      "this is our constructor\n",
      "this is our constructor\n",
      "Hi\n"
     ]
    }
   ],
   "source": [
    "# why init method is called as normal method?\n",
    "class my_class:\n",
    "    def __init__(self):\n",
    "        print(\"this is our constructor\")\n",
    "\n",
    "    def fun(self):\n",
    "        print(\"Hi\")\n",
    "\n",
    "\n",
    "var = my_class()       # init function is called\n",
    "var1 = my_class()      # init funciton is called\n",
    "\n",
    "var1.__init__()        # __init__() method can be called explicitly, no const in Py\n",
    "var.fun()              # init funciton is called as normal function why?\n"
   ]
  },
  {
   "cell_type": "code",
   "execution_count": 42,
   "id": "db673604",
   "metadata": {},
   "outputs": [],
   "source": [
    "# for loop example using NOT IN operator"
   ]
  },
  {
   "cell_type": "code",
   "execution_count": 1,
   "id": "b2108814",
   "metadata": {},
   "outputs": [
    {
     "name": "stdout",
     "output_type": "stream",
     "text": [
      "init method\n",
      "diplay method\n",
      "IT\n",
      "init method\n",
      "diplay method\n",
      "IT\n"
     ]
    }
   ],
   "source": [
    "class myClass:\n",
    "    name = \"IT\"\n",
    "#     name; declaration is not allowed\n",
    "    \n",
    "    def display(self):\n",
    "        print(\"diplay method\")\n",
    "        \n",
    "    def __init__(self):\n",
    "        print(\"init method\")\n",
    "        \n",
    "m1 = myClass()\n",
    "m1.display()\n",
    "print(m1.name)\n",
    "\n",
    "m2 = myClass()\n",
    "m2.display()\n",
    "print(m2.name)"
   ]
  },
  {
   "cell_type": "code",
   "execution_count": 16,
   "id": "70bb4efe",
   "metadata": {},
   "outputs": [
    {
     "name": "stdout",
     "output_type": "stream",
     "text": [
      "ENTC\n",
      "IT\n",
      "COMP\n"
     ]
    }
   ],
   "source": [
    "class myClass:\n",
    "    def __init__(self,dept):\n",
    "        name = dept\n",
    "        print(name)\n",
    "        \n",
    "        \n",
    "anshul = myClass(\"ENTC\")\n",
    "anshul.__init__(\"IT\")       # init method can be invoked by obj too\n",
    "aatmic = myClass(\"COMP\")    # myClass() se init method invoke hota hai"
   ]
  },
  {
   "cell_type": "code",
   "execution_count": 18,
   "id": "054f1449",
   "metadata": {},
   "outputs": [
    {
     "name": "stdout",
     "output_type": "stream",
     "text": [
      "ENTC\n",
      "IT\n",
      "COMP\n"
     ]
    }
   ],
   "source": [
    "class myClass:\n",
    "    def __init__(self,name):\n",
    "        print(name)\n",
    "        \n",
    "        \n",
    "anshul = myClass(\"ENTC\")\n",
    "anshul.__init__(\"IT\")       \n",
    "aatmic = myClass(\"COMP\")    "
   ]
  },
  {
   "cell_type": "code",
   "execution_count": 27,
   "id": "5dab07a6",
   "metadata": {},
   "outputs": [
    {
     "name": "stdout",
     "output_type": "stream",
     "text": [
      "ENTC\n",
      "COMP\n"
     ]
    },
    {
     "data": {
      "text/plain": [
       "'ENTC'"
      ]
     },
     "execution_count": 27,
     "metadata": {},
     "output_type": "execute_result"
    }
   ],
   "source": [
    "class myClass:\n",
    "    def __init__(self,name):\n",
    "        name = name     # x = 10, 10 = x (flow?) \n",
    "        \n",
    "        # creating an instance variable in class\n",
    "        # it will take referecne <- object, acutally no\n",
    "        \n",
    "        # left side main is not init\n",
    "        # and we are printing the passed name only\n",
    "        print(name)\n",
    "        \n",
    "        \n",
    "anshul = myClass(\"ENTC\")    \n",
    "aatmic = myClass(\"COMP\")   \n",
    "# anshul.name     -  it will give an error, means name is not init in class"
   ]
  },
  {
   "cell_type": "code",
   "execution_count": 30,
   "id": "a7b1618e",
   "metadata": {},
   "outputs": [
    {
     "name": "stdout",
     "output_type": "stream",
     "text": [
      "ENTC\n",
      "COMP\n",
      "ENTC\n"
     ]
    }
   ],
   "source": [
    "class myClass:\n",
    "    def __init__(self,name):\n",
    "        self.name = name\n",
    "        print(name)\n",
    "        \n",
    "        \n",
    "anshul = myClass(\"ENTC\")    \n",
    "aatmic = myClass(\"COMP\")   \n",
    "print(anshul.name)       # name is initialized in class"
   ]
  },
  {
   "cell_type": "code",
   "execution_count": 53,
   "id": "a0753b87",
   "metadata": {},
   "outputs": [
    {
     "name": "stdout",
     "output_type": "stream",
     "text": [
      "print the data members anshul 22 11\n",
      "print the data members aatmic 21 2\n"
     ]
    }
   ],
   "source": [
    "\n",
    "class MyClass:\n",
    "    def __init__(self,name,age,roll):\n",
    "        self.name = name\n",
    "        self.age = age\n",
    "        self.roll = roll\n",
    "\n",
    "    def show(self):\n",
    "        print(\"print the data members\", self.name, self.age, self.roll)\n",
    "\n",
    "\n",
    "student1 = MyClass(\"anshul\",22,11)\n",
    "student2 = MyClass(\"aatmic\",21,2)\n",
    "# print(student1.name)\n",
    "student1.show()\n",
    "student2.show()"
   ]
  },
  {
   "cell_type": "code",
   "execution_count": 42,
   "id": "54c0ab5d",
   "metadata": {},
   "outputs": [
    {
     "name": "stdout",
     "output_type": "stream",
     "text": [
      "Hello Self\n",
      "Hello Self\n"
     ]
    }
   ],
   "source": [
    "# what is self - self is not a keyword\n",
    "# it should always be first parameter\n",
    "# 1st place object ke liye hi hoti hai\n",
    "\n",
    "class MyClass:\n",
    "    def show(myself):\n",
    "        print(\"Hello Self\")\n",
    "        \n",
    "\n",
    "m1 = MyClass()\n",
    "m1.show()\n",
    "\n",
    "MyClass.show(m1)    \n",
    "# it is mandatory to tell who is calling this function   "
   ]
  },
  {
   "cell_type": "code",
   "execution_count": 47,
   "id": "6f468003",
   "metadata": {},
   "outputs": [
    {
     "name": "stdout",
     "output_type": "stream",
     "text": [
      "init three\n"
     ]
    }
   ],
   "source": [
    "class C:\n",
    "    def __init__(self,name):\n",
    "        print(\"init one\")\n",
    "    def __init__(self,name):\n",
    "        print(\"init two\")\n",
    "    def __init__(self,name):\n",
    "        print(\"init three\")\n",
    "        \n",
    "\n",
    "obj = C(\"anshul\")"
   ]
  },
  {
   "cell_type": "code",
   "execution_count": 48,
   "id": "3adc4fba",
   "metadata": {},
   "outputs": [
    {
     "name": "stdout",
     "output_type": "stream",
     "text": [
      "init one\n"
     ]
    }
   ],
   "source": [
    "class C:\n",
    "    def __init__(self,name):\n",
    "        print(\"init one\")\n",
    "    def _init__(self,name):\n",
    "        print(\"init two\")\n",
    "    def _init_(self,name):\n",
    "        print(\"init three\")\n",
    "        \n",
    "\n",
    "obj = C(\"anshul\")"
   ]
  },
  {
   "cell_type": "markdown",
   "id": "89ef7e3a",
   "metadata": {},
   "source": [
    "# Inheritance"
   ]
  },
  {
   "cell_type": "code",
   "execution_count": 52,
   "id": "aa753ca9",
   "metadata": {},
   "outputs": [
    {
     "name": "stdout",
     "output_type": "stream",
     "text": [
      "Child Method\n",
      "Parent Method\n"
     ]
    }
   ],
   "source": [
    "# simple inheritance\n",
    "\n",
    "class Parent:\n",
    "    def parentMethod(self):\n",
    "        print(\"Parent Method\")\n",
    "        \n",
    "\n",
    "class Child(Parent):\n",
    "    def childMethod(self):\n",
    "        print(\"Child Method\")\n",
    "        \n",
    "\n",
    "child1 = Child()\n",
    "\n",
    "child1.childMethod()\n",
    "child1.parentMethod()\n",
    "\n",
    "\n",
    "# py do have access specifiers too"
   ]
  },
  {
   "cell_type": "code",
   "execution_count": 55,
   "id": "e2385289",
   "metadata": {},
   "outputs": [
    {
     "name": "stdout",
     "output_type": "stream",
     "text": [
      "method A\n",
      "method B\n",
      "method C\n"
     ]
    }
   ],
   "source": [
    "# multilevel inheritance\n",
    "\n",
    "class A:\n",
    "    def methodA(self):\n",
    "        print(\"method A\")\n",
    "        \n",
    "\n",
    "class B(A):\n",
    "    def methodB(self):\n",
    "        print(\"method B\")\n",
    "        \n",
    "        \n",
    "class C(B):\n",
    "    def methodC(self):\n",
    "        print(\"method C\")\n",
    "        \n",
    "        \n",
    "child = C()\n",
    "child.methodA()\n",
    "child.methodB()\n",
    "child.methodC()"
   ]
  },
  {
   "cell_type": "code",
   "execution_count": 56,
   "id": "0e645063",
   "metadata": {},
   "outputs": [
    {
     "name": "stdout",
     "output_type": "stream",
     "text": [
      "init B\n"
     ]
    }
   ],
   "source": [
    "class A:\n",
    "    def __init__(self):\n",
    "        print(\"init A\")\n",
    "        \n",
    "\n",
    "class B(A):\n",
    "    def __init__(self):\n",
    "        print(\"init B\")\n",
    "        \n",
    "child = B()\n",
    "\n",
    "# only child init will be invoked, as they are not const"
   ]
  },
  {
   "cell_type": "code",
   "execution_count": null,
   "id": "545863bc",
   "metadata": {},
   "outputs": [],
   "source": [
    "class A:\n",
    "    def __init__(self):\n",
    "        print(\"init A\")\n",
    "        \n",
    "\n",
    "class B(A):\n",
    "#     def __init__(self):\n",
    "#         print(\"init B\")\n",
    "        \n",
    "child = B()   # () - this will search for parameter matching, so it will not get matching init in child,\n",
    "# so it will search matchingarg in paraent class, and invoke it"
   ]
  }
 ],
 "metadata": {
  "kernelspec": {
   "display_name": "Python 3",
   "language": "python",
   "name": "python3"
  },
  "language_info": {
   "codemirror_mode": {
    "name": "ipython",
    "version": 3
   },
   "file_extension": ".py",
   "mimetype": "text/x-python",
   "name": "python",
   "nbconvert_exporter": "python",
   "pygments_lexer": "ipython3",
   "version": "3.8.8"
  }
 },
 "nbformat": 4,
 "nbformat_minor": 5
}
