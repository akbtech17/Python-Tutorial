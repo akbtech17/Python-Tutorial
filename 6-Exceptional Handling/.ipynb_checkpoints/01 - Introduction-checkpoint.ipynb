{
 "cells": [
  {
   "cell_type": "code",
   "execution_count": 1,
   "id": "d16002eb",
   "metadata": {},
   "outputs": [
    {
     "name": "stdout",
     "output_type": "stream",
     "text": [
      " Starting of the Control of the Program\n",
      " Execute Logic 1\n",
      " Execute Logic 2\n",
      " Execute Logic 3\n",
      " Enter the num1 = 5\n",
      " Enter the num2 = 2\n",
      " Num1 / Num2 =  2.5\n",
      " Execute Logic 4\n",
      " Execute Logic 5\n",
      " End of the Program\n"
     ]
    }
   ],
   "source": [
    "# this specify our program flow\n",
    "# no-error/exception\n",
    "print(\" Starting of the Control of the Program\")\n",
    "print(\" Execute Logic 1\")\n",
    "print(\" Execute Logic 2\")\n",
    "print(\" Execute Logic 3\")\n",
    "n1 = int(input(\" Enter the num1 = \"))\n",
    "n2 = int(input(\" Enter the num2 = \"))\n",
    "print(\" Num1 / Num2 = \", n1/n2)\n",
    "print(\" Execute Logic 4\")\n",
    "print(\" Execute Logic 5\")\n",
    "print(\" End of the Program\")"
   ]
  },
  {
   "cell_type": "code",
   "execution_count": 2,
   "id": "8853e00a",
   "metadata": {},
   "outputs": [
    {
     "name": "stdout",
     "output_type": "stream",
     "text": [
      " Starting of the Control of the Program\n",
      " Execute Logic 1\n",
      " Execute Logic 2\n",
      " Execute Logic 3\n",
      " Enter the num1 = 5\n",
      " Enter the num2 = 0\n"
     ]
    },
    {
     "ename": "ZeroDivisionError",
     "evalue": "division by zero",
     "output_type": "error",
     "traceback": [
      "\u001b[1;31m---------------------------------------------------------------------------\u001b[0m",
      "\u001b[1;31mZeroDivisionError\u001b[0m                         Traceback (most recent call last)",
      "\u001b[1;32m<ipython-input-2-477bac0095b5>\u001b[0m in \u001b[0;36m<module>\u001b[1;34m\u001b[0m\n\u001b[0;32m      8\u001b[0m \u001b[0mn1\u001b[0m \u001b[1;33m=\u001b[0m \u001b[0mint\u001b[0m\u001b[1;33m(\u001b[0m\u001b[0minput\u001b[0m\u001b[1;33m(\u001b[0m\u001b[1;34m\" Enter the num1 = \"\u001b[0m\u001b[1;33m)\u001b[0m\u001b[1;33m)\u001b[0m\u001b[1;33m\u001b[0m\u001b[1;33m\u001b[0m\u001b[0m\n\u001b[0;32m      9\u001b[0m \u001b[0mn2\u001b[0m \u001b[1;33m=\u001b[0m \u001b[0mint\u001b[0m\u001b[1;33m(\u001b[0m\u001b[0minput\u001b[0m\u001b[1;33m(\u001b[0m\u001b[1;34m\" Enter the num2 = \"\u001b[0m\u001b[1;33m)\u001b[0m\u001b[1;33m)\u001b[0m    \u001b[1;31m# give input as 0\u001b[0m\u001b[1;33m\u001b[0m\u001b[1;33m\u001b[0m\u001b[0m\n\u001b[1;32m---> 10\u001b[1;33m \u001b[0mprint\u001b[0m\u001b[1;33m(\u001b[0m\u001b[1;34m\" Num1 / Num2 = \"\u001b[0m\u001b[1;33m,\u001b[0m \u001b[0mn1\u001b[0m\u001b[1;33m/\u001b[0m\u001b[0mn2\u001b[0m\u001b[1;33m)\u001b[0m\u001b[1;33m\u001b[0m\u001b[1;33m\u001b[0m\u001b[0m\n\u001b[0m\u001b[0;32m     11\u001b[0m \u001b[0mprint\u001b[0m\u001b[1;33m(\u001b[0m\u001b[1;34m\" Execute Logic 4\"\u001b[0m\u001b[1;33m)\u001b[0m\u001b[1;33m\u001b[0m\u001b[1;33m\u001b[0m\u001b[0m\n\u001b[0;32m     12\u001b[0m \u001b[0mprint\u001b[0m\u001b[1;33m(\u001b[0m\u001b[1;34m\" Execute Logic 5\"\u001b[0m\u001b[1;33m)\u001b[0m\u001b[1;33m\u001b[0m\u001b[1;33m\u001b[0m\u001b[0m\n",
      "\u001b[1;31mZeroDivisionError\u001b[0m: division by zero"
     ]
    }
   ],
   "source": [
    "# difference between error and exception\n",
    "# 1 - Logically Wrong, but Syntacticaly Right\n",
    "# 2 - Error/Excetptions breaks the execution of our Program\n",
    "# 3 - Error will happen in every case, but Exceptions are error that occurs only in some special scenarios\n",
    "# 4 - Errors can also be handled but there is not point, of having errors then\n",
    "# 5 - Handling Exceptions in program is considered as Good Practice\n",
    "\n",
    "\n",
    "print(\" Starting of the Control of the Program\")\n",
    "print(\" Execute Logic 1\")\n",
    "print(\" Execute Logic 2\")\n",
    "print(\" Execute Logic 3\")\n",
    "n1 = int(input(\" Enter the num1 = \"))\n",
    "n2 = int(input(\" Enter the num2 = \"))    # give input as 0\n",
    "print(\" Num1 / Num2 = \", n1/n2)\n",
    "print(\" Execute Logic 4\")\n",
    "print(\" Execute Logic 5\")\n",
    "print(\" End of the Program\")"
   ]
  },
  {
   "cell_type": "code",
   "execution_count": 9,
   "id": "8d904a56",
   "metadata": {},
   "outputs": [
    {
     "name": "stdout",
     "output_type": "stream",
     "text": [
      " Starting of the Control of the Program\n",
      " Execute Logic 1\n",
      " Execute Logic 2\n",
      " Execute Logic 3\n",
      " Enter the num1 = 5\n",
      " Enter the num2 = 0\n",
      " Exception Occurred ->  division by zero\n",
      " Execute Logic 4\n",
      " Execute Logic 5\n",
      " End of the Program\n"
     ]
    }
   ],
   "source": [
    "# how to handle Exceptions then?\n",
    "# in Java/C++ we have try-catch block\n",
    "# here we have try-except block\n",
    "\n",
    "# try blocks look for the Exception in the code block\n",
    "# and if it exist, it Throws the exception,\n",
    "# Only if Exception is thrown by Try Block, Catch block catches the exception\n",
    "# and executes code written in Catch, otherwise simply the logic after Catch block executes\n",
    "\n",
    "\n",
    "print(\" Starting of the Control of the Program\")\n",
    "print(\" Execute Logic 1\")\n",
    "print(\" Execute Logic 2\")\n",
    "print(\" Execute Logic 3\")\n",
    "\n",
    "n1 = int(input(\" Enter the num1 = \"))\n",
    "n2 = int(input(\" Enter the num2 = \"))    # give input as 0\n",
    "\n",
    "try:\n",
    "    print(\" Num1 / Num2 = \", n1/n2)\n",
    "    \n",
    "# here Exception is the Class, and e is Reference Var,\n",
    "# of class type Exception, to hold the object of Exception thrown by \n",
    "# try block\n",
    "\n",
    "except Exception as e:                         \n",
    "    print(\" Exception Occurred -> \", e)\n",
    "    \n",
    "    \n",
    "print(\" Execute Logic 4\")\n",
    "print(\" Execute Logic 5\")\n",
    "print(\" End of the Program\")"
   ]
  },
  {
   "cell_type": "code",
   "execution_count": null,
   "id": "d1701eba",
   "metadata": {},
   "outputs": [],
   "source": []
  }
 ],
 "metadata": {
  "kernelspec": {
   "display_name": "Python 3",
   "language": "python",
   "name": "python3"
  },
  "language_info": {
   "codemirror_mode": {
    "name": "ipython",
    "version": 3
   },
   "file_extension": ".py",
   "mimetype": "text/x-python",
   "name": "python",
   "nbconvert_exporter": "python",
   "pygments_lexer": "ipython3",
   "version": "3.8.8"
  }
 },
 "nbformat": 4,
 "nbformat_minor": 5
}
