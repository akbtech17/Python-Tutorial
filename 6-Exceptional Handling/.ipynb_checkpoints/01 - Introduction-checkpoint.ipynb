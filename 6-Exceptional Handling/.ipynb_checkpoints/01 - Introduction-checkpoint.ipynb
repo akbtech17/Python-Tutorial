{
 "cells": [
  {
   "cell_type": "code",
   "execution_count": null,
   "id": "7392620a",
   "metadata": {},
   "outputs": [],
   "source": [
    "# Exception arise when someone ends up using it \n",
    "# in an unexpected way\n"
   ]
  },
  {
   "cell_type": "code",
   "execution_count": 1,
   "id": "d16002eb",
   "metadata": {},
   "outputs": [
    {
     "name": "stdout",
     "output_type": "stream",
     "text": [
      " Starting of the Control of the Program\n",
      " Execute Logic 1\n",
      " Execute Logic 2\n",
      " Execute Logic 3\n",
      " Enter the num1 = 5\n",
      " Enter the num2 = 2\n",
      " Num1 / Num2 =  2.5\n",
      " Execute Logic 4\n",
      " Execute Logic 5\n",
      " End of the Program\n"
     ]
    }
   ],
   "source": [
    "# this specify our program flow\n",
    "# no-error/exception\n",
    "print(\" Starting of the Control of the Program\")\n",
    "print(\" Execute Logic 1\")\n",
    "print(\" Execute Logic 2\")\n",
    "print(\" Execute Logic 3\")\n",
    "n1 = int(input(\" Enter the num1 = \"))\n",
    "n2 = int(input(\" Enter the num2 = \"))\n",
    "print(\" Num1 / Num2 = \", n1/n2)\n",
    "print(\" Execute Logic 4\")\n",
    "print(\" Execute Logic 5\")\n",
    "print(\" End of the Program\")"
   ]
  },
  {
   "cell_type": "code",
   "execution_count": 2,
   "id": "8853e00a",
   "metadata": {},
   "outputs": [
    {
     "name": "stdout",
     "output_type": "stream",
     "text": [
      " Starting of the Control of the Program\n",
      " Execute Logic 1\n",
      " Execute Logic 2\n",
      " Execute Logic 3\n",
      " Enter the num1 = 5\n",
      " Enter the num2 = 0\n"
     ]
    },
    {
     "ename": "ZeroDivisionError",
     "evalue": "division by zero",
     "output_type": "error",
     "traceback": [
      "\u001b[1;31m---------------------------------------------------------------------------\u001b[0m",
      "\u001b[1;31mZeroDivisionError\u001b[0m                         Traceback (most recent call last)",
      "\u001b[1;32m<ipython-input-2-477bac0095b5>\u001b[0m in \u001b[0;36m<module>\u001b[1;34m\u001b[0m\n\u001b[0;32m      8\u001b[0m \u001b[0mn1\u001b[0m \u001b[1;33m=\u001b[0m \u001b[0mint\u001b[0m\u001b[1;33m(\u001b[0m\u001b[0minput\u001b[0m\u001b[1;33m(\u001b[0m\u001b[1;34m\" Enter the num1 = \"\u001b[0m\u001b[1;33m)\u001b[0m\u001b[1;33m)\u001b[0m\u001b[1;33m\u001b[0m\u001b[1;33m\u001b[0m\u001b[0m\n\u001b[0;32m      9\u001b[0m \u001b[0mn2\u001b[0m \u001b[1;33m=\u001b[0m \u001b[0mint\u001b[0m\u001b[1;33m(\u001b[0m\u001b[0minput\u001b[0m\u001b[1;33m(\u001b[0m\u001b[1;34m\" Enter the num2 = \"\u001b[0m\u001b[1;33m)\u001b[0m\u001b[1;33m)\u001b[0m    \u001b[1;31m# give input as 0\u001b[0m\u001b[1;33m\u001b[0m\u001b[1;33m\u001b[0m\u001b[0m\n\u001b[1;32m---> 10\u001b[1;33m \u001b[0mprint\u001b[0m\u001b[1;33m(\u001b[0m\u001b[1;34m\" Num1 / Num2 = \"\u001b[0m\u001b[1;33m,\u001b[0m \u001b[0mn1\u001b[0m\u001b[1;33m/\u001b[0m\u001b[0mn2\u001b[0m\u001b[1;33m)\u001b[0m\u001b[1;33m\u001b[0m\u001b[1;33m\u001b[0m\u001b[0m\n\u001b[0m\u001b[0;32m     11\u001b[0m \u001b[0mprint\u001b[0m\u001b[1;33m(\u001b[0m\u001b[1;34m\" Execute Logic 4\"\u001b[0m\u001b[1;33m)\u001b[0m\u001b[1;33m\u001b[0m\u001b[1;33m\u001b[0m\u001b[0m\n\u001b[0;32m     12\u001b[0m \u001b[0mprint\u001b[0m\u001b[1;33m(\u001b[0m\u001b[1;34m\" Execute Logic 5\"\u001b[0m\u001b[1;33m)\u001b[0m\u001b[1;33m\u001b[0m\u001b[1;33m\u001b[0m\u001b[0m\n",
      "\u001b[1;31mZeroDivisionError\u001b[0m: division by zero"
     ]
    }
   ],
   "source": [
    "# difference between error and exception\n",
    "# 1 - Logically Wrong, but Syntacticaly Right\n",
    "# 2 - Error/Excetptions breaks the execution of our Program\n",
    "# 3 - Error will happen in every case, but Exceptions are error that occurs only in some special scenarios\n",
    "# 4 - Errors can also be handled but there is not point, of having errors then\n",
    "# 5 - Handling Exceptions in program is considered as Good Practice\n",
    "\n",
    "\n",
    "print(\" Starting of the Control of the Program\")\n",
    "print(\" Execute Logic 1\")\n",
    "print(\" Execute Logic 2\")\n",
    "print(\" Execute Logic 3\")\n",
    "n1 = int(input(\" Enter the num1 = \"))\n",
    "n2 = int(input(\" Enter the num2 = \"))    # give input as 0\n",
    "print(\" Num1 / Num2 = \", n1/n2)\n",
    "print(\" Execute Logic 4\")\n",
    "print(\" Execute Logic 5\")\n",
    "print(\" End of the Program\")"
   ]
  },
  {
   "cell_type": "code",
   "execution_count": 1,
   "id": "8d904a56",
   "metadata": {},
   "outputs": [
    {
     "name": "stdout",
     "output_type": "stream",
     "text": [
      " Starting of the Control of the Program\n",
      " Execute Logic 1\n",
      " Execute Logic 2\n",
      " Execute Logic 3\n",
      " Enter the num1 = 5\n",
      " Enter the num2 = 0\n",
      " Exception Occurred ->  division by zero\n",
      " It will always execute, No matter exception occurs or not\n",
      " Execute Logic 4\n",
      " Execute Logic 5\n",
      " End of the Program\n"
     ]
    }
   ],
   "source": [
    "# how to handle Exceptions then?\n",
    "# in Java/C++ we have try-catch block\n",
    "# here we have try-except block\n",
    "\n",
    "# try blocks look for the Exception in the code block\n",
    "# and if it exist, it Throws the exception,\n",
    "# Only if Exception is thrown by Try Block, Catch block catches the exception\n",
    "# and executes code written in Catch, otherwise simply the logic after Catch block executes\n",
    "\n",
    "# handline exception prevents our code to crash(break)\n",
    "\n",
    "print(\" Starting of the Control of the Program\")\n",
    "print(\" Execute Logic 1\")\n",
    "print(\" Execute Logic 2\")\n",
    "print(\" Execute Logic 3\")\n",
    "\n",
    "n1 = int(input(\" Enter the num1 = \"))\n",
    "n2 = int(input(\" Enter the num2 = \"))    # give input as 0\n",
    "\n",
    "try:\n",
    "    print(\" Num1 / Num2 = \", n1/n2)\n",
    "    \n",
    "# here Exception is the Class, and e is Reference Var,\n",
    "# of class type Exception, to hold the object of Exception thrown by \n",
    "# try block\n",
    "\n",
    "except Exception as e:                         \n",
    "    print(\" Exception Occurred -> \", e)\n",
    "    \n",
    "    \n",
    "# after resolving try-except block, finally will always be executed\n",
    "# finally is not mandatory\n",
    "finally:\n",
    "    print(\" It will always execute, No matter exception occurs or not\")\n",
    "    \n",
    "print(\" Execute Logic 4\")\n",
    "print(\" Execute Logic 5\")\n",
    "print(\" End of the Program\")"
   ]
  },
  {
   "cell_type": "code",
   "execution_count": 4,
   "id": "d1701eba",
   "metadata": {},
   "outputs": [
    {
     "name": "stdout",
     "output_type": "stream",
     "text": [
      "exception occured  unsupported operand type(s) for +: 'int' and 'str'\n",
      "finally, I always run!\n"
     ]
    }
   ],
   "source": [
    "n1 = 3\n",
    "n2 = \"2\"\n",
    "\n",
    "try:\n",
    "    print(n1+n2)\n",
    "except Exception as e:\n",
    "    print(\"exception occured \", e)\n",
    "finally:\n",
    "    print(\"finally, I always run!\")"
   ]
  },
  {
   "cell_type": "markdown",
   "id": "9711aeb6",
   "metadata": {},
   "source": [
    "# Some more cases..."
   ]
  },
  {
   "cell_type": "code",
   "execution_count": 4,
   "id": "407c5a0c",
   "metadata": {},
   "outputs": [
    {
     "name": "stdout",
     "output_type": "stream",
     "text": [
      " Starting of the Control of the Program\n",
      " Execute Logic 1\n",
      " Execute Logic 2\n",
      " Execute Logic 3\n",
      " Exception Occurred ->  division by zero\n",
      " It will always execute, No matter exception occurs or not\n",
      " Execute Logic 4\n",
      " Execute Logic 5\n",
      " End of the Program\n"
     ]
    }
   ],
   "source": [
    "# 1 - If multiple exception will occur then which will be thrown\n",
    "# in different cases\n",
    "\n",
    "print(\" Starting of the Control of the Program\")\n",
    "print(\" Execute Logic 1\")\n",
    "print(\" Execute Logic 2\")\n",
    "print(\" Execute Logic 3\")\n",
    "\n",
    "try:\n",
    "    mylist = [1, 2, 3, 4]\n",
    "#     print(mylist[8])         # list index out of range\n",
    "#     print(mylist[8]/0)       # list index out of range\n",
    "#     print(mylist[2]/0)       # division by zero\n",
    "\n",
    "except Exception as e:                         \n",
    "    print(\" Exception Occurred -> \", e)\n",
    "    \n",
    "finally:\n",
    "    print(\" It will always execute, No matter exception occurs or not\")\n",
    "    \n",
    "print(\" Execute Logic 4\")\n",
    "print(\" Execute Logic 5\")\n",
    "print(\" End of the Program\")"
   ]
  },
  {
   "cell_type": "code",
   "execution_count": 6,
   "id": "e359001e",
   "metadata": {},
   "outputs": [
    {
     "name": "stdout",
     "output_type": "stream",
     "text": [
      " Starting of the Control of the Program\n",
      " Execute Logic 1\n",
      " Execute Logic 2\n",
      " Execute Logic 3\n",
      " Exception Occurred ->  division by zero\n",
      " It will always execute, No matter exception occurs or not\n",
      " Execute Logic 4\n",
      " Execute Logic 5\n",
      " End of the Program\n"
     ]
    }
   ],
   "source": [
    "# 2 - we cant write any other statement between try and except block\n",
    "# there should be immediate except block(atleast 1) to each try block \n",
    "\n",
    "print(\" Starting of the Control of the Program\")\n",
    "print(\" Execute Logic 1\")\n",
    "print(\" Execute Logic 2\")\n",
    "print(\" Execute Logic 3\")\n",
    "\n",
    "try:\n",
    "    print(0/0)\n",
    "\n",
    "# print(\" Any Other Logic Here!\")   # it will give error\n",
    "\n",
    "except Exception as e:                         \n",
    "    print(\" Exception Occurred -> \", e)\n",
    "    \n",
    "finally:\n",
    "    print(\" It will always execute, No matter exception occurs or not\")\n",
    "    \n",
    "print(\" Execute Logic 4\")\n",
    "print(\" Execute Logic 5\")\n",
    "print(\" End of the Program\")"
   ]
  },
  {
   "cell_type": "code",
   "execution_count": 16,
   "id": "dfbda753",
   "metadata": {},
   "outputs": [
    {
     "name": "stdout",
     "output_type": "stream",
     "text": [
      " Starting of the Control of the Program\n",
      " Execute Logic 1\n",
      " Execute Logic 2\n",
      " Execute Logic 3\n",
      " Other Exception Occurred ->  list index out of range\n",
      " It will always execute, No matter exception occurs or not\n",
      " Execute Logic 4\n",
      " Execute Logic 5\n",
      " End of the Program\n"
     ]
    }
   ],
   "source": [
    "# 3 - we can have more than one except/catch block\n",
    "# for one try block\n",
    "\n",
    "# Exception is Super Class for All Exceptions/Errors\n",
    "# ArithmeticError is Specific Class for Arithmetic Errors\n",
    "\n",
    "# Rule - always Specific Exceptions are handled first\n",
    "# then only Generalized Exceptions are handled\n",
    "\n",
    "# agar first except catch chodega toh, \n",
    "# generic wala toh catch kr hi lega\n",
    "\n",
    "# defining Genrealized Catch first gives compilation error in\n",
    "# Java\n",
    "# Py me runtime pe hota hai, \n",
    "# isliye compiler sirf warning deta hai \n",
    "\n",
    "\n",
    "print(\" Starting of the Control of the Program\")\n",
    "print(\" Execute Logic 1\")\n",
    "print(\" Execute Logic 2\")\n",
    "print(\" Execute Logic 3\")\n",
    "\n",
    "try:\n",
    "    mylist = [1,2,3,4]\n",
    "#     print(5/0)          \n",
    "    print(mylist[8])   \n",
    "\n",
    "except ArithmeticError as e:    # if arithmeticError occur\n",
    "    print(\" ArithmeticError Occurred -> \", e)\n",
    "\n",
    "except Exception as e:          # to catch all exceptions except ArithmeticError                      \n",
    "    print(\" Other Exception Occurred -> \", e)\n",
    "    \n",
    "finally:\n",
    "    print(\" It will always execute, No matter exception occurs or not\")\n",
    "    \n",
    "print(\" Execute Logic 4\")\n",
    "print(\" Execute Logic 5\")\n",
    "print(\" End of the Program\")"
   ]
  },
  {
   "cell_type": "code",
   "execution_count": 18,
   "id": "f79f6fbe",
   "metadata": {},
   "outputs": [
    {
     "ename": "SyntaxError",
     "evalue": "invalid syntax (<ipython-input-18-9e0a7166a09b>, line 14)",
     "output_type": "error",
     "traceback": [
      "\u001b[1;36m  File \u001b[1;32m\"<ipython-input-18-9e0a7166a09b>\"\u001b[1;36m, line \u001b[1;32m14\u001b[0m\n\u001b[1;33m    try:\u001b[0m\n\u001b[1;37m    ^\u001b[0m\n\u001b[1;31mSyntaxError\u001b[0m\u001b[1;31m:\u001b[0m invalid syntax\n"
     ]
    }
   ],
   "source": [
    "# 4 - More than one try block for only one exception??? - NO\n",
    "# there should be immediate except block(atleast one) \n",
    "# for each try block\n",
    "\n",
    "# program will give error (syntax is wrong)\n",
    "print(\" Starting of the Control of the Program\")\n",
    "print(\" Execute Logic 1\")\n",
    "print(\" Execute Logic 2\")\n",
    "print(\" Execute Logic 3\")\n",
    "\n",
    "try:\n",
    "    print(5/0)   \n",
    "    \n",
    "try:\n",
    "    tup = (2,3,4)\n",
    "    print(tup[5])\n",
    "\n",
    "except Exception as e:                                \n",
    "    print(\" Exception Occurred -> \", e)\n",
    "    \n",
    "finally:\n",
    "    print(\" It will always execute, No matter exception occurs or not\")\n",
    "    \n",
    "print(\" Execute Logic 4\")\n",
    "print(\" Execute Logic 5\")\n",
    "print(\" End of the Program\")"
   ]
  },
  {
   "cell_type": "code",
   "execution_count": 20,
   "id": "94f17982",
   "metadata": {},
   "outputs": [
    {
     "name": "stdout",
     "output_type": "stream",
     "text": [
      " Starting of the Control of the Program\n",
      " Execute Logic 1\n",
      " Execute Logic 2\n",
      " Execute Logic 3\n",
      " Exception Occurred ->  division by zero\n",
      " It will always execute, No matter exception occurs or not\n",
      " Execute Logic 4\n",
      " Execute Logic 5\n",
      " End of the Program\n"
     ]
    }
   ],
   "source": [
    "# 5 - Nested try-except block will work??? - YES\n",
    "\n",
    "# try\n",
    "#     --> try\n",
    "#     --> except\n",
    "#\n",
    "# except\n",
    "\n",
    "\n",
    "# NOTE - \n",
    "# there should be an immediate try to try nesting\n",
    "# it is considered logically goood!\n",
    "\n",
    "print(\" Starting of the Control of the Program\")\n",
    "print(\" Execute Logic 1\")\n",
    "print(\" Execute Logic 2\")\n",
    "print(\" Execute Logic 3\")\n",
    "\n",
    "try:\n",
    "    try:\n",
    "        tup = (2, 3, 4)\n",
    "#         print(tup[5])\n",
    "        \n",
    "    except Exception as e:         \n",
    "        print(\" Exception Occurred -> \", e)\n",
    "    print(10 / 0)\n",
    "        \n",
    "except Exception as e:\n",
    "    print(\" Exception Occurred -> \", e)\n",
    "    \n",
    "finally:\n",
    "    print(\" It will always execute, No matter exception occurs or not\")\n",
    "    \n",
    "print(\" Execute Logic 4\")\n",
    "print(\" Execute Logic 5\")\n",
    "print(\" End of the Program\")"
   ]
  },
  {
   "cell_type": "code",
   "execution_count": 21,
   "id": "42790bb3",
   "metadata": {},
   "outputs": [
    {
     "name": "stdout",
     "output_type": "stream",
     "text": [
      " Starting of the Control of the Program\n",
      " Execute Logic 1\n",
      " Execute Logic 2\n",
      " Execute Logic 3\n",
      " It will always execute, No matter exception occurs or not\n"
     ]
    },
    {
     "ename": "ZeroDivisionError",
     "evalue": "division by zero",
     "output_type": "error",
     "traceback": [
      "\u001b[1;31m---------------------------------------------------------------------------\u001b[0m",
      "\u001b[1;31mZeroDivisionError\u001b[0m                         Traceback (most recent call last)",
      "\u001b[1;32m<ipython-input-21-f23dd68096d5>\u001b[0m in \u001b[0;36m<module>\u001b[1;34m\u001b[0m\n\u001b[0;32m     12\u001b[0m \u001b[1;33m\u001b[0m\u001b[0m\n\u001b[0;32m     13\u001b[0m \u001b[1;32mtry\u001b[0m\u001b[1;33m:\u001b[0m\u001b[1;33m\u001b[0m\u001b[1;33m\u001b[0m\u001b[0m\n\u001b[1;32m---> 14\u001b[1;33m     \u001b[0mprint\u001b[0m\u001b[1;33m(\u001b[0m\u001b[1;36m0\u001b[0m\u001b[1;33m/\u001b[0m\u001b[1;36m0\u001b[0m\u001b[1;33m)\u001b[0m\u001b[1;33m\u001b[0m\u001b[1;33m\u001b[0m\u001b[0m\n\u001b[0m\u001b[0;32m     15\u001b[0m \u001b[1;33m\u001b[0m\u001b[0m\n\u001b[0;32m     16\u001b[0m \u001b[1;32mfinally\u001b[0m\u001b[1;33m:\u001b[0m\u001b[1;33m\u001b[0m\u001b[1;33m\u001b[0m\u001b[0m\n",
      "\u001b[1;31mZeroDivisionError\u001b[0m: division by zero"
     ]
    }
   ],
   "source": [
    "# 6 - try-finally bhi likh skte hai\n",
    "# akela try nhi likh skte kabhi bhi\n",
    "\n",
    "# finally block will exectute in every case, \n",
    "# if exception occur in try\n",
    "# it give error, then finally is executed\n",
    "\n",
    "print(\" Starting of the Control of the Program\")\n",
    "print(\" Execute Logic 1\")\n",
    "print(\" Execute Logic 2\")\n",
    "print(\" Execute Logic 3\")\n",
    "\n",
    "try:\n",
    "    print(0/0)\n",
    "    \n",
    "finally:\n",
    "    print(\" It will always execute, No matter exception occurs or not\")\n",
    "    \n",
    "print(\" Execute Logic 4\")\n",
    "print(\" Execute Logic 5\")\n",
    "print(\" End of the Program\")"
   ]
  },
  {
   "cell_type": "code",
   "execution_count": null,
   "id": "c0ad2e9c",
   "metadata": {},
   "outputs": [],
   "source": []
  }
 ],
 "metadata": {
  "kernelspec": {
   "display_name": "Python 3",
   "language": "python",
   "name": "python3"
  },
  "language_info": {
   "codemirror_mode": {
    "name": "ipython",
    "version": 3
   },
   "file_extension": ".py",
   "mimetype": "text/x-python",
   "name": "python",
   "nbconvert_exporter": "python",
   "pygments_lexer": "ipython3",
   "version": "3.8.8"
  }
 },
 "nbformat": 4,
 "nbformat_minor": 5
}
