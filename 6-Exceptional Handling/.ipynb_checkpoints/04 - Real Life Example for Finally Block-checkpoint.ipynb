{
 "cells": [
  {
   "cell_type": "code",
   "execution_count": 1,
   "id": "f54ae5ad",
   "metadata": {},
   "outputs": [
    {
     "name": "stdout",
     "output_type": "stream",
     "text": [
      "File Open\n",
      "File Read/Write\n",
      "File Close\n",
      "this is finally block\n"
     ]
    }
   ],
   "source": [
    "# so we need to open any text file,\n",
    "# perform read/write operations on that file\n",
    "# then close it (which is our most important)\n",
    "\n",
    "# generally we'll define our case as \n",
    "\n",
    "try:\n",
    "    print(\"File Open\")\n",
    "    print(\"File Read/Write\")\n",
    "    print(\"File Close\")\n",
    "except Exception as e:\n",
    "    print(\"exception caught\")\n",
    "finally:\n",
    "    print(\"this is finally block\")"
   ]
  },
  {
   "cell_type": "code",
   "execution_count": 2,
   "id": "051498db",
   "metadata": {},
   "outputs": [
    {
     "name": "stdout",
     "output_type": "stream",
     "text": [
      "File Open\n",
      "File Read/Write\n",
      "exception caught\n",
      "this is finally block\n"
     ]
    }
   ],
   "source": [
    "# suppose any error/exc occurs before file close\n",
    "# then , file will not be closed\n",
    "\n",
    "try:\n",
    "    print(\"File Open\")\n",
    "    print(\"File Read/Write\")\n",
    "    print(0/0)   # exc occured\n",
    "    print(\"File Close\")\n",
    "    \n",
    "except Exception as e:\n",
    "    print(\"exception caught\")\n",
    "    \n",
    "finally:\n",
    "    print(\"this is finally block\")"
   ]
  },
  {
   "cell_type": "code",
   "execution_count": 3,
   "id": "46326c69",
   "metadata": {},
   "outputs": [
    {
     "name": "stdout",
     "output_type": "stream",
     "text": [
      "File Open\n",
      "File Read/Write\n",
      "File Close\n",
      "exception caught\n",
      "this is finally block\n"
     ]
    }
   ],
   "source": [
    "# we can refactor our program like this,\n",
    "# but now also if some unhandled error occurs before \n",
    "# File CLose Statement\n",
    "\n",
    "try:\n",
    "    print(\"File Open\")\n",
    "    print(\"File Read/Write\")\n",
    "    print(0/0)   # exc occured\n",
    "    \n",
    "except Exception as e:\n",
    "    print(\"File Close\")\n",
    "    print(\"exception caught\")\n",
    "    \n",
    "finally:\n",
    "    print(\"this is finally block\")"
   ]
  },
  {
   "cell_type": "code",
   "execution_count": 4,
   "id": "c7aac39f",
   "metadata": {},
   "outputs": [
    {
     "name": "stdout",
     "output_type": "stream",
     "text": [
      "File Open\n",
      "File Read/Write\n",
      "this is finally block\n"
     ]
    },
    {
     "ename": "ZeroDivisionError",
     "evalue": "division by zero",
     "output_type": "error",
     "traceback": [
      "\u001b[1;31m---------------------------------------------------------------------------\u001b[0m",
      "\u001b[1;31mZeroDivisionError\u001b[0m                         Traceback (most recent call last)",
      "\u001b[1;32m<ipython-input-4-ee848f92d9b9>\u001b[0m in \u001b[0;36m<module>\u001b[1;34m\u001b[0m\n\u001b[0;32m      3\u001b[0m     \u001b[0mprint\u001b[0m\u001b[1;33m(\u001b[0m\u001b[1;34m\"File Read/Write\"\u001b[0m\u001b[1;33m)\u001b[0m\u001b[1;33m\u001b[0m\u001b[1;33m\u001b[0m\u001b[0m\n\u001b[1;32m----> 4\u001b[1;33m     \u001b[0mprint\u001b[0m\u001b[1;33m(\u001b[0m\u001b[1;36m0\u001b[0m\u001b[1;33m/\u001b[0m\u001b[1;36m0\u001b[0m\u001b[1;33m)\u001b[0m   \u001b[1;31m# exc occured\u001b[0m\u001b[1;33m\u001b[0m\u001b[1;33m\u001b[0m\u001b[0m\n\u001b[0m\u001b[0;32m      5\u001b[0m \u001b[1;33m\u001b[0m\u001b[0m\n",
      "\u001b[1;31mZeroDivisionError\u001b[0m: division by zero",
      "\nDuring handling of the above exception, another exception occurred:\n",
      "\u001b[1;31mZeroDivisionError\u001b[0m                         Traceback (most recent call last)",
      "\u001b[1;32m<ipython-input-4-ee848f92d9b9>\u001b[0m in \u001b[0;36m<module>\u001b[1;34m\u001b[0m\n\u001b[0;32m      5\u001b[0m \u001b[1;33m\u001b[0m\u001b[0m\n\u001b[0;32m      6\u001b[0m \u001b[1;32mexcept\u001b[0m \u001b[0mException\u001b[0m \u001b[1;32mas\u001b[0m \u001b[0me\u001b[0m\u001b[1;33m:\u001b[0m\u001b[1;33m\u001b[0m\u001b[1;33m\u001b[0m\u001b[0m\n\u001b[1;32m----> 7\u001b[1;33m     \u001b[0mprint\u001b[0m\u001b[1;33m(\u001b[0m\u001b[1;36m0\u001b[0m\u001b[1;33m/\u001b[0m\u001b[1;36m0\u001b[0m\u001b[1;33m)\u001b[0m   \u001b[1;31m# another exc\u001b[0m\u001b[1;33m\u001b[0m\u001b[1;33m\u001b[0m\u001b[0m\n\u001b[0m\u001b[0;32m      8\u001b[0m     \u001b[0mprint\u001b[0m\u001b[1;33m(\u001b[0m\u001b[1;34m\"File Close\"\u001b[0m\u001b[1;33m)\u001b[0m\u001b[1;33m\u001b[0m\u001b[1;33m\u001b[0m\u001b[0m\n\u001b[0;32m      9\u001b[0m     \u001b[0mprint\u001b[0m\u001b[1;33m(\u001b[0m\u001b[1;34m\"exception caught\"\u001b[0m\u001b[1;33m)\u001b[0m\u001b[1;33m\u001b[0m\u001b[1;33m\u001b[0m\u001b[0m\n",
      "\u001b[1;31mZeroDivisionError\u001b[0m: division by zero"
     ]
    }
   ],
   "source": [
    "# in this case also file will not be executed\n",
    "\n",
    "# also we cant write closing statement after \n",
    "# try,except,finally block\n",
    "# as if our program got crashed in-between somewhere \n",
    "# try-except block, then again the closing statement will not exectue\n",
    "\n",
    "try:\n",
    "    print(\"File Open\")\n",
    "    print(\"File Read/Write\")\n",
    "    print(0/0)   # exc occured\n",
    "    \n",
    "except Exception as e:\n",
    "    print(0/0)   # another exc \n",
    "    print(\"File Close\")\n",
    "    print(\"exception caught\")\n",
    "    \n",
    "finally:\n",
    "    print(\"this is finally block\")"
   ]
  },
  {
   "cell_type": "code",
   "execution_count": 5,
   "id": "1f745141",
   "metadata": {},
   "outputs": [
    {
     "name": "stdout",
     "output_type": "stream",
     "text": [
      "File Open\n",
      "File Read/Write\n",
      "File Close\n"
     ]
    },
    {
     "ename": "ZeroDivisionError",
     "evalue": "division by zero",
     "output_type": "error",
     "traceback": [
      "\u001b[1;31m---------------------------------------------------------------------------\u001b[0m",
      "\u001b[1;31mZeroDivisionError\u001b[0m                         Traceback (most recent call last)",
      "\u001b[1;32m<ipython-input-5-8f2ac16a39a2>\u001b[0m in \u001b[0;36m<module>\u001b[1;34m\u001b[0m\n\u001b[0;32m      7\u001b[0m     \u001b[0mprint\u001b[0m\u001b[1;33m(\u001b[0m\u001b[1;34m\"File Read/Write\"\u001b[0m\u001b[1;33m)\u001b[0m\u001b[1;33m\u001b[0m\u001b[1;33m\u001b[0m\u001b[0m\n\u001b[1;32m----> 8\u001b[1;33m     \u001b[0mprint\u001b[0m\u001b[1;33m(\u001b[0m\u001b[1;36m0\u001b[0m\u001b[1;33m/\u001b[0m\u001b[1;36m0\u001b[0m\u001b[1;33m)\u001b[0m   \u001b[1;31m# exc occured\u001b[0m\u001b[1;33m\u001b[0m\u001b[1;33m\u001b[0m\u001b[0m\n\u001b[0m\u001b[0;32m      9\u001b[0m \u001b[1;33m\u001b[0m\u001b[0m\n",
      "\u001b[1;31mZeroDivisionError\u001b[0m: division by zero",
      "\nDuring handling of the above exception, another exception occurred:\n",
      "\u001b[1;31mZeroDivisionError\u001b[0m                         Traceback (most recent call last)",
      "\u001b[1;32m<ipython-input-5-8f2ac16a39a2>\u001b[0m in \u001b[0;36m<module>\u001b[1;34m\u001b[0m\n\u001b[0;32m      9\u001b[0m \u001b[1;33m\u001b[0m\u001b[0m\n\u001b[0;32m     10\u001b[0m \u001b[1;32mexcept\u001b[0m \u001b[0mException\u001b[0m \u001b[1;32mas\u001b[0m \u001b[0me\u001b[0m\u001b[1;33m:\u001b[0m\u001b[1;33m\u001b[0m\u001b[1;33m\u001b[0m\u001b[0m\n\u001b[1;32m---> 11\u001b[1;33m     \u001b[0mprint\u001b[0m\u001b[1;33m(\u001b[0m\u001b[1;36m0\u001b[0m\u001b[1;33m/\u001b[0m\u001b[1;36m0\u001b[0m\u001b[1;33m)\u001b[0m   \u001b[1;31m# another exc\u001b[0m\u001b[1;33m\u001b[0m\u001b[1;33m\u001b[0m\u001b[0m\n\u001b[0m\u001b[0;32m     12\u001b[0m     \u001b[0mprint\u001b[0m\u001b[1;33m(\u001b[0m\u001b[1;34m\"Exception caught\"\u001b[0m\u001b[1;33m)\u001b[0m\u001b[1;33m\u001b[0m\u001b[1;33m\u001b[0m\u001b[0m\n\u001b[0;32m     13\u001b[0m \u001b[1;33m\u001b[0m\u001b[0m\n",
      "\u001b[1;31mZeroDivisionError\u001b[0m: division by zero"
     ]
    }
   ],
   "source": [
    "# Finnaly Block is the best place beacuse\n",
    "# finally block will execute at any cost, \n",
    "# whether unhandled exc are present or not\n",
    "\n",
    "try:\n",
    "    print(\"File Open\")\n",
    "    print(\"File Read/Write\")\n",
    "    print(0/0)   # exc occured\n",
    "    \n",
    "except Exception as e:\n",
    "    print(0/0)   # another exc \n",
    "    print(\"Exception caught\")\n",
    "    \n",
    "finally:\n",
    "    print(\"File Close\")"
   ]
  },
  {
   "cell_type": "code",
   "execution_count": null,
   "id": "1b847f83",
   "metadata": {},
   "outputs": [],
   "source": []
  }
 ],
 "metadata": {
  "kernelspec": {
   "display_name": "Python 3",
   "language": "python",
   "name": "python3"
  },
  "language_info": {
   "codemirror_mode": {
    "name": "ipython",
    "version": 3
   },
   "file_extension": ".py",
   "mimetype": "text/x-python",
   "name": "python",
   "nbconvert_exporter": "python",
   "pygments_lexer": "ipython3",
   "version": "3.8.8"
  }
 },
 "nbformat": 4,
 "nbformat_minor": 5
}
