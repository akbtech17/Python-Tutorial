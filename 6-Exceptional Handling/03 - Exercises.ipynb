{
 "cells": [
  {
   "cell_type": "code",
   "execution_count": 1,
   "id": "76f13320",
   "metadata": {},
   "outputs": [
    {
     "name": "stdout",
     "output_type": "stream",
     "text": [
      "unsupported operand type(s) for ** or pow(): 'str' and 'int'\n",
      "unsupported operand type(s) for ** or pow(): 'str' and 'int'\n",
      "unsupported operand type(s) for ** or pow(): 'str' and 'int'\n"
     ]
    }
   ],
   "source": [
    "# 1 - Handle the exception thrown by the code below by using \n",
    "# try and except blocks.\n",
    "\n",
    "# for i in ['a','b','c']:\n",
    "#     print(i**2)\n",
    "\n",
    "for i in ['a','b','c']:\n",
    "    try:\n",
    "        print(i**2)\n",
    "    except Exception as e:\n",
    "        print(e)"
   ]
  },
  {
   "cell_type": "code",
   "execution_count": 2,
   "id": "11362b8c",
   "metadata": {},
   "outputs": [
    {
     "name": "stdout",
     "output_type": "stream",
     "text": [
      "division by zero\n",
      "All Done\n"
     ]
    }
   ],
   "source": [
    "# 2 - Handle the exception thrown by the code below by using try and except blocks. \n",
    "# Then use a finally block to print 'All Done.'\n",
    "\n",
    "# x = 5\n",
    "# y = 0\n",
    "\n",
    "# z = x/y\n",
    "\n",
    "x = 5\n",
    "y = 0\n",
    "\n",
    "try:\n",
    "    z = x/y\n",
    "except Exception as e:\n",
    "    print(e)\n",
    "finally:\n",
    "    print(\"All Done\")"
   ]
  },
  {
   "cell_type": "code",
   "execution_count": 5,
   "id": "3ed7d4e4",
   "metadata": {},
   "outputs": [
    {
     "name": "stdout",
     "output_type": "stream",
     "text": [
      "enter any integer value = f\n",
      "Try Again Please!!!, not an Integer\n",
      "exeception =  invalid literal for int() with base 10: 'f'\n",
      "finally-i am here to just mark my presence\n",
      "enter any integer value = a\n",
      "Try Again Please!!!, not an Integer\n",
      "exeception =  invalid literal for int() with base 10: 'a'\n",
      "finally-i am here to just mark my presence\n",
      "enter any integer value = v\n",
      "Try Again Please!!!, not an Integer\n",
      "exeception =  invalid literal for int() with base 10: 'v'\n",
      "finally-i am here to just mark my presence\n",
      "enter any integer value = 3\n",
      "Thankyou!!!\n",
      "finally-i am here to just mark my presence\n"
     ]
    }
   ],
   "source": [
    "# 3 - Write a function that asks for an integer and prints the square of it. \n",
    "# Use a while loop with a try, except, else block \n",
    "# to account for incorrect inputs.\n",
    "\n",
    "# def ask():\n",
    "#     pass\n",
    "# ask()\n",
    "\n",
    "def ask():\n",
    "    while True:\n",
    "        try:\n",
    "            num = int(input(\"enter any integer value = \"))\n",
    "        except Exception as e:\n",
    "            print(\"Try Again Please!!!, not an Integer\")\n",
    "            print(\"exeception = \",e)\n",
    "            continue\n",
    "        else:\n",
    "            print(\"Thankyou!!!\")\n",
    "            break\n",
    "        finally:\n",
    "            print(\"finally-i am here to just mark my presence\")\n",
    "            \n",
    "            \n",
    "ask()"
   ]
  },
  {
   "cell_type": "code",
   "execution_count": null,
   "id": "ceacbe2a",
   "metadata": {},
   "outputs": [],
   "source": []
  }
 ],
 "metadata": {
  "kernelspec": {
   "display_name": "Python 3",
   "language": "python",
   "name": "python3"
  },
  "language_info": {
   "codemirror_mode": {
    "name": "ipython",
    "version": 3
   },
   "file_extension": ".py",
   "mimetype": "text/x-python",
   "name": "python",
   "nbconvert_exporter": "python",
   "pygments_lexer": "ipython3",
   "version": "3.8.8"
  }
 },
 "nbformat": 4,
 "nbformat_minor": 5
}
