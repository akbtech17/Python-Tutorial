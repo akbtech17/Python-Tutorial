{
 "cells": [
  {
   "cell_type": "code",
   "execution_count": 3,
   "id": "927c93c2",
   "metadata": {},
   "outputs": [
    {
     "name": "stdout",
     "output_type": "stream",
     "text": [
      "Please provide number : faf\n",
      "Whoops! That is not a number\n",
      "Execption Occurred -  invalid literal for int() with base 10: 'faf'\n",
      "Finally, end of try/except/finally\n",
      "I will always run at the end!\n",
      "Please provide number : fasf\n",
      "Whoops! That is not a number\n",
      "Execption Occurred -  invalid literal for int() with base 10: 'fasf'\n",
      "Finally, end of try/except/finally\n",
      "I will always run at the end!\n",
      "Please provide number : fasf\n",
      "Whoops! That is not a number\n",
      "Execption Occurred -  invalid literal for int() with base 10: 'fasf'\n",
      "Finally, end of try/except/finally\n",
      "I will always run at the end!\n",
      "Please provide number : fsa\n",
      "Whoops! That is not a number\n",
      "Execption Occurred -  invalid literal for int() with base 10: 'fsa'\n",
      "Finally, end of try/except/finally\n",
      "I will always run at the end!\n",
      "Please provide number : 2\n",
      "Yes Thank You \n",
      "Finally, end of try/except/finally\n",
      "I will always run at the end!\n"
     ]
    }
   ],
   "source": [
    "# exceptional handling inside funcitons, and using while loop\n",
    "# https://stackoverflow.com/questions/10544928/python-using-continue-in-a-try-finally-statement-in-a-loop\n",
    "\n",
    "def ask_for_int():\n",
    "    while True:\n",
    "        try:\n",
    "            result = int(input(\"Please provide number : \"))\n",
    "        except Exception as e:\n",
    "            print(\"Whoops! That is not a number\")    # INPUT STRING\n",
    "            print(\"Execption Occurred - \", e)\n",
    "            continue\n",
    "        else:\n",
    "            print(\"Yes Thank You \")\n",
    "            break\n",
    "        finally:\n",
    "            print(\"Finally, end of try/except/finally\")\n",
    "            print(\"I will always run at the end!\")\n",
    "        \n",
    "        \n",
    "# The finally block is an exception for the break/continue statement. \n",
    "# Whenever it reaches a break, it will still get executed \n",
    "# on \"the way out\".       \n",
    "\n",
    "# it means, whenver the control gets either of try or catch block, \n",
    "# finally will get executed at any cost\n",
    "        \n",
    "        \n",
    "ask_for_int()"
   ]
  },
  {
   "cell_type": "code",
   "execution_count": null,
   "id": "f2c6b077",
   "metadata": {},
   "outputs": [],
   "source": []
  }
 ],
 "metadata": {
  "kernelspec": {
   "display_name": "Python 3",
   "language": "python",
   "name": "python3"
  },
  "language_info": {
   "codemirror_mode": {
    "name": "ipython",
    "version": 3
   },
   "file_extension": ".py",
   "mimetype": "text/x-python",
   "name": "python",
   "nbconvert_exporter": "python",
   "pygments_lexer": "ipython3",
   "version": "3.8.8"
  }
 },
 "nbformat": 4,
 "nbformat_minor": 5
}
