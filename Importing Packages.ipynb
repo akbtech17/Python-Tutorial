{
 "cells": [
  {
   "cell_type": "code",
   "execution_count": null,
   "id": "42feb456",
   "metadata": {},
   "outputs": [],
   "source": [
    "# suppose we have a file \n",
    "# package.py which have some methods and variables defined\n",
    "\n",
    "def add(num1,num2):\n",
    "    return num1+num2\n",
    "\n",
    "\n",
    "def sub(num1,num2):\n",
    "    return num1-num2\n",
    "\n",
    "\n",
    "var = 10"
   ]
  },
  {
   "cell_type": "code",
   "execution_count": null,
   "id": "b293ab39",
   "metadata": {},
   "outputs": [],
   "source": [
    "# importing package.py in our current program say demo.py\n",
    "# there are three variations of doing it"
   ]
  },
  {
   "cell_type": "code",
   "execution_count": null,
   "id": "4942c9cb",
   "metadata": {},
   "outputs": [],
   "source": [
    "# 1 - to include full package in our file  (using import)\n",
    "import package    # no-need of writting py\n",
    "\n",
    "# we can access methods like\n",
    "print(package.add(2,3))\n",
    "print(package.sub(2,3))\n",
    "\n",
    "# we can access variable\n",
    "print(package.var)"
   ]
  },
  {
   "cell_type": "code",
   "execution_count": null,
   "id": "872382c2",
   "metadata": {},
   "outputs": [],
   "source": [
    "# to access variable and \n",
    "\n",
    "# 2 - To include full package\n",
    "from Package_Name import method_name\n",
    "\n",
    "# 3 - To include \n",
    "from Package_Name import method_name as fun"
   ]
  },
  {
   "cell_type": "code",
   "execution_count": null,
   "id": "87777c56",
   "metadata": {},
   "outputs": [],
   "source": [
    "# 2 - to include certain methods/vars from package in our file  (using from)\n",
    "from package import add,sub,var  \n",
    "\n",
    "# we can access methods like\n",
    "print(add(2,3))\n",
    "print(sub(2,3))\n",
    "\n",
    "# we can access variable\n",
    "print(var)"
   ]
  },
  {
   "cell_type": "code",
   "execution_count": null,
   "id": "a85047da",
   "metadata": {},
   "outputs": [],
   "source": [
    "# 3 - using as\n",
    "from package import add as fun\n",
    "\n",
    "# we can access methods like\n",
    "print(fun(2,3))\n"
   ]
  }
 ],
 "metadata": {
  "kernelspec": {
   "display_name": "Python 3",
   "language": "python",
   "name": "python3"
  },
  "language_info": {
   "codemirror_mode": {
    "name": "ipython",
    "version": 3
   },
   "file_extension": ".py",
   "mimetype": "text/x-python",
   "name": "python",
   "nbconvert_exporter": "python",
   "pygments_lexer": "ipython3",
   "version": "3.8.8"
  }
 },
 "nbformat": 4,
 "nbformat_minor": 5
}
