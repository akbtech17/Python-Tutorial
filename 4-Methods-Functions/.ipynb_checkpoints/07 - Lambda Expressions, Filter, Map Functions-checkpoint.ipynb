{
 "cells": [
  {
   "cell_type": "markdown",
   "id": "f1572722",
   "metadata": {},
   "source": [
    "# map()"
   ]
  },
  {
   "cell_type": "code",
   "execution_count": 3,
   "id": "48d40765",
   "metadata": {},
   "outputs": [
    {
     "name": "stdout",
     "output_type": "stream",
     "text": [
      "1\n",
      "4\n",
      "9\n",
      "16\n",
      "25\n",
      "[1, 4, 9, 16, 25]\n"
     ]
    }
   ],
   "source": [
    "# map() is used to apply function to an iterable object\n",
    "\n",
    "# define any function,\n",
    "# which accepts an element of your iterable list\n",
    "# which returns the tranformed element accepted \n",
    "\n",
    "def square(num):\n",
    "    return num**2\n",
    "\n",
    "my_nums = [1,2,3,4,5]\n",
    "\n",
    "# (function, iterable_object)\n",
    "\n",
    "# note - we are not passing funciton call, ie square()\n",
    "# we have to just pass the refernce to the function\n",
    "# and later map funciton will automatically invoke the passed function\n",
    "# for each item of our iterable list\n",
    "\n",
    "# 1 - we can directly iterate over mapped list\n",
    "for item in map(square,my_nums):\n",
    "    print(item)\n",
    "    \n",
    "# 2 - we can type cast it into list\n",
    "new_list = list(map(square,my_nums))\n",
    "print(new_list)\n",
    "  "
   ]
  },
  {
   "cell_type": "code",
   "execution_count": 7,
   "id": "c81fc9eb",
   "metadata": {},
   "outputs": [
    {
     "name": "stdout",
     "output_type": "stream",
     "text": [
      "['EVEN', 'p', 'm', 'EVEN', 'a']\n"
     ]
    }
   ],
   "source": [
    "def splicer(mystring):\n",
    "    if len(mystring)%2 == 0:\n",
    "        return \"EVEN\"\n",
    "    else:\n",
    "        return mystring[0]\n",
    "    \n",
    "\n",
    "names = [\"anshul\",\"prakhar\",\"mudit\",\"aatmic\",\"anish\"]\n",
    "newlist = list(map(splicer,names))\n",
    "print(newlist)"
   ]
  },
  {
   "cell_type": "markdown",
   "id": "697d9272",
   "metadata": {},
   "source": [
    "# filter()"
   ]
  },
  {
   "cell_type": "code",
   "execution_count": 9,
   "id": "ded24771",
   "metadata": {},
   "outputs": [
    {
     "name": "stdout",
     "output_type": "stream",
     "text": [
      "[2, 4, 6]\n",
      "2\n",
      "4\n",
      "6\n"
     ]
    }
   ],
   "source": [
    "# to filter an iterale_object depending upon whether \n",
    "# the function returns true or not for the specific elements\n",
    "\n",
    "# funciton that returns true or false\n",
    "def check_even(num):\n",
    "    return num%2 == 0\n",
    "\n",
    "\n",
    "nums = [1,2,3,4,5,6]\n",
    "newnums = list(filter(check_even,nums))\n",
    "print(newnums)\n",
    "\n",
    "for item in filter(check_even,nums):\n",
    "    print(item)"
   ]
  },
  {
   "cell_type": "markdown",
   "id": "9d66d2f6",
   "metadata": {},
   "source": [
    "# lambda expression"
   ]
  },
  {
   "cell_type": "code",
   "execution_count": 10,
   "id": "ca48ba66",
   "metadata": {},
   "outputs": [],
   "source": [
    "# writing simple method to return the square of the number\n",
    "def square(num):\n",
    "    result = num ** 2\n",
    "    return result"
   ]
  },
  {
   "cell_type": "code",
   "execution_count": 11,
   "id": "efeeb216",
   "metadata": {},
   "outputs": [],
   "source": [
    "# can be simply be written\n",
    "def square(num):\n",
    "    return num ** 2"
   ]
  },
  {
   "cell_type": "code",
   "execution_count": 12,
   "id": "b785a498",
   "metadata": {},
   "outputs": [],
   "source": [
    "# can be more simplified as\n",
    "def square(num): return num ** 2"
   ]
  },
  {
   "cell_type": "code",
   "execution_count": 13,
   "id": "148a040b",
   "metadata": {},
   "outputs": [
    {
     "data": {
      "text/plain": [
       "25"
      ]
     },
     "execution_count": 13,
     "metadata": {},
     "output_type": "execute_result"
    }
   ],
   "source": [
    "# lambda expression\n",
    "# used to create temp function to use it only once\n",
    "# they are simply created and used, not stored in any ref variable\n",
    "# no def, no function, no return name is used\n",
    "# after colon mark the statement/expression to return\n",
    "\n",
    "square = lambda num: num**2\n",
    "square(5)\n",
    "\n",
    "# generally not assign to variable"
   ]
  },
  {
   "cell_type": "code",
   "execution_count": 17,
   "id": "6c4edcc3",
   "metadata": {},
   "outputs": [
    {
     "name": "stdout",
     "output_type": "stream",
     "text": [
      "[1, 4, 9, 16]\n",
      "[2, 4]\n"
     ]
    }
   ],
   "source": [
    "# lambda use\n",
    "\n",
    "# 1 - with map()\n",
    "nums = [1,2,3,4]\n",
    "newnums = list(map(lambda num: num** 2, nums))\n",
    "print(newnums)\n",
    "\n",
    "\n",
    "# 2 - with filter()\n",
    "nums = [1,2,3,4,5]\n",
    "newnums = list(filter(lambda num: num % 2 == 0, nums))\n",
    "print(newnums)"
   ]
  },
  {
   "cell_type": "code",
   "execution_count": 19,
   "id": "39cf5c49",
   "metadata": {},
   "outputs": [
    {
     "name": "stdout",
     "output_type": "stream",
     "text": [
      "['a', 'p', 'v']\n",
      "['luhsna', 'rahkarp', 'tnadev']\n"
     ]
    }
   ],
   "source": [
    "# if we want to have list of only first char \n",
    "# from the list list of names\n",
    "\n",
    "names = [\"anshul\", \"prakhar\", \"vedant\"]\n",
    "newnames = list(map(lambda name: name[0],names))\n",
    "print(newnames)\n",
    "\n",
    "# reverse the names\n",
    "names = [\"anshul\", \"prakhar\", \"vedant\"]\n",
    "newnames = list(map(lambda name: name[::-1],names))\n",
    "print(newnames)"
   ]
  },
  {
   "cell_type": "code",
   "execution_count": null,
   "id": "3930acd7",
   "metadata": {},
   "outputs": [],
   "source": []
  }
 ],
 "metadata": {
  "kernelspec": {
   "display_name": "Python 3",
   "language": "python",
   "name": "python3"
  },
  "language_info": {
   "codemirror_mode": {
    "name": "ipython",
    "version": 3
   },
   "file_extension": ".py",
   "mimetype": "text/x-python",
   "name": "python",
   "nbconvert_exporter": "python",
   "pygments_lexer": "ipython3",
   "version": "3.8.8"
  }
 },
 "nbformat": 4,
 "nbformat_minor": 5
}
