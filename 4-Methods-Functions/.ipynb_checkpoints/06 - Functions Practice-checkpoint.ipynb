{
 "cells": [
  {
   "cell_type": "code",
   "execution_count": 4,
   "id": "dff9f683",
   "metadata": {},
   "outputs": [
    {
     "name": "stdout",
     "output_type": "stream",
     "text": [
      "2\n",
      "5\n"
     ]
    }
   ],
   "source": [
    "# 1 - Write a function that returns the lesser of two given numbers \n",
    "# if both numbers are even, but returns the greater if one or both numbers are odd.\n",
    "\n",
    "def lesser_of_two_evens(a,b):\n",
    "    if a % 2 == 0 and b % 2 == 0:\n",
    "        if a < b:\n",
    "            return a\n",
    "        else:\n",
    "            return b\n",
    "    else:\n",
    "        if a > b:\n",
    "            return a\n",
    "        else:\n",
    "            return b\n",
    "    return a\n",
    "\n",
    "\n",
    "print(lesser_of_two_evens(2,4))\n",
    "print(lesser_of_two_evens(2,5))"
   ]
  },
  {
   "cell_type": "code",
   "execution_count": 9,
   "id": "b16beb5a",
   "metadata": {},
   "outputs": [
    {
     "name": "stdout",
     "output_type": "stream",
     "text": [
      "True\n",
      "False\n"
     ]
    }
   ],
   "source": [
    "# 2 - Write a function takes a two-word string and returns True if both words begin with same letter\n",
    "\n",
    "def animal_crackers(text):\n",
    "    words = text.split()\n",
    "    if words[0][0] == words[1][0]:\n",
    "        return True\n",
    "    return False\n",
    "\n",
    "\n",
    "print(animal_crackers('Levelheaded Llama'))\n",
    "print(animal_crackers('Crazy Kangaroo'))"
   ]
  },
  {
   "cell_type": "code",
   "execution_count": 15,
   "id": "fedc204d",
   "metadata": {},
   "outputs": [
    {
     "name": "stdout",
     "output_type": "stream",
     "text": [
      "True\n",
      "False\n"
     ]
    }
   ],
   "source": [
    "# 3 - Given two integers, return True if the sum of the integers is 20 \n",
    "# or if one of the integers is 20. If not, return False\n",
    "\n",
    "def makes_twenty(n1,n2):\n",
    "    sum = n1 + n2\n",
    "    if sum == 20:\n",
    "        return True\n",
    "    elif (n1 == 20 and n2 != 20) or (n1 != 20 and n2 == 20):\n",
    "        return True\n",
    "    return False\n",
    "\n",
    "\n",
    "print(makes_twenty(20,10))\n",
    "print(makes_twenty(2,3))"
   ]
  },
  {
   "cell_type": "code",
   "execution_count": 17,
   "id": "71be1bef",
   "metadata": {},
   "outputs": [
    {
     "data": {
      "text/plain": [
       "'MacDonald'"
      ]
     },
     "execution_count": 17,
     "metadata": {},
     "output_type": "execute_result"
    }
   ],
   "source": [
    "# 4 - Write a function that capitalizes the first and fourth letters of a name\n",
    "\n",
    "def old_macdonald(name):\n",
    "    l = len(name)\n",
    "    ans = \"\"\n",
    "    for i in range(l):\n",
    "        if(i == 0 or i == 3):\n",
    "            ans += name[i].upper()\n",
    "        else:\n",
    "            ans += name[i]\n",
    "    return ans\n",
    "\n",
    "\n",
    "old_macdonald('macdonald')"
   ]
  },
  {
   "cell_type": "code",
   "execution_count": null,
   "id": "19cb3a36",
   "metadata": {},
   "outputs": [],
   "source": []
  }
 ],
 "metadata": {
  "kernelspec": {
   "display_name": "Python 3",
   "language": "python",
   "name": "python3"
  },
  "language_info": {
   "codemirror_mode": {
    "name": "ipython",
    "version": 3
   },
   "file_extension": ".py",
   "mimetype": "text/x-python",
   "name": "python",
   "nbconvert_exporter": "python",
   "pygments_lexer": "ipython3",
   "version": "3.8.8"
  }
 },
 "nbformat": 4,
 "nbformat_minor": 5
}
