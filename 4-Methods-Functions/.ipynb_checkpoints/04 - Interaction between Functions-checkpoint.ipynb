{
 "cells": [
  {
   "cell_type": "code",
   "execution_count": 1,
   "id": "c66c644a",
   "metadata": {},
   "outputs": [
    {
     "name": "stdout",
     "output_type": "stream",
     "text": [
      "[3, 2, 1]\n"
     ]
    }
   ],
   "source": [
    "# how to shuffles list in Python\n",
    "\n",
    "example = [1, 2, 3]\n",
    "from random import shuffle\n",
    "shuffle(example)\n",
    "\n",
    "print(example)"
   ]
  },
  {
   "cell_type": "code",
   "execution_count": 12,
   "id": "476dfdee",
   "metadata": {},
   "outputs": [
    {
     "name": "stdout",
     "output_type": "stream",
     "text": [
      "Guess the Valid Index (0,1,2) 2\n",
      "Correct!\n"
     ]
    }
   ],
   "source": [
    "# trying to make a simple 3 cup one ball guessing game\n",
    "\n",
    "from random import shuffle\n",
    "\n",
    "def shuffle_list(myList):\n",
    "    shuffle(myList)\n",
    "    return myList\n",
    "\n",
    "\n",
    "def player_guess():\n",
    "    guess = \"\"\n",
    "    \n",
    "    while guess not in ['0', '1', '2']:\n",
    "        guess = input(\"Guess the Valid Index (0,1,2) \")\n",
    "    return int(guess)\n",
    "    \n",
    "\n",
    "def check_guess(myList, playerGuess):\n",
    "    if myList[playerGuess] == \"ball\":\n",
    "        print(\"Correct!\")\n",
    "    else:\n",
    "        print(\"Wrong Guess!\")\n",
    "        print(myList)\n",
    "        \n",
    "        \n",
    "# logic to call functions in order\n",
    "myList = [\"\", \"ball\", \"\"]    # initial list\n",
    "myIndex = player_guess()     # ask to guess\n",
    "shuffle_list(myList)         # shuffle the cups\n",
    "check_guess(myList,myIndex)  # check the guess"
   ]
  }
 ],
 "metadata": {
  "kernelspec": {
   "display_name": "Python 3",
   "language": "python",
   "name": "python3"
  },
  "language_info": {
   "codemirror_mode": {
    "name": "ipython",
    "version": 3
   },
   "file_extension": ".py",
   "mimetype": "text/x-python",
   "name": "python",
   "nbconvert_exporter": "python",
   "pygments_lexer": "ipython3",
   "version": "3.8.8"
  }
 },
 "nbformat": 4,
 "nbformat_minor": 5
}
