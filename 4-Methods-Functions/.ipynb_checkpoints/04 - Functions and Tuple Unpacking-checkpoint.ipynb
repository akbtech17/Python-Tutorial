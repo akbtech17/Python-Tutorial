{
 "cells": [
  {
   "cell_type": "markdown",
   "id": "914e3a8d",
   "metadata": {},
   "source": [
    "# Functions and Tuple Unpacking\n"
   ]
  },
  {
   "cell_type": "code",
   "execution_count": 3,
   "id": "0100bde5",
   "metadata": {},
   "outputs": [
    {
     "name": "stdout",
     "output_type": "stream",
     "text": [
      "iterating over list of tups\n",
      "('Apple', 200)\n",
      "('Mango', 300)\n",
      "('Grapes', 150)\n",
      "\n",
      "\n",
      "tuple unpacking\n",
      "Apple fruit cost is 200\n",
      "Mango fruit cost is 300\n",
      "Grapes fruit cost is 150\n"
     ]
    }
   ],
   "source": [
    "# what is Tuple Unpacking ??? - with the for loop\n",
    "# consider we have a list of tuples, and we need to grab each tuple, and then item in each tuple\n",
    "\n",
    "stock_prices = [(\"Apple\", 200), (\"Mango\", 300), (\"Grapes\", 150)]\n",
    "\n",
    "print(\"iterating over list of tups\")\n",
    "for tup in stock_prices:\n",
    "    print(tup)\n",
    "    \n",
    "\n",
    "print(\"\\n\\ntuple unpacking\")\n",
    "for fruit, price in stock_prices:\n",
    "    print(\"{} fruit cost is {}\".format(fruit,price))"
   ]
  },
  {
   "cell_type": "code",
   "execution_count": 13,
   "id": "cf439350",
   "metadata": {},
   "outputs": [
    {
     "name": "stdout",
     "output_type": "stream",
     "text": [
      "employee of the month is :  ('Anish', 150)\n",
      "employee of the month is :  Anish  with working hours :  150\n"
     ]
    }
   ],
   "source": [
    "# Tuple Unpacking with Functions\n",
    "\n",
    "work_hours = [(\"Aatmic\", 100), (\"Anish\", 150), (\"Anshul\", 100), (\"Prakhar\", 50)]\n",
    "\n",
    "def super_emp(workInfo):\n",
    "    '''\n",
    "    function to check who is the Employeee of the Month, \n",
    "    depending upon the working hours\n",
    "    '''\n",
    "    # placeholder vairables\n",
    "    mxHrs = 0 \n",
    "    sup = \"\"\n",
    "    \n",
    "    # tuple unpacking here\n",
    "    for emp_name, hrs in workInfo:\n",
    "        if hrs > mxHrs : \n",
    "            sup = emp_name\n",
    "            mxHrs = hrs\n",
    "        else:\n",
    "            pass\n",
    "    return (sup, mxHrs)\n",
    "\n",
    "\n",
    "print(\"employee of the month is : \", super_emp(work_hours))\n",
    "\n",
    "# or\n",
    "\n",
    "name, hours = super_emp(work_hours)   # tuple unpacking here too\n",
    "print(\"employee of the month is : \", name, \" with working hours : \", hours)"
   ]
  },
  {
   "cell_type": "code",
   "execution_count": null,
   "id": "6ad70825",
   "metadata": {},
   "outputs": [],
   "source": []
  }
 ],
 "metadata": {
  "kernelspec": {
   "display_name": "Python 3",
   "language": "python",
   "name": "python3"
  },
  "language_info": {
   "codemirror_mode": {
    "name": "ipython",
    "version": 3
   },
   "file_extension": ".py",
   "mimetype": "text/x-python",
   "name": "python",
   "nbconvert_exporter": "python",
   "pygments_lexer": "ipython3",
   "version": "3.8.8"
  }
 },
 "nbformat": 4,
 "nbformat_minor": 5
}
