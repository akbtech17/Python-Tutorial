{
 "cells": [
  {
   "cell_type": "markdown",
   "id": "850dd976",
   "metadata": {},
   "source": [
    "# Logic with Functions"
   ]
  },
  {
   "cell_type": "code",
   "execution_count": 10,
   "id": "ef51da9c",
   "metadata": {},
   "outputs": [
    {
     "name": "stdout",
     "output_type": "stream",
     "text": [
      "5 is an odd number\n",
      "4 is an even number\n"
     ]
    }
   ],
   "source": [
    "# program to check if the number is even or not\n",
    "\n",
    "def is_even(number):\n",
    "    ''' \n",
    "    function to find \n",
    "    if the number is even or odd\n",
    "    '''\n",
    "    return number % 2 == 0\n",
    "\n",
    "\n",
    "if is_even(5): print(\"5 is an even number\")\n",
    "else: print(\"5 is an odd number\")\n",
    "    \n",
    "if is_even(4): print(\"4 is an even number\")\n",
    "else: print(\"4 is an odd number\")"
   ]
  },
  {
   "cell_type": "code",
   "execution_count": 12,
   "id": "7c785450",
   "metadata": {},
   "outputs": [
    {
     "name": "stdout",
     "output_type": "stream",
     "text": [
      "[1, 3, 5]  contains no even number\n",
      "[1, 2, 3]  contains an even number\n"
     ]
    }
   ],
   "source": [
    "# program to check if any number inside the list is even or not\n",
    "\n",
    "def is_even(number):\n",
    "    ''' \n",
    "    function to find \n",
    "    if the number is even or odd\n",
    "    '''\n",
    "    return number % 2 == 0\n",
    "\n",
    "\n",
    "def check_even_in_list(myList):\n",
    "    ''' \n",
    "    function to return true\n",
    "    if any number inside the list is even\n",
    "    '''\n",
    "    for number in myList:\n",
    "        if is_even(number):\n",
    "            return True\n",
    "        else:\n",
    "            pass\n",
    "        \n",
    "    return False    \n",
    "\n",
    "\n",
    "listOdd = [1, 3, 5]\n",
    "listEven = [1, 2, 3]\n",
    "\n",
    "if check_even_in_list(listOdd): print(listOdd, \" contains an even number\")\n",
    "else: print(listOdd, \" contains no even number\")\n",
    "    \n",
    "if check_even_in_list(listEven): print(listEven, \" contains an even number\")\n",
    "else: print(listEven, \" contains no even number\")\n"
   ]
  },
  {
   "cell_type": "code",
   "execution_count": 14,
   "id": "6848e49b",
   "metadata": {},
   "outputs": [
    {
     "name": "stdout",
     "output_type": "stream",
     "text": [
      "even numbers in  [1, 3, 5]  are  []\n",
      "even numbers in  [1, 2, 3, 4, 5, 6]  are  [2, 4, 6]\n"
     ]
    }
   ],
   "source": [
    "# program to return the list of even numbers present in a given_list\n",
    "\n",
    "def is_even(number):\n",
    "    ''' \n",
    "    function to find \n",
    "    if the number is even or odd\n",
    "    '''\n",
    "    return number % 2 == 0\n",
    "\n",
    "\n",
    "def return_even_in_list(myList):\n",
    "    ''' \n",
    "    function to return the list of even numbers present \n",
    "    inside the given list\n",
    "    '''\n",
    "    \n",
    "    even_numbers = []   # placeholder variables\n",
    "    \n",
    "    for number in myList:\n",
    "        if is_even(number):\n",
    "            even_numbers.append(number)\n",
    "        else:\n",
    "            pass\n",
    "        \n",
    "    return even_numbers    \n",
    "\n",
    "\n",
    "listOdd = [1, 3, 5]\n",
    "listEven = [1, 2, 3, 4, 5, 6]\n",
    "\n",
    "print(\"even numbers in \", listOdd, \" are \", return_even_in_list(listOdd))\n",
    "print(\"even numbers in \", listEven, \" are \", return_even_in_list(listEven))"
   ]
  },
  {
   "cell_type": "code",
   "execution_count": null,
   "id": "a06a0682",
   "metadata": {},
   "outputs": [],
   "source": []
  }
 ],
 "metadata": {
  "kernelspec": {
   "display_name": "Python 3",
   "language": "python",
   "name": "python3"
  },
  "language_info": {
   "codemirror_mode": {
    "name": "ipython",
    "version": 3
   },
   "file_extension": ".py",
   "mimetype": "text/x-python",
   "name": "python",
   "nbconvert_exporter": "python",
   "pygments_lexer": "ipython3",
   "version": "3.8.8"
  }
 },
 "nbformat": 4,
 "nbformat_minor": 5
}
