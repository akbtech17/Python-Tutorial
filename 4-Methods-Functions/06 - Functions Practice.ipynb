{
 "cells": [
  {
   "cell_type": "code",
   "execution_count": 4,
   "id": "dff9f683",
   "metadata": {},
   "outputs": [
    {
     "name": "stdout",
     "output_type": "stream",
     "text": [
      "2\n",
      "5\n"
     ]
    }
   ],
   "source": [
    "# 1 - Write a function that returns the lesser of two given numbers \n",
    "# if both numbers are even, but returns the greater if one or both numbers are odd.\n",
    "\n",
    "def lesser_of_two_evens(a,b):\n",
    "    if a % 2 == 0 and b % 2 == 0:\n",
    "        if a < b:\n",
    "            return a\n",
    "        else:\n",
    "            return b\n",
    "    else:\n",
    "        if a > b:\n",
    "            return a\n",
    "        else:\n",
    "            return b\n",
    "    return a\n",
    "\n",
    "\n",
    "print(lesser_of_two_evens(2,4))\n",
    "print(lesser_of_two_evens(2,5))"
   ]
  },
  {
   "cell_type": "code",
   "execution_count": 9,
   "id": "b16beb5a",
   "metadata": {},
   "outputs": [
    {
     "name": "stdout",
     "output_type": "stream",
     "text": [
      "True\n",
      "False\n"
     ]
    }
   ],
   "source": [
    "# 2 - Write a function takes a two-word string and returns True if both words begin with same letter\n",
    "\n",
    "def animal_crackers(text):\n",
    "    words = text.split()\n",
    "    if words[0][0] == words[1][0]:\n",
    "        return True\n",
    "    return False\n",
    "\n",
    "\n",
    "print(animal_crackers('Levelheaded Llama'))\n",
    "print(animal_crackers('Crazy Kangaroo'))"
   ]
  },
  {
   "cell_type": "code",
   "execution_count": 15,
   "id": "fedc204d",
   "metadata": {},
   "outputs": [
    {
     "name": "stdout",
     "output_type": "stream",
     "text": [
      "True\n",
      "False\n"
     ]
    }
   ],
   "source": [
    "# 3 - Given two integers, return True if the sum of the integers is 20 \n",
    "# or if one of the integers is 20. If not, return False\n",
    "\n",
    "def makes_twenty(n1,n2):\n",
    "    sum = n1 + n2\n",
    "    if sum == 20:\n",
    "        return True\n",
    "    elif (n1 == 20 and n2 != 20) or (n1 != 20 and n2 == 20):\n",
    "        return True\n",
    "    return False\n",
    "\n",
    "\n",
    "print(makes_twenty(20,10))\n",
    "print(makes_twenty(2,3))"
   ]
  },
  {
   "cell_type": "code",
   "execution_count": 17,
   "id": "71be1bef",
   "metadata": {},
   "outputs": [
    {
     "data": {
      "text/plain": [
       "'MacDonald'"
      ]
     },
     "execution_count": 17,
     "metadata": {},
     "output_type": "execute_result"
    }
   ],
   "source": [
    "# 4 - Write a function that capitalizes the first and fourth letters of a name\n",
    "\n",
    "def old_macdonald(name):\n",
    "    l = len(name)\n",
    "    ans = \"\"\n",
    "    for i in range(l):\n",
    "        if(i == 0 or i == 3):\n",
    "            ans += name[i].upper()\n",
    "        else:\n",
    "            ans += name[i]\n",
    "    return ans\n",
    "\n",
    "\n",
    "old_macdonald('macdonald')"
   ]
  },
  {
   "cell_type": "code",
   "execution_count": 10,
   "id": "19cb3a36",
   "metadata": {},
   "outputs": [
    {
     "name": "stdout",
     "output_type": "stream",
     "text": [
      "home am I\n",
      "ready are we\n"
     ]
    }
   ],
   "source": [
    "# 5 - Given a sentence, return a sentence with the words reversed\n",
    "\n",
    "def master_yoda(text):\n",
    "    words = text.split()\n",
    "    words = words[::-1]\n",
    "    \n",
    "    return \" \".join(words)\n",
    "\n",
    "    \n",
    "print(master_yoda('I am home'))\n",
    "print(master_yoda('we are ready'))"
   ]
  },
  {
   "cell_type": "code",
   "execution_count": 1,
   "id": "9e85ce4f",
   "metadata": {},
   "outputs": [
    {
     "name": "stdout",
     "output_type": "stream",
     "text": [
      "True\n",
      "False\n",
      "True\n",
      "True\n"
     ]
    }
   ],
   "source": [
    "# 6 Given an integer n, return True if n is within 10 of either 100 or 200\n",
    "\n",
    "def almost_there(n):\n",
    "    if (n >= 90 and n<=110) or (n >= 190 and n<= 210):\n",
    "        return True\n",
    "    return False\n",
    "\n",
    "\n",
    "print(almost_there(104))\n",
    "print(almost_there(150))\n",
    "print(almost_there(209))\n",
    "print(almost_there(90))"
   ]
  },
  {
   "cell_type": "code",
   "execution_count": 4,
   "id": "5d8ecabb",
   "metadata": {},
   "outputs": [
    {
     "name": "stdout",
     "output_type": "stream",
     "text": [
      "True\n",
      "False\n"
     ]
    }
   ],
   "source": [
    "# 7 - Given a list of ints, return True if the array contains a 3 next to a 3 somewhere.\n",
    "\n",
    "def has_33(nums):\n",
    "    for i in range(len(nums)):\n",
    "        if i == 0: \n",
    "            pass\n",
    "        else:\n",
    "            if nums[i] == nums[i-1] and nums[i] == 3:\n",
    "                return True\n",
    "    return False\n",
    "\n",
    "\n",
    "print(has_33([1, 3, 3]))\n",
    "print(has_33([1, 3, 1, 3]))"
   ]
  },
  {
   "cell_type": "code",
   "execution_count": 5,
   "id": "f3d5afb7",
   "metadata": {},
   "outputs": [
    {
     "name": "stdout",
     "output_type": "stream",
     "text": [
      "aaannnssshhhuuulll\n"
     ]
    }
   ],
   "source": [
    "# 8 - Given a string, return a string where for every character in the original there are three characters\n",
    "\n",
    "def paper_doll(text):\n",
    "    ans = \"\"\n",
    "    for ch in text:\n",
    "        ans += ch*3\n",
    "    return ans\n",
    "\n",
    "\n",
    "print(paper_doll(\"anshul\"))"
   ]
  },
  {
   "cell_type": "code",
   "execution_count": 8,
   "id": "a1d18e16",
   "metadata": {},
   "outputs": [
    {
     "name": "stdout",
     "output_type": "stream",
     "text": [
      "18\n",
      "BUST\n",
      "19\n"
     ]
    }
   ],
   "source": [
    "# 9 - Given three integers between 1 and 11, \n",
    "# if their sum is less than or equal to 21, return their sum. \n",
    "# If their sum exceeds 21 and there's an eleven, reduce the total sum by 10. \n",
    "# Finally, if the sum (even after adjustment) exceeds 21, return 'BUST'\n",
    "\n",
    "def blackjack(a,b,c):\n",
    "    s = sum((a,b,c))\n",
    "    if s <= 21:\n",
    "        return s\n",
    "    elif s>21 and (a == 11 or b == 11 or c == 11):\n",
    "        s = s-10\n",
    "    if s > 21:\n",
    "        return \"BUST\"\n",
    "    return s\n",
    "\n",
    "\n",
    "print(blackjack(5,6,7))\n",
    "print(blackjack(9,9,9))\n",
    "print(blackjack(9,9,11))"
   ]
  },
  {
   "cell_type": "code",
   "execution_count": 11,
   "id": "eeab7f79",
   "metadata": {},
   "outputs": [
    {
     "name": "stdout",
     "output_type": "stream",
     "text": [
      "9\n",
      "9\n",
      "14\n"
     ]
    }
   ],
   "source": [
    "# 10 - Return the sum of the numbers in the array, \n",
    "# except ignore sections of numbers starting with a 6 and extending to the next 9 \n",
    "# (every 6 will be followed by at least one 9). Return 0 for no numbers.\n",
    "\n",
    "\n",
    "def summer_69(arr):\n",
    "    ans = 0\n",
    "    isSix = False\n",
    "    for i in range(len(arr)):\n",
    "        if arr[i] == 6:\n",
    "            isSix = True\n",
    "            continue\n",
    "        if arr[i] == 9 and isSix == True: \n",
    "            isSix = False\n",
    "            continue\n",
    "        if isSix: \n",
    "            continue\n",
    "        ans += arr[i]\n",
    "    \n",
    "    return ans\n",
    "\n",
    "\n",
    "print(summer_69([1, 3, 5]))\n",
    "print(summer_69([4, 5, 6, 7, 8, 9]))\n",
    "print(summer_69([2, 1, 6, 9, 11]))"
   ]
  },
  {
   "cell_type": "code",
   "execution_count": null,
   "id": "7d911c72",
   "metadata": {},
   "outputs": [],
   "source": []
  }
 ],
 "metadata": {
  "kernelspec": {
   "display_name": "Python 3",
   "language": "python",
   "name": "python3"
  },
  "language_info": {
   "codemirror_mode": {
    "name": "ipython",
    "version": 3
   },
   "file_extension": ".py",
   "mimetype": "text/x-python",
   "name": "python",
   "nbconvert_exporter": "python",
   "pygments_lexer": "ipython3",
   "version": "3.8.8"
  }
 },
 "nbformat": 4,
 "nbformat_minor": 5
}
