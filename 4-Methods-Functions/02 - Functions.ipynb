{
 "cells": [
  {
   "cell_type": "markdown",
   "id": "cbbc02a9",
   "metadata": {},
   "source": [
    "# Functions\n",
    "block of code, that can be reused and called many times in a program.."
   ]
  },
  {
   "cell_type": "code",
   "execution_count": 38,
   "id": "15dd2adf",
   "metadata": {},
   "outputs": [],
   "source": [
    "# 1 - python is dynamically typed language, snake casing is used to name the function\n",
    "# 2 - no-returntype, insteac of return type we use def keyword (define)\n",
    "# 3 - to indicate body we use colon, no braces,\n",
    "# 4 - do not use TAB, use 4 spaces instead (indentation)\n",
    "# 5 - after function body, give two lines of spaces "
   ]
  },
  {
   "cell_type": "code",
   "execution_count": 1,
   "id": "66f82cda",
   "metadata": {},
   "outputs": [
    {
     "name": "stdout",
     "output_type": "stream",
     "text": [
      "printing from funciton body 2 3\n",
      "5\n"
     ]
    }
   ],
   "source": [
    "# General Rules to define a simple function\n",
    "\n",
    "# 1 - Return Type\n",
    "#     In python we are not allowed to give return type of the function,\n",
    "#     instead of it we use \"def\" keyword which tells the compiler that now we are going to define our function\n",
    "#     and this def keyword automatically handles all return types (because python is dynamically typed language)\n",
    "\n",
    "# 2 - function_name\n",
    "#     it is written using camel casing\n",
    "\n",
    "# 3 - parameters \n",
    "#     we have to define parameters in parenthesis ()\n",
    "\n",
    "# 4 - start of the body is mentioned using : colon\n",
    "\n",
    "# 5 - we can use multi line string to explain the functionality of fn\n",
    "\n",
    "# 6 - to define the scope of fn, use 4 space (dont use TAB), indentation\n",
    "#     all code written below the fn def, with the same indentation is considered in its scope\n",
    "#     unless we start writting code without including that indentation\n",
    "\n",
    "# 7 - it is considered a good practise to give 2 line of space after the fn body ends\n",
    "\n",
    "\n",
    "def name_of_the_function(parameter1, parameter2):\n",
    "    '''\n",
    "    this is a function to display parameters passed\n",
    "    '''\n",
    "    \n",
    "    print(\"printing from funciton body {} {}\".format(parameter1, parameter2))\n",
    "    return parameter1 + parameter2\n",
    "\n",
    "\n",
    "storeResult = name_of_the_function(2, 3)\n",
    "print(storeResult)"
   ]
  },
  {
   "cell_type": "code",
   "execution_count": 50,
   "id": "80b9e6de",
   "metadata": {},
   "outputs": [],
   "source": [
    "# declaring a funciton\n",
    "\n",
    "def fun():\n",
    "    pass\n",
    "    \n",
    "fun()"
   ]
  },
  {
   "cell_type": "code",
   "execution_count": 5,
   "id": "bb0ffba2",
   "metadata": {},
   "outputs": [
    {
     "name": "stdout",
     "output_type": "stream",
     "text": [
      "hello world\n"
     ]
    }
   ],
   "source": [
    "# void-type function\n",
    "\n",
    "def say_hello():\n",
    "    print(\"hello world\")\n",
    "    \n",
    "\n",
    "say_hello()     # paranthesis are must to call the fn"
   ]
  },
  {
   "cell_type": "code",
   "execution_count": 7,
   "id": "153f3b6d",
   "metadata": {},
   "outputs": [
    {
     "name": "stdout",
     "output_type": "stream",
     "text": [
      "10\n",
      "10\n"
     ]
    }
   ],
   "source": [
    "# return-type function\n",
    "\n",
    "def return_num():\n",
    "    return 10\n",
    "    \n",
    "\n",
    "var = return_num()              # we can either store the returned value\n",
    "print(var)\n",
    "                               # OR\n",
    "print(return_num())             \n",
    "                               # we can directly print the returned value"
   ]
  },
  {
   "cell_type": "code",
   "execution_count": 9,
   "id": "dc3f360d",
   "metadata": {},
   "outputs": [
    {
     "name": "stdout",
     "output_type": "stream",
     "text": [
      "Value1 is 50\n",
      "Value1 is anshul\n"
     ]
    }
   ],
   "source": [
    "# default function, setting default arguement\n",
    "# funciton signature should match - (function name + parameters matching)\n",
    "\n",
    "def default_function(value1=50):\n",
    "    print(\"Value1 is\", value1)\n",
    "    \n",
    "    \n",
    "default_function()\n",
    "default_function(\"anshul\")"
   ]
  },
  {
   "cell_type": "code",
   "execution_count": 8,
   "id": "c0aa0964",
   "metadata": {},
   "outputs": [
    {
     "name": "stdout",
     "output_type": "stream",
     "text": [
      "8\n",
      "8.7\n",
      "anshul bansal\n"
     ]
    }
   ],
   "source": [
    "# benefit of functions in python\n",
    "# we can use same function with different type of arguements to achieve different functionalities\n",
    "\n",
    "def paraFunction(val1, val2):\n",
    "    return val1+val2\n",
    "\n",
    "\n",
    "print(paraFunction(5,3))\n",
    "print(paraFunction(5.5,3.2))\n",
    "print(paraFunction(\"anshul \",\"bansal\"))\n"
   ]
  },
  {
   "cell_type": "code",
   "execution_count": 12,
   "id": "ff80cea2",
   "metadata": {},
   "outputs": [
    {
     "name": "stdout",
     "output_type": "stream",
     "text": [
      "maggi pizza\n"
     ]
    }
   ],
   "source": [
    "# 1- we cant pass, 0 or 3 args, we have to pass exactly 2 arg\n",
    "# 2- args are always passed sequence wise only (as default)\n",
    "def food(p1,p2):\n",
    "    return p2+\" \"+p1\n",
    "    \n",
    "    \n",
    "print(food(\"pizza\",\"maggi\"))"
   ]
  },
  {
   "cell_type": "code",
   "execution_count": 13,
   "id": "c4eb4ef6",
   "metadata": {},
   "outputs": [
    {
     "name": "stdout",
     "output_type": "stream",
     "text": [
      "Value1 is 50\n",
      "Value2 is Hello\n",
      "Value1 is Hello\n",
      "Value2 is 50\n"
     ]
    }
   ],
   "source": [
    "# we can change the arguement-parameter mappings, sequence of arguements passed\n",
    "\n",
    "def fun(value1,value2):\n",
    "    print(\"Value1 is\", value1)\n",
    "    print(\"Value2 is\", value2)\n",
    "    \n",
    "    \n",
    "fun(50,\"Hello\")\n",
    "fun(value2=50,value1=\"Hello\")"
   ]
  },
  {
   "cell_type": "markdown",
   "id": "79f2761a",
   "metadata": {},
   "source": [
    "# Sequence of Function Calling"
   ]
  },
  {
   "cell_type": "code",
   "execution_count": 48,
   "id": "88e98e8c",
   "metadata": {},
   "outputs": [
    {
     "name": "stdout",
     "output_type": "stream",
     "text": [
      "Four\n"
     ]
    }
   ],
   "source": [
    "# why.......................\n",
    "# it will invoke the neraest defined function\n",
    "oneFun()\n",
    "\n",
    "def oneFun():     # object of function is created and reference is stored in\n",
    "    print(\"One\")  # oneFun placeholder\n",
    "\n",
    "\n",
    "def oneFun():     # placeholder is over written by object of this function\n",
    "    print(\"Two\")\n",
    "\n",
    "\n",
    "def oneFun():    # placeholder is over written by object of this function\n",
    "    print(\"Three\")\n",
    "\n",
    "oneFun()"
   ]
  },
  {
   "cell_type": "code",
   "execution_count": 52,
   "id": "4aee94ef",
   "metadata": {},
   "outputs": [
    {
     "name": "stdout",
     "output_type": "stream",
     "text": [
      "anshul\n",
      "None\n"
     ]
    }
   ],
   "source": [
    "def fun():\n",
    "    print(\"anshul\")\n",
    "    \n",
    "    \n",
    "funReturn = fun()   # assignment is making call, first it wiill resolve the function call to know what is have to assign\n",
    "print(funReturn)"
   ]
  },
  {
   "cell_type": "code",
   "execution_count": 56,
   "id": "a19739da",
   "metadata": {},
   "outputs": [
    {
     "name": "stdout",
     "output_type": "stream",
     "text": [
      "150\n"
     ]
    }
   ],
   "source": [
    "def fun(num1,num2):\n",
    "    return num1 + num2\n",
    "    \n",
    "    \n",
    "funReturn = fun                # adding another reference to the function, \n",
    "print(funReturn(50,100))"
   ]
  },
  {
   "cell_type": "code",
   "execution_count": null,
   "id": "c0a2567a",
   "metadata": {},
   "outputs": [],
   "source": []
  }
 ],
 "metadata": {
  "kernelspec": {
   "display_name": "Python 3",
   "language": "python",
   "name": "python3"
  },
  "language_info": {
   "codemirror_mode": {
    "name": "ipython",
    "version": 3
   },
   "file_extension": ".py",
   "mimetype": "text/x-python",
   "name": "python",
   "nbconvert_exporter": "python",
   "pygments_lexer": "ipython3",
   "version": "3.8.8"
  }
 },
 "nbformat": 4,
 "nbformat_minor": 5
}
