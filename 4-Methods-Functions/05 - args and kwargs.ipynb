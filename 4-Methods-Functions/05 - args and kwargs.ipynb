{
 "cells": [
  {
   "cell_type": "markdown",
   "id": "5b933e4f",
   "metadata": {},
   "source": [
    "# Args, Passing Arguements as an Tuple of Parameter"
   ]
  },
  {
   "cell_type": "code",
   "execution_count": 13,
   "id": "b46ce600",
   "metadata": {},
   "outputs": [
    {
     "name": "stdout",
     "output_type": "stream",
     "text": [
      "100\n",
      "15\n"
     ]
    }
   ],
   "source": [
    "# positional arguements\n",
    "def fun(num1,num2):\n",
    "    return sum((num1,num2))\n",
    "\n",
    "\n",
    "print(fun(40,60))\n",
    "\n",
    "# allows us to take arbitrary number of arguements, *args\n",
    "# we should always use args as per PEP8 convetion\n",
    "# taking (multi-arguements) tuple as parameter\n",
    "def fun2(*nums):\n",
    "    return sum(nums)\n",
    "\n",
    "\n",
    "print(fun2(1,2,3,4,5))"
   ]
  },
  {
   "cell_type": "code",
   "execution_count": 1,
   "id": "71b3378f",
   "metadata": {},
   "outputs": [
    {
     "name": "stdout",
     "output_type": "stream",
     "text": [
      "age is (10,)\n",
      "age is (10, 20, 30, 40)\n"
     ]
    }
   ],
   "source": [
    "# taking (multi-arguements)tuple as parameter\n",
    "\n",
    "def paraFunctionNext(*age):\n",
    "    print(\"age is\", age)\n",
    "    \n",
    "    \n",
    "paraFunctionNext(10)                  # <- meaning, why comma\n",
    "paraFunctionNext(10,20,30,40)"
   ]
  },
  {
   "cell_type": "code",
   "execution_count": 2,
   "id": "73f4671b",
   "metadata": {},
   "outputs": [
    {
     "name": "stdout",
     "output_type": "stream",
     "text": [
      "number are  1\n",
      "values are  (2, 3, 4)\n"
     ]
    }
   ],
   "source": [
    "def fn(numbers=10, *values):\n",
    "    print(\"number are \", numbers)\n",
    "    print(\"values are \", values)\n",
    "    \n",
    "\n",
    "fn(1,2,3,4)"
   ]
  },
  {
   "cell_type": "code",
   "execution_count": 3,
   "id": "783f232e",
   "metadata": {},
   "outputs": [
    {
     "name": "stdout",
     "output_type": "stream",
     "text": [
      "number are  10\n",
      "values are  (1, 2, 3, 4)\n"
     ]
    }
   ],
   "source": [
    "def fn(*values,numbers=10):\n",
    "    print(\"number are \", numbers)\n",
    "    print(\"values are \", values)\n",
    "    \n",
    "\n",
    "fn(1,2,3,4)"
   ]
  },
  {
   "cell_type": "code",
   "execution_count": 4,
   "id": "2c240013",
   "metadata": {},
   "outputs": [
    {
     "ename": "TypeError",
     "evalue": "fn() missing 1 required keyword-only argument: 'numbers'",
     "output_type": "error",
     "traceback": [
      "\u001b[1;31m---------------------------------------------------------------------------\u001b[0m",
      "\u001b[1;31mTypeError\u001b[0m                                 Traceback (most recent call last)",
      "\u001b[1;32m<ipython-input-4-c11939f7c9aa>\u001b[0m in \u001b[0;36m<module>\u001b[1;34m\u001b[0m\n\u001b[0;32m      4\u001b[0m \u001b[1;33m\u001b[0m\u001b[0m\n\u001b[0;32m      5\u001b[0m \u001b[1;33m\u001b[0m\u001b[0m\n\u001b[1;32m----> 6\u001b[1;33m \u001b[0mfn\u001b[0m\u001b[1;33m(\u001b[0m\u001b[1;36m1\u001b[0m\u001b[1;33m,\u001b[0m\u001b[1;36m2\u001b[0m\u001b[1;33m,\u001b[0m\u001b[1;36m3\u001b[0m\u001b[1;33m,\u001b[0m\u001b[1;36m4\u001b[0m\u001b[1;33m)\u001b[0m\u001b[1;33m\u001b[0m\u001b[1;33m\u001b[0m\u001b[0m\n\u001b[0m",
      "\u001b[1;31mTypeError\u001b[0m: fn() missing 1 required keyword-only argument: 'numbers'"
     ]
    }
   ],
   "source": [
    "def fn(*values,numbers):\n",
    "    print(\"number are \", numbers)\n",
    "    print(\"values are \", values)\n",
    "    \n",
    "\n",
    "fn(1,2,3,4)"
   ]
  },
  {
   "cell_type": "code",
   "execution_count": 5,
   "id": "e328486c",
   "metadata": {},
   "outputs": [
    {
     "name": "stdout",
     "output_type": "stream",
     "text": [
      "number are  4\n",
      "values are  (1, 2, 3)\n"
     ]
    }
   ],
   "source": [
    "def fn(*values,numbers):\n",
    "    print(\"number are \", numbers)\n",
    "    print(\"values are \", values)\n",
    "    \n",
    "\n",
    "fn(1,2,3,numbers=4)"
   ]
  },
  {
   "cell_type": "code",
   "execution_count": 6,
   "id": "112c2a59",
   "metadata": {},
   "outputs": [
    {
     "ename": "SyntaxError",
     "evalue": "invalid syntax (<ipython-input-6-98d747fb52ac>, line 1)",
     "output_type": "error",
     "traceback": [
      "\u001b[1;36m  File \u001b[1;32m\"<ipython-input-6-98d747fb52ac>\"\u001b[1;36m, line \u001b[1;32m1\u001b[0m\n\u001b[1;33m    def fn(*values,*numbers=(1,2,3)):\u001b[0m\n\u001b[1;37m                   ^\u001b[0m\n\u001b[1;31mSyntaxError\u001b[0m\u001b[1;31m:\u001b[0m invalid syntax\n"
     ]
    }
   ],
   "source": [
    "def fn(*values,*numbers=(1,2,3)):\n",
    "    print(\"number are \", numbers)\n",
    "    print(\"values are \", values)\n",
    "    \n",
    "\n",
    "fn(1,2,3,4)"
   ]
  },
  {
   "cell_type": "markdown",
   "id": "b101fcec",
   "metadata": {},
   "source": [
    "# Kwargs, passing arbitary number of Keyworded Arguements"
   ]
  },
  {
   "cell_type": "code",
   "execution_count": 16,
   "id": "587a059b",
   "metadata": {},
   "outputs": [
    {
     "name": "stdout",
     "output_type": "stream",
     "text": [
      "printing kwargs :  {'fruit': 'apple', 'veggie': 'lettuce'}\n",
      "my fruit of choice is apple\n",
      "printing kwargs :  {'bat': 'ball'}\n",
      "i didnt find any fruit here\n"
     ]
    }
   ],
   "source": [
    "# it acccepts an args as a key::value pair,\n",
    "# and stored it as a Dictionary\n",
    "\n",
    "\n",
    "def fun(**kwargs):\n",
    "    print(\"printing kwargs : \", kwargs)\n",
    "    if \"fruit\" in kwargs:\n",
    "        print(\"my fruit of choice is {}\".format(kwargs[\"fruit\"]))\n",
    "    else:\n",
    "        print(\"i didnt find any fruit here\")\n",
    "\n",
    "        \n",
    "fun(fruit='apple', veggie='lettuce')\n",
    "fun(bat=\"ball\")"
   ]
  },
  {
   "cell_type": "markdown",
   "id": "1e2ff891",
   "metadata": {},
   "source": [
    "# args + kwargs example"
   ]
  },
  {
   "cell_type": "code",
   "execution_count": 20,
   "id": "fa9d5254",
   "metadata": {},
   "outputs": [
    {
     "name": "stdout",
     "output_type": "stream",
     "text": [
      "args :  (10, 20, 30, 40)\n",
      "kwargs :  {'fruit': 'mango', 'food': 'eggs', 'animal': 'dog'}\n",
      "I would like 10 eggs\n"
     ]
    }
   ],
   "source": [
    "def myfunc(*args,**kwargs):\n",
    "    print(\"args : \", args)\n",
    "    print(\"kwargs : \", kwargs)\n",
    "    \n",
    "    print(\"I would like {} {}\".format(args[0],kwargs['food']))\n",
    "    \n",
    "\n",
    "myfunc(10,20,30,40,fruit=\"mango\",food=\"eggs\",animal=\"dog\")"
   ]
  }
 ],
 "metadata": {
  "kernelspec": {
   "display_name": "Python 3",
   "language": "python",
   "name": "python3"
  },
  "language_info": {
   "codemirror_mode": {
    "name": "ipython",
    "version": 3
   },
   "file_extension": ".py",
   "mimetype": "text/x-python",
   "name": "python",
   "nbconvert_exporter": "python",
   "pygments_lexer": "ipython3",
   "version": "3.8.8"
  }
 },
 "nbformat": 4,
 "nbformat_minor": 5
}
